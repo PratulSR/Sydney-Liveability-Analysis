{
 "cells": [
  {
   "cell_type": "code",
   "execution_count": 1,
   "metadata": {},
   "outputs": [
    {
     "data": {
      "text/html": [
       "\n",
       "    <style> body {font-family: \"Roboto Condensed Light\", \"Roboto Condensed\";} h2 {padding: 10px 12px; background-color: #E64626; position: static; color: #ffffff; font-size: 40px;} .text_cell_render p { font-size: 15px; } .text_cell_render h1 { font-size: 30px; } h1 {padding: 10px 12px; background-color: #E64626; color: #ffffff; font-size: 40px;} .text_cell_render h3 { padding: 10px 12px; background-color: #0148A4; position: static; color: #ffffff; font-size: 20px;} h4:before{ \n",
       "    content: \"@\"; font-family:\"Wingdings\"; font-style:regular; margin-right: 4px;} .text_cell_render h4 {padding: 8px; font-family: \"Roboto Condensed Light\"; position: static; font-style: italic; background-color: #FFB800; color: #ffffff; font-size: 18px; text-align: center; border-radius: 5px;}input[type=submit] {background-color: #E64626; border: solid; border-color: #734036; color: white; padding: 8px 16px; text-decoration: none; margin: 4px 2px; cursor: pointer; border-radius: 20px;}</style>\n",
       "    <script> code_show=true; function code_toggle() {if (code_show){$('div.input').hide();} else {$('div.input').show();} code_show = !code_show} $( document ).ready(code_toggle);</script>\n",
       "    <form action=\"javascript:code_toggle()\"><input type=\"submit\" value=\"Hide/show all code.\"></form>\n"
      ],
      "text/plain": [
       "<IPython.core.display.HTML object>"
      ]
     },
     "execution_count": 1,
     "metadata": {},
     "output_type": "execute_result"
    }
   ],
   "source": [
    "from IPython.display import HTML\n",
    "HTML('''\n",
    "    <style> body {font-family: \"Roboto Condensed Light\", \"Roboto Condensed\";} h2 {padding: 10px 12px; background-color: #E64626; position: static; color: #ffffff; font-size: 40px;} .text_cell_render p { font-size: 15px; } .text_cell_render h1 { font-size: 30px; } h1 {padding: 10px 12px; background-color: #E64626; color: #ffffff; font-size: 40px;} .text_cell_render h3 { padding: 10px 12px; background-color: #0148A4; position: static; color: #ffffff; font-size: 20px;} h4:before{ \n",
    "    content: \"@\"; font-family:\"Wingdings\"; font-style:regular; margin-right: 4px;} .text_cell_render h4 {padding: 8px; font-family: \"Roboto Condensed Light\"; position: static; font-style: italic; background-color: #FFB800; color: #ffffff; font-size: 18px; text-align: center; border-radius: 5px;}input[type=submit] {background-color: #E64626; border: solid; border-color: #734036; color: white; padding: 8px 16px; text-decoration: none; margin: 4px 2px; cursor: pointer; border-radius: 20px;}</style>\n",
    "    <script> code_show=true; function code_toggle() {if (code_show){$('div.input').hide();} else {$('div.input').show();} code_show = !code_show} $( document ).ready(code_toggle);</script>\n",
    "    <form action=\"javascript:code_toggle()\"><input type=\"submit\" value=\"Hide/show all code.\"></form>\n",
    "''')"
   ]
  },
  {
   "cell_type": "markdown",
   "metadata": {},
   "source": [
    "# Sydney Liveability Analysis"
   ]
  },
  {
   "cell_type": "markdown",
   "metadata": {},
   "source": [
    "## Group - 5  F10Adv-01"
   ]
  },
  {
   "cell_type": "code",
   "execution_count": 166,
   "metadata": {},
   "outputs": [],
   "source": [
    "import pandas as pd\n",
    "import numpy as np\n",
    "import geopandas as gpd\n",
    "import json\n",
    "from shapely.geometry import Point, Polygon, MultiPolygon\n",
    "from geoalchemy2 import Geometry, WKTElement\n",
    "import matplotlib.pyplot as plt"
   ]
  },
  {
   "cell_type": "code",
   "execution_count": 3,
   "metadata": {},
   "outputs": [],
   "source": [
    "sa2_data = gpd.read_file(\"SA2_2016_AUST/SA2_2016_AUST.shp\")"
   ]
  },
  {
   "cell_type": "code",
   "execution_count": 4,
   "metadata": {},
   "outputs": [],
   "source": [
    "break_and_enter = gpd.read_file(\"break_and_enter/BreakEnterDwelling_JanToDec2021.shp\")"
   ]
  },
  {
   "cell_type": "code",
   "execution_count": 5,
   "metadata": {},
   "outputs": [],
   "source": [
    "school_catchments_future = gpd.read_file(\"school_catchments/catchments_future.shp\")"
   ]
  },
  {
   "cell_type": "code",
   "execution_count": 6,
   "metadata": {},
   "outputs": [],
   "source": [
    "school_catchments_primary = gpd.read_file(\"school_catchments/catchments_primary.shp\")"
   ]
  },
  {
   "cell_type": "code",
   "execution_count": 7,
   "metadata": {},
   "outputs": [],
   "source": [
    "school_catchments_secondary = gpd.read_file(\"school_catchments/catchments_secondary.shp\")"
   ]
  },
  {
   "cell_type": "code",
   "execution_count": 8,
   "metadata": {},
   "outputs": [],
   "source": [
    "neighbourhoods = pd.read_csv('Neighbourhoods.csv')"
   ]
  },
  {
   "cell_type": "code",
   "execution_count": 9,
   "metadata": {},
   "outputs": [],
   "source": [
    "BusinessStats = pd.read_csv('BusinessStats.csv')"
   ]
  },
  {
   "cell_type": "code",
   "execution_count": 10,
   "metadata": {},
   "outputs": [],
   "source": [
    "Playgrounds_json = json.load(open('Playgrounds.geojson'))\n",
    "\n",
    "Playgrounds_DataFrame = pd.DataFrame(Playgrounds_json[\"features\"])\n",
    "Playgrounds_pandas_data=[]\n",
    "for index, row in Playgrounds_DataFrame.iterrows():\n",
    "    append_row = [row[\"geometry\"][\"coordinates\"][0],row[\"geometry\"][\"coordinates\"][1],row[\"properties\"][\"Name\"]]\n",
    "    Playgrounds_pandas_data.append(append_row)\n",
    "    \n",
    "Playgrounds = pd.DataFrame(Playgrounds_pandas_data, columns = ['X', 'Y','Name'])\n",
    "Playgrounds['geom'] = gpd.points_from_xy(Playgrounds.X, Playgrounds.Y)  # creating the geometry column\n",
    "Playgrounds = Playgrounds.drop(columns=['X', 'Y'])  # removing the old latitude/longitude fields"
   ]
  },
  {
   "cell_type": "code",
   "execution_count": 11,
   "metadata": {},
   "outputs": [],
   "source": [
    "Lights_json = json.load(open('Lights.geojson'))\n",
    "Lights_DataFrame = pd.DataFrame(Lights_json[\"features\"])\n",
    "Lights_pandas_data=[]\n",
    "for index, row in Lights_DataFrame.iterrows():\n",
    "    append_row = [row[\"geometry\"][\"coordinates\"][0],row[\"geometry\"][\"coordinates\"][1],row[\"properties\"][\"Location\"]]\n",
    "    Lights_pandas_data.append(append_row)\n",
    "    \n",
    "Lights = pd.DataFrame(Lights_pandas_data, columns = ['X', 'Y','Location'])\n",
    "Lights['geom'] = gpd.points_from_xy(Lights.X, Lights.Y)  # creating the geometry column\n",
    "Lights = Lights.drop(columns=['X', 'Y'])  # removing the old latitude/longitude fields"
   ]
  },
  {
   "cell_type": "code",
   "execution_count": 12,
   "metadata": {},
   "outputs": [],
   "source": [
    "sa2_data = sa2_data.drop(sa2_data[(sa2_data['SA4_NAME16'].str.contains(\"No usual address\", case=False)) |\n",
    "                                  (sa2_data['SA4_NAME16'].str.contains(\"Migratory - Offshore - Shipping\", case=False)) |\n",
    "                         sa2_data['SA3_NAME16'].str.contains(\"No usual address\", case=False) |\n",
    "                         sa2_data['SA3_NAME16'].str.contains(\"Migratory - Offshore - Shipping\", case=False) |\n",
    "                         sa2_data['SA2_NAME16'].str.contains(\"No usual address\", case=False) | \n",
    "                         sa2_data['SA2_NAME16'].str.contains(\"Migratory - Offshore - Shipping\", case=False) | \n",
    "                         sa2_data['GCC_NAME16'].str.contains(\"No usual address\", case=False) | \n",
    "                         sa2_data['GCC_NAME16'].str.contains(\"Migratory - Offshore - Shipping\", case=False) |\n",
    "                         sa2_data['GCC_NAME16'].str.contains(\"Rest of\", case=False)].index\n",
    "                        )\n",
    "\n",
    "sa2_data = sa2_data[sa2_data['GCC_NAME16']=='Greater Sydney'] "
   ]
  },
  {
   "cell_type": "code",
   "execution_count": 13,
   "metadata": {},
   "outputs": [],
   "source": [
    "neighbourhoods = neighbourhoods.drop(neighbourhoods[neighbourhoods.isnull().T.any()].index)"
   ]
  },
  {
   "cell_type": "code",
   "execution_count": 14,
   "metadata": {},
   "outputs": [],
   "source": [
    "for index, row in neighbourhoods.iterrows():\n",
    "    old_value = row['population']\n",
    "    old_value_split = str(row['population']).split(\",\")\n",
    "    new_value = \"\"\n",
    "    for i in old_value_split :\n",
    "        new_value = new_value+i\n",
    "    neighbourhoods['population'] = neighbourhoods['population'].replace([old_value],int(new_value))"
   ]
  },
  {
   "cell_type": "code",
   "execution_count": 15,
   "metadata": {},
   "outputs": [],
   "source": [
    "from sqlalchemy import create_engine\n",
    "import psycopg2\n",
    "import psycopg2.extras\n",
    "import json\n",
    "\n",
    "credentials = \"Credentials.json\"\n",
    "\n",
    "def pgconnect(credential_filepath, db_schema=\"public\"):\n",
    "    with open(credential_filepath) as f:\n",
    "        db_conn_dict = json.load(f)\n",
    "        host       = db_conn_dict['host']\n",
    "        db_user    = db_conn_dict['user']\n",
    "        db_pw      = db_conn_dict['password']\n",
    "        default_db = db_conn_dict['user']\n",
    "        try:\n",
    "            db = create_engine('postgresql+psycopg2://'+db_user+':'+db_pw+'@'+host+'/'+default_db, echo=False)\n",
    "            conn = db.connect()\n",
    "            print('Connected successfully.')\n",
    "        except Exception as e:\n",
    "            print(\"Unable to connect to the database.\")\n",
    "            print(e)\n",
    "            db, conn = None, None\n",
    "        return db,conn\n",
    "\n",
    "def query(conn, sqlcmd, args=None, df=True):\n",
    "    result = pd.DataFrame() if df else None\n",
    "    try:\n",
    "        if df:\n",
    "            result = pd.read_sql_query(sqlcmd, conn, params=args)\n",
    "        else:\n",
    "            result = conn.execute(sqlcmd, args).fetchall()\n",
    "            result = result[0] if len(result) == 1 else result\n",
    "    except Exception as e:\n",
    "        print(\"Error encountered: \", e, sep='\\n')\n",
    "    return result"
   ]
  },
  {
   "cell_type": "code",
   "execution_count": 16,
   "metadata": {},
   "outputs": [
    {
     "name": "stdout",
     "output_type": "stream",
     "text": [
      "Connected successfully.\n"
     ]
    }
   ],
   "source": [
    "db, conn = pgconnect(credentials)"
   ]
  },
  {
   "cell_type": "code",
   "execution_count": 17,
   "metadata": {},
   "outputs": [
    {
     "data": {
      "text/html": [
       "<div>\n",
       "<style scoped>\n",
       "    .dataframe tbody tr th:only-of-type {\n",
       "        vertical-align: middle;\n",
       "    }\n",
       "\n",
       "    .dataframe tbody tr th {\n",
       "        vertical-align: top;\n",
       "    }\n",
       "\n",
       "    .dataframe thead th {\n",
       "        text-align: right;\n",
       "    }\n",
       "</style>\n",
       "<table border=\"1\" class=\"dataframe\">\n",
       "  <thead>\n",
       "    <tr style=\"text-align: right;\">\n",
       "      <th></th>\n",
       "      <th>postgis_version</th>\n",
       "    </tr>\n",
       "  </thead>\n",
       "  <tbody>\n",
       "    <tr>\n",
       "      <th>0</th>\n",
       "      <td>3.0 USE_GEOS=1 USE_PROJ=1 USE_STATS=1</td>\n",
       "    </tr>\n",
       "  </tbody>\n",
       "</table>\n",
       "</div>"
      ],
      "text/plain": [
       "                         postgis_version\n",
       "0  3.0 USE_GEOS=1 USE_PROJ=1 USE_STATS=1"
      ]
     },
     "execution_count": 17,
     "metadata": {},
     "output_type": "execute_result"
    }
   ],
   "source": [
    "query(conn, \"select PostGIS_Version()\")"
   ]
  },
  {
   "cell_type": "code",
   "execution_count": 18,
   "metadata": {},
   "outputs": [],
   "source": [
    "srid = 4326\n",
    "Playgrounds['geom'] = Playgrounds['geom'].apply(lambda x: WKTElement(x.wkt, srid=srid))\n",
    "Lights['geom'] = Lights['geom'].apply(lambda x: WKTElement(x.wkt, srid=srid))"
   ]
  },
  {
   "cell_type": "code",
   "execution_count": 19,
   "metadata": {},
   "outputs": [],
   "source": [
    "sa2_data = sa2_data[['SA2_MAIN16', 'SA2_NAME16','SA3_NAME16','AREASQKM16','geometry']].copy()\n",
    "break_and_enter = break_and_enter[['OBJECTID', 'Density','ORIG_FID','Shape_Area','geometry']].copy()\n",
    "school_catchments_future = school_catchments_future[['USE_ID','CATCH_TYPE', 'USE_DESC','geometry']].copy()\n",
    "school_catchments_primary = school_catchments_primary[['USE_ID', 'USE_DESC','geometry']].copy()\n",
    "school_catchments_secondary = school_catchments_secondary[['USE_ID', 'USE_DESC','geometry']].copy()\n",
    "neighbourhoods = neighbourhoods[['area_id','land_area','population', 'number_of_dwellings','number_of_businesses','median_annual_household_income','avg_monthly_rent','0-4','5-9','10-14','15-19']].copy()\n",
    "BusinessStats = BusinessStats[['area_id','number_of_businesses','accommodation_and_food_services','retail_trade','agriculture_forestry_and_fishing','health_care_and_social_assistance','public_administration_and_safety','transport_postal_and_warehousing']].copy()\n",
    "Lights = Lights[['Location', 'geom']].copy()\n",
    "Playgrounds = Playgrounds[['Name', 'geom']].copy()"
   ]
  },
  {
   "cell_type": "code",
   "execution_count": 20,
   "metadata": {},
   "outputs": [],
   "source": [
    "def create_wkt_element(geom, srid):\n",
    "    if geom!=None :\n",
    "        if geom.geom_type == 'Polygon':\n",
    "            geom = MultiPolygon([geom])\n",
    "        return WKTElement(geom.wkt, srid)\n",
    "\n",
    "# sa2_data_og = sa2_data.copy()  # creating a copy of the original for later\n",
    "sa2_data['geom'] = sa2_data['geometry'].apply(lambda x: create_wkt_element(geom=x,srid=srid))  # applying the function\n",
    "sa2_data = sa2_data.drop(columns=\"geometry\")  # deleting the old copy\n",
    "\n",
    "# break_and_enter_og = break_and_enter.copy()  # creating a copy of the original for later\n",
    "break_and_enter['geom'] = break_and_enter['geometry'].apply(lambda x: create_wkt_element(geom=x,srid=srid))  # applying the function\n",
    "break_and_enter = break_and_enter.drop(columns=\"geometry\")  # deleting the old copy\n",
    "\n",
    "# school_catchments_future_og = school_catchments_future.copy()  # creating a copy of the original for later\n",
    "school_catchments_future['geom'] = school_catchments_future['geometry'].apply(lambda x: create_wkt_element(geom=x,srid=srid))  # applying the function\n",
    "school_catchments_future = school_catchments_future.drop(columns=\"geometry\")  # deleting the old copy\n",
    "\n",
    "# school_catchments_primary_og = school_catchments_primary.copy()  # creating a copy of the original for later\n",
    "school_catchments_primary['geom'] = school_catchments_primary['geometry'].apply(lambda x: create_wkt_element(geom=x,srid=srid))  # applying the function\n",
    "school_catchments_primary = school_catchments_primary.drop(columns=\"geometry\")  # deleting the old copy\n",
    "\n",
    "# school_catchments_secondary_og = school_catchments_secondary.copy()  # creating a copy of the original for later\n",
    "school_catchments_secondary['geom'] = school_catchments_secondary['geometry'].apply(lambda x: create_wkt_element(geom=x,srid=srid))  # applying the function\n",
    "school_catchments_secondary = school_catchments_secondary.drop(columns=\"geometry\")  # deleting the old copy"
   ]
  },
  {
   "cell_type": "code",
   "execution_count": 21,
   "metadata": {},
   "outputs": [],
   "source": [
    "# school_catchments_future.plot(figsize=(10, 10))\n",
    "# break_and_enter"
   ]
  },
  {
   "cell_type": "code",
   "execution_count": 22,
   "metadata": {},
   "outputs": [
    {
     "data": {
      "text/plain": [
       "<sqlalchemy.engine.result.ResultProxy at 0x7f38e40517d0>"
      ]
     },
     "execution_count": 22,
     "metadata": {},
     "output_type": "execute_result"
    }
   ],
   "source": [
    "# conn.execute(\"\"\"\n",
    "# CREATE SCHEMA IF NOT EXISTS Sydney_Liveability_Analysis;\n",
    "# SET search_path TO Sydney_Liveability_Analysis;\n",
    "# \"\"\")\n",
    "\n",
    "# sa2_data\n",
    "conn.execute(\"\"\"\n",
    "DROP TABLE IF EXISTS sa2_data;\n",
    "CREATE TABLE sa2_data (\n",
    "    \"SA2_MAIN16\" INTEGER,\n",
    "    \"SA2_NAME16\" VARCHAR(80),\n",
    "    \"SA3_NAME16\" VARCHAR(80),\n",
    "    \"AREASQKM16\" NUMERIC,\n",
    "    \"geom\" GEOMETRY(MULTIPOLYGON,4326)\n",
    ");\"\"\"\n",
    ")\n",
    "\n",
    "# neighbourhood\n",
    "conn.execute(\"\"\"\n",
    "DROP TABLE IF EXISTS neighbourhood;\n",
    "CREATE TABLE neighbourhood (\n",
    "    \"area_id\" INTEGER,\n",
    "    \"land_area\" NUMERIC,\n",
    "    \"population\" INTEGER,\n",
    "    \"number_of_dwellings\" VARCHAR(80),\n",
    "    \"number_of_businesses\" INTEGER,\n",
    "    \"median_annual_household_income\" NUMERIC,\n",
    "    \"avg_monthly_rent\" INTEGER,\n",
    "    \"0-4\" INTEGER,\n",
    "    \"5-9\" INTEGER,\n",
    "    \"10-14\" INTEGER,\n",
    "    \"15-19\" INTEGER\n",
    ");\"\"\"\n",
    ")\n",
    "\n",
    "# break and enter\n",
    "conn.execute(\"\"\"\n",
    "DROP TABLE IF EXISTS break_and_enter;\n",
    "CREATE TABLE break_and_enter (\n",
    "    \"OBJECTID\" INTEGER,\n",
    "    \"Density\" VARCHAR(80),\n",
    "    \"ORIG_FID\" INTEGER,\n",
    "    \"Shape_Area\" NUMERIC,\n",
    "    \"geom\" GEOMETRY(MULTIPOLYGON,4326)\n",
    ");\"\"\"\n",
    ")\n",
    "\n",
    "# school_catchments_future\n",
    "conn.execute(\"\"\"\n",
    "DROP TABLE IF EXISTS school_catchments_future;\n",
    "CREATE TABLE school_catchments_future (\n",
    "    \"USE_ID\" INTEGER, \n",
    "    \"CATCH_TYPE\" VARCHAR(80), \n",
    "    \"USE_DESC\" VARCHAR(80),\n",
    "    \"geom\" GEOMETRY(MULTIPOLYGON,4326)\n",
    "    \n",
    ");\"\"\"\n",
    ")\n",
    "\n",
    "# school_catchments_primary\n",
    "conn.execute(\"\"\"\n",
    "DROP TABLE IF EXISTS school_catchments_primary;\n",
    "CREATE TABLE school_catchments_primary (\n",
    "    \"USE_ID\" INTEGER,\n",
    "    \"USE_DESC\" VARCHAR(80),\n",
    "    \"geom\" GEOMETRY(MULTIPOLYGON,4326)\n",
    "    \n",
    ");\"\"\"\n",
    ")\n",
    "\n",
    "# school_catchments_secondary\n",
    "conn.execute(\"\"\"\n",
    "DROP TABLE IF EXISTS school_catchments_secondary;\n",
    "CREATE TABLE school_catchments_secondary (\n",
    "    \"USE_ID\" INTEGER,\n",
    "    \"USE_DESC\" VARCHAR(80),\n",
    "    \"geom\" GEOMETRY(MULTIPOLYGON,4326)\n",
    "    \n",
    ");\"\"\"\n",
    ")\n",
    "\n",
    "\n",
    "# BusinessStats\n",
    "conn.execute(\"\"\"\n",
    "DROP TABLE IF EXISTS businessstats;\n",
    "CREATE TABLE businessstats (\n",
    "    \"area_id\" INTEGER,\n",
    "    \"number_of_businesses\" INTEGER,\n",
    "    \"accommodation_and_food_services\" INTEGER,\n",
    "    \"retail_trade\" INTEGER,\n",
    "    \"agriculture_forestry_and_fishing\" INTEGER,\n",
    "    \"health_care_and_social_assistance\" INTEGER,\n",
    "    \"public_administration_and_safety\" INTEGER,\n",
    "    \"transport_postal_and_warehousing\" INTEGER\n",
    ");\"\"\"\n",
    ")\n",
    "\n",
    "# Playgrounds\n",
    "conn.execute(\"\"\"\n",
    "DROP TABLE IF EXISTS playgrounds;\n",
    "CREATE TABLE playgrounds (\n",
    "   \"Name\" VARCHAR(200),\n",
    "   geom GEOMETRY(POINT, 4326)\n",
    ");\"\"\"\n",
    ")\n",
    "\n",
    "# Lights\n",
    "conn.execute(\"\"\"\n",
    "DROP TABLE IF EXISTS lights;\n",
    "CREATE TABLE lights (\n",
    "   \"Location\" VARCHAR(200),\n",
    "   geom GEOMETRY(POINT, 4326)\n",
    ");\"\"\"\n",
    ")\n"
   ]
  },
  {
   "cell_type": "code",
   "execution_count": 23,
   "metadata": {},
   "outputs": [],
   "source": [
    "sa2_data.to_sql('sa2_data', conn, if_exists='append', index=False, dtype={'geom': Geometry('MULTIPOLYGON', srid)})"
   ]
  },
  {
   "cell_type": "code",
   "execution_count": 24,
   "metadata": {},
   "outputs": [],
   "source": [
    "neighbourhoods.to_sql('neighbourhood', conn, if_exists='append', index=False)"
   ]
  },
  {
   "cell_type": "code",
   "execution_count": 25,
   "metadata": {},
   "outputs": [],
   "source": [
    "break_and_enter.to_sql(\"break_and_enter\", conn, if_exists='append', index=False, dtype={'geom': Geometry('MULTIPOLYGON', srid)})"
   ]
  },
  {
   "cell_type": "code",
   "execution_count": 26,
   "metadata": {},
   "outputs": [],
   "source": [
    "school_catchments_future.to_sql(\"school_catchments_future\", conn, if_exists='append', index=False, dtype={'geom': Geometry('MULTIPOLYGON', srid)})"
   ]
  },
  {
   "cell_type": "code",
   "execution_count": 27,
   "metadata": {},
   "outputs": [],
   "source": [
    "school_catchments_primary.to_sql(\"school_catchments_primary\", conn, if_exists='append', index=False, dtype={'geom': Geometry('MULTIPOLYGON', srid)})"
   ]
  },
  {
   "cell_type": "code",
   "execution_count": 28,
   "metadata": {},
   "outputs": [],
   "source": [
    "school_catchments_secondary.to_sql(\"school_catchments_secondary\", conn, if_exists='append', index=False, dtype={'geom': Geometry('MULTIPOLYGON', srid)})"
   ]
  },
  {
   "cell_type": "code",
   "execution_count": 29,
   "metadata": {},
   "outputs": [],
   "source": [
    "BusinessStats.to_sql('businessstats', conn, if_exists='append', index=False)"
   ]
  },
  {
   "cell_type": "code",
   "execution_count": 30,
   "metadata": {},
   "outputs": [],
   "source": [
    "Lights.to_sql('lights', conn, if_exists='append', index=False, dtype={'geom': Geometry('POINT', srid)})"
   ]
  },
  {
   "cell_type": "code",
   "execution_count": 31,
   "metadata": {},
   "outputs": [],
   "source": [
    "Playgrounds.to_sql('playgrounds', conn, if_exists='append', index=False, dtype={'geom': Geometry('POINT', srid)})"
   ]
  },
  {
   "cell_type": "code",
   "execution_count": 139,
   "metadata": {},
   "outputs": [
    {
     "data": {
      "text/html": [
       "<div>\n",
       "<style scoped>\n",
       "    .dataframe tbody tr th:only-of-type {\n",
       "        vertical-align: middle;\n",
       "    }\n",
       "\n",
       "    .dataframe tbody tr th {\n",
       "        vertical-align: top;\n",
       "    }\n",
       "\n",
       "    .dataframe thead th {\n",
       "        text-align: right;\n",
       "    }\n",
       "</style>\n",
       "<table border=\"1\" class=\"dataframe\">\n",
       "  <thead>\n",
       "    <tr style=\"text-align: right;\">\n",
       "      <th></th>\n",
       "      <th>OBJECTID</th>\n",
       "      <th>Density</th>\n",
       "      <th>ORIG_FID</th>\n",
       "      <th>Shape_Area</th>\n",
       "      <th>geom</th>\n",
       "    </tr>\n",
       "  </thead>\n",
       "  <tbody>\n",
       "    <tr>\n",
       "      <th>0</th>\n",
       "      <td>1</td>\n",
       "      <td>Low Density</td>\n",
       "      <td>1</td>\n",
       "      <td>0.000006</td>\n",
       "      <td>0106000020E61000000100000001030000000100000015...</td>\n",
       "    </tr>\n",
       "    <tr>\n",
       "      <th>1</th>\n",
       "      <td>2</td>\n",
       "      <td>Low Density</td>\n",
       "      <td>1</td>\n",
       "      <td>0.000015</td>\n",
       "      <td>0106000020E6100000010000000103000000010000001D...</td>\n",
       "    </tr>\n",
       "    <tr>\n",
       "      <th>2</th>\n",
       "      <td>3</td>\n",
       "      <td>Low Density</td>\n",
       "      <td>1</td>\n",
       "      <td>0.000002</td>\n",
       "      <td>0106000020E61000000100000001030000000100000007...</td>\n",
       "    </tr>\n",
       "    <tr>\n",
       "      <th>3</th>\n",
       "      <td>4</td>\n",
       "      <td>Low Density</td>\n",
       "      <td>1</td>\n",
       "      <td>0.000006</td>\n",
       "      <td>0106000020E6100000010000000103000000010000000E...</td>\n",
       "    </tr>\n",
       "    <tr>\n",
       "      <th>4</th>\n",
       "      <td>5</td>\n",
       "      <td>Low Density</td>\n",
       "      <td>1</td>\n",
       "      <td>0.000003</td>\n",
       "      <td>0106000020E6100000010000000103000000010000000F...</td>\n",
       "    </tr>\n",
       "    <tr>\n",
       "      <th>...</th>\n",
       "      <td>...</td>\n",
       "      <td>...</td>\n",
       "      <td>...</td>\n",
       "      <td>...</td>\n",
       "      <td>...</td>\n",
       "    </tr>\n",
       "    <tr>\n",
       "      <th>2589</th>\n",
       "      <td>2590</td>\n",
       "      <td>High Density</td>\n",
       "      <td>3</td>\n",
       "      <td>0.000011</td>\n",
       "      <td>0106000020E61000000100000001030000000100000016...</td>\n",
       "    </tr>\n",
       "    <tr>\n",
       "      <th>2590</th>\n",
       "      <td>2591</td>\n",
       "      <td>High Density</td>\n",
       "      <td>3</td>\n",
       "      <td>0.000029</td>\n",
       "      <td>0106000020E61000000100000001030000000100000028...</td>\n",
       "    </tr>\n",
       "    <tr>\n",
       "      <th>2591</th>\n",
       "      <td>2592</td>\n",
       "      <td>High Density</td>\n",
       "      <td>3</td>\n",
       "      <td>0.000002</td>\n",
       "      <td>0106000020E61000000100000001030000000100000009...</td>\n",
       "    </tr>\n",
       "    <tr>\n",
       "      <th>2592</th>\n",
       "      <td>2593</td>\n",
       "      <td>High Density</td>\n",
       "      <td>3</td>\n",
       "      <td>0.000044</td>\n",
       "      <td>0106000020E6100000010000000103000000010000004D...</td>\n",
       "    </tr>\n",
       "    <tr>\n",
       "      <th>2593</th>\n",
       "      <td>2594</td>\n",
       "      <td>High Density</td>\n",
       "      <td>3</td>\n",
       "      <td>0.000014</td>\n",
       "      <td>0106000020E61000000100000001030000000100000012...</td>\n",
       "    </tr>\n",
       "  </tbody>\n",
       "</table>\n",
       "<p>2594 rows × 5 columns</p>\n",
       "</div>"
      ],
      "text/plain": [
       "      OBJECTID       Density  ORIG_FID  Shape_Area  \\\n",
       "0            1   Low Density         1    0.000006   \n",
       "1            2   Low Density         1    0.000015   \n",
       "2            3   Low Density         1    0.000002   \n",
       "3            4   Low Density         1    0.000006   \n",
       "4            5   Low Density         1    0.000003   \n",
       "...        ...           ...       ...         ...   \n",
       "2589      2590  High Density         3    0.000011   \n",
       "2590      2591  High Density         3    0.000029   \n",
       "2591      2592  High Density         3    0.000002   \n",
       "2592      2593  High Density         3    0.000044   \n",
       "2593      2594  High Density         3    0.000014   \n",
       "\n",
       "                                                   geom  \n",
       "0     0106000020E61000000100000001030000000100000015...  \n",
       "1     0106000020E6100000010000000103000000010000001D...  \n",
       "2     0106000020E61000000100000001030000000100000007...  \n",
       "3     0106000020E6100000010000000103000000010000000E...  \n",
       "4     0106000020E6100000010000000103000000010000000F...  \n",
       "...                                                 ...  \n",
       "2589  0106000020E61000000100000001030000000100000016...  \n",
       "2590  0106000020E61000000100000001030000000100000028...  \n",
       "2591  0106000020E61000000100000001030000000100000009...  \n",
       "2592  0106000020E6100000010000000103000000010000004D...  \n",
       "2593  0106000020E61000000100000001030000000100000012...  \n",
       "\n",
       "[2594 rows x 5 columns]"
      ]
     },
     "execution_count": 139,
     "metadata": {},
     "output_type": "execute_result"
    }
   ],
   "source": [
    "# query(conn, \"\"\"select * from sa2_data where \"SA2_NAME16\" = 'Cobbitty - Leppington '\"\"\") # 312 Rows\n",
    "# query(conn, \"select * from neighbourhood\" where ) # 322 Rows\n",
    "# query(conn, \"select * from break_and_enter\") # 2594 Rows\n",
    "# query(conn, \"select * from school_catchments_future\") # 43 Rows\n",
    "# query(conn, \"select * from school_catchments_primary\") # 1666 Rows\n",
    "# query(conn, \"select * from school_catchments_secondary\") # 435 Rows\n",
    "# query(conn, \"select * from businessstats\") # 2301 Rows\n",
    "# query(conn, \"select * from lights\") # 8433 Rows\n",
    "# query(conn, \"select * from playgrounds\") # 151 Rows"
   ]
  },
  {
   "cell_type": "code",
   "execution_count": 33,
   "metadata": {
    "collapsed": true
   },
   "outputs": [
    {
     "data": {
      "text/html": [
       "<div>\n",
       "<style scoped>\n",
       "    .dataframe tbody tr th:only-of-type {\n",
       "        vertical-align: middle;\n",
       "    }\n",
       "\n",
       "    .dataframe tbody tr th {\n",
       "        vertical-align: top;\n",
       "    }\n",
       "\n",
       "    .dataframe thead th {\n",
       "        text-align: right;\n",
       "    }\n",
       "</style>\n",
       "<table border=\"1\" class=\"dataframe\">\n",
       "  <thead>\n",
       "    <tr style=\"text-align: right;\">\n",
       "      <th></th>\n",
       "      <th>USE_ID</th>\n",
       "      <th>USE_DESC</th>\n",
       "      <th>geom</th>\n",
       "    </tr>\n",
       "  </thead>\n",
       "  <tbody>\n",
       "    <tr>\n",
       "      <th>0</th>\n",
       "      <td>2838</td>\n",
       "      <td>Parklea PS</td>\n",
       "      <td>0106000020E61000000100000001030000000100000078...</td>\n",
       "    </tr>\n",
       "    <tr>\n",
       "      <th>1</th>\n",
       "      <td>3943</td>\n",
       "      <td>Gordon WPS</td>\n",
       "      <td>0106000020E6100000010000000103000000010000006F...</td>\n",
       "    </tr>\n",
       "    <tr>\n",
       "      <th>2</th>\n",
       "      <td>2404</td>\n",
       "      <td>Lindfield EPS</td>\n",
       "      <td>0106000020E610000001000000010300000001000000BE...</td>\n",
       "    </tr>\n",
       "    <tr>\n",
       "      <th>3</th>\n",
       "      <td>1498</td>\n",
       "      <td>Brisbania PS</td>\n",
       "      <td>0106000020E6100000010000000103000000010000001F...</td>\n",
       "    </tr>\n",
       "    <tr>\n",
       "      <th>4</th>\n",
       "      <td>3373</td>\n",
       "      <td>Wangi Wangi PS</td>\n",
       "      <td>0106000020E6100000010000000103000000010000001B...</td>\n",
       "    </tr>\n",
       "    <tr>\n",
       "      <th>...</th>\n",
       "      <td>...</td>\n",
       "      <td>...</td>\n",
       "      <td>...</td>\n",
       "    </tr>\n",
       "    <tr>\n",
       "      <th>2140</th>\n",
       "      <td>4680</td>\n",
       "      <td>Googong PS</td>\n",
       "      <td>0106000020E61000000100000001030000000100000072...</td>\n",
       "    </tr>\n",
       "    <tr>\n",
       "      <th>2141</th>\n",
       "      <td>2540</td>\n",
       "      <td>Michelago PS</td>\n",
       "      <td>0106000020E610000001000000010300000001000000BF...</td>\n",
       "    </tr>\n",
       "    <tr>\n",
       "      <th>2142</th>\n",
       "      <td>8922</td>\n",
       "      <td>Jerrabomberra HS</td>\n",
       "      <td>0106000020E61000000100000001030000000100000020...</td>\n",
       "    </tr>\n",
       "    <tr>\n",
       "      <th>2143</th>\n",
       "      <td>8919</td>\n",
       "      <td>Bungendore HS</td>\n",
       "      <td>0106000020E610000001000000010300000001000000D7...</td>\n",
       "    </tr>\n",
       "    <tr>\n",
       "      <th>2144</th>\n",
       "      <td>8216</td>\n",
       "      <td>Queanbeyan HS</td>\n",
       "      <td>0106000020E61000000100000001030000000100000043...</td>\n",
       "    </tr>\n",
       "  </tbody>\n",
       "</table>\n",
       "<p>2145 rows × 3 columns</p>\n",
       "</div>"
      ],
      "text/plain": [
       "      USE_ID          USE_DESC  \\\n",
       "0       2838        Parklea PS   \n",
       "1       3943        Gordon WPS   \n",
       "2       2404     Lindfield EPS   \n",
       "3       1498      Brisbania PS   \n",
       "4       3373    Wangi Wangi PS   \n",
       "...      ...               ...   \n",
       "2140    4680        Googong PS   \n",
       "2141    2540      Michelago PS   \n",
       "2142    8922  Jerrabomberra HS   \n",
       "2143    8919     Bungendore HS   \n",
       "2144    8216     Queanbeyan HS   \n",
       "\n",
       "                                                   geom  \n",
       "0     0106000020E61000000100000001030000000100000078...  \n",
       "1     0106000020E6100000010000000103000000010000006F...  \n",
       "2     0106000020E610000001000000010300000001000000BE...  \n",
       "3     0106000020E6100000010000000103000000010000001F...  \n",
       "4     0106000020E6100000010000000103000000010000001B...  \n",
       "...                                                 ...  \n",
       "2140  0106000020E61000000100000001030000000100000072...  \n",
       "2141  0106000020E610000001000000010300000001000000BF...  \n",
       "2142  0106000020E61000000100000001030000000100000020...  \n",
       "2143  0106000020E610000001000000010300000001000000D7...  \n",
       "2144  0106000020E61000000100000001030000000100000043...  \n",
       "\n",
       "[2145 rows x 3 columns]"
      ]
     },
     "execution_count": 33,
     "metadata": {},
     "output_type": "execute_result"
    }
   ],
   "source": [
    "# Combining the 3 school catchment tables into one\n",
    "sql=\"\"\"\n",
    "DROP TABLE IF EXISTS school_catchments_combined;\n",
    "CREATE TABLE school_catchments_combined (\n",
    "    \"USE_ID\" INTEGER,\n",
    "    \"USE_DESC\" VARCHAR(80),\n",
    "    \"geom\" GEOMETRY(MULTIPOLYGON,4326)\n",
    ");\n",
    "\n",
    "INSERT INTO school_catchments_combined(\"USE_ID\",\"USE_DESC\",\"geom\")\n",
    "    SELECT * FROM school_catchments_primary\n",
    "    UNION ALL\n",
    "    SELECT * FROM school_catchments_secondary\n",
    "    UNION ALL\n",
    "    SELECT \"USE_ID\",\"USE_DESC\",\"geom\" FROM school_catchments_future\n",
    "    ;\n",
    "\"\"\"\n",
    "# SELECT * FROM school_catchments_combined\n",
    "# \"\"\"\n",
    "\n",
    "query(conn,sql)"
   ]
  },
  {
   "cell_type": "code",
   "execution_count": 67,
   "metadata": {},
   "outputs": [
    {
     "data": {
      "text/html": [
       "<div>\n",
       "<style scoped>\n",
       "    .dataframe tbody tr th:only-of-type {\n",
       "        vertical-align: middle;\n",
       "    }\n",
       "\n",
       "    .dataframe tbody tr th {\n",
       "        vertical-align: top;\n",
       "    }\n",
       "\n",
       "    .dataframe thead th {\n",
       "        text-align: right;\n",
       "    }\n",
       "</style>\n",
       "<table border=\"1\" class=\"dataframe\">\n",
       "  <thead>\n",
       "    <tr style=\"text-align: right;\">\n",
       "      <th></th>\n",
       "      <th>SA2_NAME16</th>\n",
       "      <th>sz</th>\n",
       "    </tr>\n",
       "  </thead>\n",
       "  <tbody>\n",
       "    <tr>\n",
       "      <th>0</th>\n",
       "      <td>Badgerys Creek</td>\n",
       "      <td>17.174799</td>\n",
       "    </tr>\n",
       "    <tr>\n",
       "      <th>1</th>\n",
       "      <td>Chullora</td>\n",
       "      <td>0.761518</td>\n",
       "    </tr>\n",
       "    <tr>\n",
       "      <th>2</th>\n",
       "      <td>Calga - Kulnura</td>\n",
       "      <td>0.461268</td>\n",
       "    </tr>\n",
       "    <tr>\n",
       "      <th>3</th>\n",
       "      <td>Bilpin - Colo - St Albans</td>\n",
       "      <td>0.374004</td>\n",
       "    </tr>\n",
       "    <tr>\n",
       "      <th>4</th>\n",
       "      <td>Jilliby - Yarramalong</td>\n",
       "      <td>0.264682</td>\n",
       "    </tr>\n",
       "    <tr>\n",
       "      <th>...</th>\n",
       "      <td>...</td>\n",
       "      <td>...</td>\n",
       "    </tr>\n",
       "    <tr>\n",
       "      <th>294</th>\n",
       "      <td>Dural - Kenthurst - Wisemans Ferry</td>\n",
       "      <td>0.009089</td>\n",
       "    </tr>\n",
       "    <tr>\n",
       "      <th>295</th>\n",
       "      <td>Canterbury (North) - Ashbury</td>\n",
       "      <td>0.008353</td>\n",
       "    </tr>\n",
       "    <tr>\n",
       "      <th>296</th>\n",
       "      <td>Pitt Town - McGraths Hill</td>\n",
       "      <td>0.004028</td>\n",
       "    </tr>\n",
       "    <tr>\n",
       "      <th>297</th>\n",
       "      <td>Cromer</td>\n",
       "      <td>0.002825</td>\n",
       "    </tr>\n",
       "    <tr>\n",
       "      <th>298</th>\n",
       "      <td>Glenhaven</td>\n",
       "      <td>0.001057</td>\n",
       "    </tr>\n",
       "  </tbody>\n",
       "</table>\n",
       "<p>299 rows × 2 columns</p>\n",
       "</div>"
      ],
      "text/plain": [
       "                             SA2_NAME16         sz\n",
       "0                        Badgerys Creek  17.174799\n",
       "1                              Chullora   0.761518\n",
       "2                       Calga - Kulnura   0.461268\n",
       "3             Bilpin - Colo - St Albans   0.374004\n",
       "4                 Jilliby - Yarramalong   0.264682\n",
       "..                                  ...        ...\n",
       "294  Dural - Kenthurst - Wisemans Ferry   0.009089\n",
       "295        Canterbury (North) - Ashbury   0.008353\n",
       "296           Pitt Town - McGraths Hill   0.004028\n",
       "297                              Cromer   0.002825\n",
       "298                           Glenhaven   0.001057\n",
       "\n",
       "[299 rows x 2 columns]"
      ]
     },
     "execution_count": 67,
     "metadata": {},
     "output_type": "execute_result"
    }
   ],
   "source": [
    "sql = \"\"\"\n",
    "with Schools AS \n",
    "(SELECT AVG(Schools) AS mean,\n",
    "stddev(Schools) as sd \n",
    "FROM (SELECT 1000.0*COUNT(*)/(AVG(n.\"0-4\")+AVG(n.\"5-9\")+AVG(n.\"10-14\")+AVG(n.\"15-19\")) AS Schools\n",
    "    FROM school_catchments_combined sc, sa2_data s, neighbourhood n\n",
    "    WHERE ST_Intersects(s.geom,sc.geom)\n",
    "    AND s.\"SA2_MAIN16\" = n.\"area_id\"\n",
    "    GROUP BY s.\"SA2_NAME16\" ) b)\n",
    "\n",
    "SELECT s.\"SA2_NAME16\",abs((1000.0*COUNT(*)/(AVG(n.\"0-4\")+AVG(n.\"5-9\")+AVG(n.\"10-14\")+AVG(n.\"15-19\"))-AVG(Schools.mean))/AVG(Schools.sd)) AS SZ\n",
    "FROM school_catchments_combined sc, sa2_data s, neighbourhood n, schools\n",
    "WHERE ST_Intersects(s.geom,sc.geom)\n",
    "AND s.\"SA2_MAIN16\" = n.\"area_id\"\n",
    "GROUP BY s.\"SA2_NAME16\"\n",
    "ORDER BY sz desc;\n",
    "\"\"\"\n",
    "# SELECT s.\"SA2_NAME16\", COUNT(*), 1000.0*COUNT(*)/(AVG(n.\"0-4\")+AVG(n.\"5-9\")+AVG(n.\"10-14\")+AVG(n.\"15-19\")) AS \"Schools\", (AVG(n.\"0-4\")+AVG(n.\"5-9\")+AVG(n.\"10-14\")+AVG(n.\"15-19\")) AS \"Young people\"\n",
    "# FROM school_catchments_combined sc, sa2_data s, neighbourhood n\n",
    "# WHERE ST_Intersects(s.geom,sc.geom)\n",
    "# AND s.\"SA2_MAIN16\" = n.\"area_id\"\n",
    "# GROUP BY s.\"SA2_NAME16\"\n",
    "# ORDER BY COUNT(*) DESC\n",
    "query(conn,sql)\n",
    "# school_catchments_primary.plot(figsize=(10,10))\n",
    "# school_catchments_secondary.plot(figsize=(10,10))\n",
    "# school_catchments_primary"
   ]
  },
  {
   "cell_type": "code",
   "execution_count": 201,
   "metadata": {},
   "outputs": [
    {
     "name": "stderr",
     "output_type": "stream",
     "text": [
      "/opt/jupyterhub/lib/python3.7/site-packages/geopandas/plotting.py:335: UserWarning: The GeoSeries you are attempting to plot is empty. Nothing has been displayed.\n",
      "  UserWarning,\n"
     ]
    },
    {
     "data": {
      "text/plain": [
       "<matplotlib.axes._subplots.AxesSubplot at 0x7f38b168ddd0>"
      ]
     },
     "execution_count": 201,
     "metadata": {},
     "output_type": "execute_result"
    },
    {
     "data": {
      "image/png": "[encoded data removed]",
      "text/plain": [
       "<Figure size 720x432 with 2 Axes>"
      ]
     },
     "metadata": {
      "needs_background": "light"
     },
     "output_type": "display_data"
    }
   ],
   "source": [
    "# MAIN CODE FOR TASK-2\n",
    "sql=\"\"\"\n",
    "\n",
    "with Health AS \n",
    "(SELECT avg(1000.0*bs.\"health_care_and_social_assistance\"/n.\"population\") AS mean,\n",
    "stddev(1000.0*bs.\"health_care_and_social_assistance\"/n.\"population\") AS sd\n",
    "FROM businessstats bs, neighbourhood n\n",
    "WHERE bs.\"area_id\" = n.\"area_id\"),\n",
    "\n",
    "Retail AS\n",
    "(SELECT avg(1000.0*bs.\"retail_trade\"/n.\"population\") AS mean,\n",
    "stddev(1000.0*bs.\"retail_trade\"/n.\"population\") AS sd\n",
    "FROM businessstats bs, neighbourhood n\n",
    "WHERE bs.\"area_id\" = n.\"area_id\"),\n",
    "\n",
    "Accom AS\n",
    "(SELECT avg(1000.0*bs.\"accommodation_and_food_services\"/n.\"population\") AS mean,\n",
    "stddev(1000.0*bs.\"accommodation_and_food_services\"/n.\"population\") AS sd\n",
    "FROM businessstats bs, neighbourhood n\n",
    "WHERE bs.\"area_id\" = n.\"area_id\"),\n",
    "\n",
    "Crime AS \n",
    "(SELECT AVG(q1) AS mean,\n",
    "stddev(q1) AS sd\n",
    "FROM ( SELECT AVG(be.\"ORIG_FID\"*be.\"Shape_Area\"/s.\"AREASQKM16\")as q1\n",
    "        FROM break_and_enter be join sa2_data s ON\n",
    "        ST_Contains(s.geom,be.geom)\n",
    "        GROUP BY s.\"SA2_NAME16\") a ),\n",
    "        \n",
    "Schools AS \n",
    "(SELECT AVG(Schools) AS mean,\n",
    "stddev(Schools) as sd \n",
    "FROM (SELECT 1000.0*COUNT(*)/(AVG(n.\"0-4\")+AVG(n.\"5-9\")+AVG(n.\"10-14\")+AVG(n.\"15-19\")) AS Schools\n",
    "    FROM school_catchments_combined sc, sa2_data s, neighbourhood n\n",
    "    WHERE ST_Intersects(s.geom,sc.geom)\n",
    "    AND s.\"SA2_MAIN16\" = n.\"area_id\"\n",
    "    GROUP BY s.\"SA2_NAME16\" ) b)\n",
    "\n",
    "SELECT s.\"SA2_NAME16\",\n",
    "\n",
    "abs((1000.0*AVG(bs.\"health_care_and_social_assistance\")/AVG(n.\"population\"))-AVG(Health.mean))/AVG(Health.sd) AS HZ,\n",
    "\n",
    "abs((1000.0*AVG(bs.\"retail_trade\")/AVG(n.\"population\"))-AVG(Retail.mean))/AVG(Retail.sd) AS RZ,\n",
    "\n",
    "abs((1000.0*AVG(bs.\"accommodation_and_food_services\")/AVG(n.\"population\"))-AVG(Accom.mean))/AVG(Accom.sd) AS AZ,\n",
    "\n",
    "abs((AVG(be.\"ORIG_FID\"*be.\"Shape_Area\"/s.\"AREASQKM16\")-AVG(Crime.mean))/AVG(Crime.sd)) AS CZ,\n",
    "\n",
    "abs((1000.0*COUNT(*)/(AVG(n.\"0-4\")+AVG(n.\"5-9\")+AVG(n.\"10-14\")+AVG(n.\"15-19\"))-AVG(Schools.mean))/AVG(Schools.sd)) AS SZ,\n",
    "\n",
    "1/(1+(exp(-((abs((1000.0*AVG(bs.\"health_care_and_social_assistance\")/AVG(n.\"population\"))-AVG(Health.mean))/AVG(Health.sd))\n",
    "            +(abs((1000.0*AVG(bs.\"retail_trade\")/AVG(n.\"population\"))-AVG(Retail.mean))/AVG(Retail.sd))\n",
    "            +(abs((1000.0*AVG(bs.\"accommodation_and_food_services\")/AVG(n.\"population\"))-AVG(Accom.mean))/AVG(Accom.sd))\n",
    "            -(abs((AVG(be.\"ORIG_FID\"*be.\"Shape_Area\"/s.\"AREASQKM16\")-AVG(Crime.mean))/AVG(Crime.sd)))\n",
    "            +(abs((1000.0*COUNT(*)/(AVG(n.\"0-4\")+AVG(n.\"5-9\")+AVG(n.\"10-14\")+AVG(n.\"15-19\"))-AVG(Schools.mean))/AVG(Schools.sd))))))) AS Sigmoid\n",
    "\n",
    "FROM sa2_data s, businessstats bs, break_and_enter be, neighbourhood n,school_catchments_combined sc, Health, Retail, Accom, crime, Schools\n",
    "WHERE s.\"SA2_MAIN16\" = bs.\"area_id\"\n",
    "AND bs.\"area_id\" = n.\"area_id\"\n",
    "AND s.\"SA2_MAIN16\" = n.\"area_id\"\n",
    "AND ST_Contains(s.geom,be.geom)\n",
    "AND ST_Intersects(s.geom,sc.geom)\n",
    "GROUP BY s.\"SA2_NAME16\"\n",
    "ORDER BY sigmoid desc\n",
    ";\n",
    "\"\"\"\n",
    "# Our Results\n",
    "# results_df = query(conn,sql)\n",
    "# results_df\n",
    "\n",
    "# The common data between our result and sa2_data\n",
    "# gdf = gpd.GeoDataFrame(results_df)\n",
    "# gdf2 = gpd.read_file(\"SA2_2016_AUST/SA2_2016_AUST.shp\")\n",
    "# mg = gdf.reset_index().merge(gdf2, left_on = 'SA2_NAME16', right_on = 'SA2_NAME16') # Good\n",
    "# mg \n",
    "\n",
    "# Greater Sydney Map\n",
    "# gdf3 = gdf2[gdf2['GCC_NAME16']=='Greater Sydney'] \n",
    "# gdf3.plot(figsize=(10,10))\n",
    "# gdf3\n",
    "\n",
    "# Missing Rows Area\n",
    "# df = pd.concat([mg.drop(columns=['index', 'hz','rz','az','cz','sz','sigmoid']), gdf3])\n",
    "# gdf4 = df.drop_duplicates(keep=False)\n",
    "# # df\n",
    "# gdf4.plot()\n",
    "\n",
    "\n",
    "# q = query(conn,sql)\n",
    "\n",
    "gdf = gpd.GeoDataFrame(q)\n",
    "\n",
    "sa2_areas = gpd.read_file('SA2_2016_AUST/SA2_2016_AUST.shp')\n",
    "\n",
    "merged = gdf.set_index('SA2_NAME16').join(sa2_areas.set_index('SA2_NAME16'))\n",
    "# print(merged)\n",
    "\n",
    "fig, ax = plt.subplots(1, figsize=(10, 6))\n",
    "ax.axis('off')\n",
    "ax.set_title('sigmoid', fontdict={'fontsize': '15', 'fontweight' : '3'})\n",
    "\n",
    "merged.plot(column='sigmoid',\n",
    "            cmap='RdYlGn',\n",
    "            linewidth=0.9,\n",
    "            ax=ax,\n",
    "            edgecolor='1',\n",
    "            legend=True, missing_kwds={\n",
    "            \"color\": \"lightgrey\",\n",
    "            \"label\": \"Missing values\",},)\n"
   ]
  },
  {
   "cell_type": "code",
   "execution_count": 156,
   "metadata": {
    "collapsed": true
   },
   "outputs": [
    {
     "ename": "KeyboardInterrupt",
     "evalue": "",
     "output_type": "error",
     "traceback": [
      "\u001b[0;31m---------------------------------------------------------------------------\u001b[0m",
      "\u001b[0;31mKeyboardInterrupt\u001b[0m                         Traceback (most recent call last)",
      "\u001b[0;32m<ipython-input-156-a8112dfff380>\u001b[0m in \u001b[0;36m<module>\u001b[0;34m\u001b[0m\n\u001b[1;32m     10\u001b[0m \u001b[0;34m;\u001b[0m\u001b[0;34m\u001b[0m\u001b[0;34m\u001b[0m\u001b[0m\n\u001b[1;32m     11\u001b[0m \"\"\"\n\u001b[0;32m---> 12\u001b[0;31m \u001b[0mquery\u001b[0m\u001b[0;34m(\u001b[0m\u001b[0mconn\u001b[0m\u001b[0;34m,\u001b[0m\u001b[0msql\u001b[0m\u001b[0;34m)\u001b[0m\u001b[0;34m\u001b[0m\u001b[0;34m\u001b[0m\u001b[0m\n\u001b[0m",
      "\u001b[0;32m<ipython-input-15-6d5961795be3>\u001b[0m in \u001b[0;36mquery\u001b[0;34m(conn, sqlcmd, args, df)\u001b[0m\n\u001b[1;32m     27\u001b[0m     \u001b[0;32mtry\u001b[0m\u001b[0;34m:\u001b[0m\u001b[0;34m\u001b[0m\u001b[0;34m\u001b[0m\u001b[0m\n\u001b[1;32m     28\u001b[0m         \u001b[0;32mif\u001b[0m \u001b[0mdf\u001b[0m\u001b[0;34m:\u001b[0m\u001b[0;34m\u001b[0m\u001b[0;34m\u001b[0m\u001b[0m\n\u001b[0;32m---> 29\u001b[0;31m             \u001b[0mresult\u001b[0m \u001b[0;34m=\u001b[0m \u001b[0mpd\u001b[0m\u001b[0;34m.\u001b[0m\u001b[0mread_sql_query\u001b[0m\u001b[0;34m(\u001b[0m\u001b[0msqlcmd\u001b[0m\u001b[0;34m,\u001b[0m \u001b[0mconn\u001b[0m\u001b[0;34m,\u001b[0m \u001b[0mparams\u001b[0m\u001b[0;34m=\u001b[0m\u001b[0margs\u001b[0m\u001b[0;34m)\u001b[0m\u001b[0;34m\u001b[0m\u001b[0;34m\u001b[0m\u001b[0m\n\u001b[0m\u001b[1;32m     30\u001b[0m         \u001b[0;32melse\u001b[0m\u001b[0;34m:\u001b[0m\u001b[0;34m\u001b[0m\u001b[0;34m\u001b[0m\u001b[0m\n\u001b[1;32m     31\u001b[0m             \u001b[0mresult\u001b[0m \u001b[0;34m=\u001b[0m \u001b[0mconn\u001b[0m\u001b[0;34m.\u001b[0m\u001b[0mexecute\u001b[0m\u001b[0;34m(\u001b[0m\u001b[0msqlcmd\u001b[0m\u001b[0;34m,\u001b[0m \u001b[0margs\u001b[0m\u001b[0;34m)\u001b[0m\u001b[0;34m.\u001b[0m\u001b[0mfetchall\u001b[0m\u001b[0;34m(\u001b[0m\u001b[0;34m)\u001b[0m\u001b[0;34m\u001b[0m\u001b[0;34m\u001b[0m\u001b[0m\n",
      "\u001b[0;32m/opt/jupyterhub/lib/python3.7/site-packages/pandas/io/sql.py\u001b[0m in \u001b[0;36mread_sql_query\u001b[0;34m(sql, con, index_col, coerce_float, params, parse_dates, chunksize)\u001b[0m\n\u001b[1;32m    330\u001b[0m         \u001b[0mcoerce_float\u001b[0m\u001b[0;34m=\u001b[0m\u001b[0mcoerce_float\u001b[0m\u001b[0;34m,\u001b[0m\u001b[0;34m\u001b[0m\u001b[0;34m\u001b[0m\u001b[0m\n\u001b[1;32m    331\u001b[0m         \u001b[0mparse_dates\u001b[0m\u001b[0;34m=\u001b[0m\u001b[0mparse_dates\u001b[0m\u001b[0;34m,\u001b[0m\u001b[0;34m\u001b[0m\u001b[0;34m\u001b[0m\u001b[0m\n\u001b[0;32m--> 332\u001b[0;31m         \u001b[0mchunksize\u001b[0m\u001b[0;34m=\u001b[0m\u001b[0mchunksize\u001b[0m\u001b[0;34m,\u001b[0m\u001b[0;34m\u001b[0m\u001b[0;34m\u001b[0m\u001b[0m\n\u001b[0m\u001b[1;32m    333\u001b[0m     )\n\u001b[1;32m    334\u001b[0m \u001b[0;34m\u001b[0m\u001b[0m\n",
      "\u001b[0;32m/opt/jupyterhub/lib/python3.7/site-packages/pandas/io/sql.py\u001b[0m in \u001b[0;36mread_query\u001b[0;34m(self, sql, index_col, coerce_float, parse_dates, params, chunksize)\u001b[0m\n\u001b[1;32m   1216\u001b[0m         \u001b[0margs\u001b[0m \u001b[0;34m=\u001b[0m \u001b[0m_convert_params\u001b[0m\u001b[0;34m(\u001b[0m\u001b[0msql\u001b[0m\u001b[0;34m,\u001b[0m \u001b[0mparams\u001b[0m\u001b[0;34m)\u001b[0m\u001b[0;34m\u001b[0m\u001b[0;34m\u001b[0m\u001b[0m\n\u001b[1;32m   1217\u001b[0m \u001b[0;34m\u001b[0m\u001b[0m\n\u001b[0;32m-> 1218\u001b[0;31m         \u001b[0mresult\u001b[0m \u001b[0;34m=\u001b[0m \u001b[0mself\u001b[0m\u001b[0;34m.\u001b[0m\u001b[0mexecute\u001b[0m\u001b[0;34m(\u001b[0m\u001b[0;34m*\u001b[0m\u001b[0margs\u001b[0m\u001b[0;34m)\u001b[0m\u001b[0;34m\u001b[0m\u001b[0;34m\u001b[0m\u001b[0m\n\u001b[0m\u001b[1;32m   1219\u001b[0m         \u001b[0mcolumns\u001b[0m \u001b[0;34m=\u001b[0m \u001b[0mresult\u001b[0m\u001b[0;34m.\u001b[0m\u001b[0mkeys\u001b[0m\u001b[0;34m(\u001b[0m\u001b[0;34m)\u001b[0m\u001b[0;34m\u001b[0m\u001b[0;34m\u001b[0m\u001b[0m\n\u001b[1;32m   1220\u001b[0m \u001b[0;34m\u001b[0m\u001b[0m\n",
      "\u001b[0;32m/opt/jupyterhub/lib/python3.7/site-packages/pandas/io/sql.py\u001b[0m in \u001b[0;36mexecute\u001b[0;34m(self, *args, **kwargs)\u001b[0m\n\u001b[1;32m   1085\u001b[0m     \u001b[0;32mdef\u001b[0m \u001b[0mexecute\u001b[0m\u001b[0;34m(\u001b[0m\u001b[0mself\u001b[0m\u001b[0;34m,\u001b[0m \u001b[0;34m*\u001b[0m\u001b[0margs\u001b[0m\u001b[0;34m,\u001b[0m \u001b[0;34m**\u001b[0m\u001b[0mkwargs\u001b[0m\u001b[0;34m)\u001b[0m\u001b[0;34m:\u001b[0m\u001b[0;34m\u001b[0m\u001b[0;34m\u001b[0m\u001b[0m\n\u001b[1;32m   1086\u001b[0m         \u001b[0;34m\"\"\"Simple passthrough to SQLAlchemy connectable\"\"\"\u001b[0m\u001b[0;34m\u001b[0m\u001b[0;34m\u001b[0m\u001b[0m\n\u001b[0;32m-> 1087\u001b[0;31m         \u001b[0;32mreturn\u001b[0m \u001b[0mself\u001b[0m\u001b[0;34m.\u001b[0m\u001b[0mconnectable\u001b[0m\u001b[0;34m.\u001b[0m\u001b[0mexecute\u001b[0m\u001b[0;34m(\u001b[0m\u001b[0;34m*\u001b[0m\u001b[0margs\u001b[0m\u001b[0;34m,\u001b[0m \u001b[0;34m**\u001b[0m\u001b[0mkwargs\u001b[0m\u001b[0;34m)\u001b[0m\u001b[0;34m\u001b[0m\u001b[0;34m\u001b[0m\u001b[0m\n\u001b[0m\u001b[1;32m   1088\u001b[0m \u001b[0;34m\u001b[0m\u001b[0m\n\u001b[1;32m   1089\u001b[0m     def read_table(\n",
      "\u001b[0;32m/opt/jupyterhub/lib/python3.7/site-packages/sqlalchemy/engine/base.py\u001b[0m in \u001b[0;36mexecute\u001b[0;34m(self, object_, *multiparams, **params)\u001b[0m\n\u001b[1;32m    974\u001b[0m         \"\"\"\n\u001b[1;32m    975\u001b[0m         \u001b[0;32mif\u001b[0m \u001b[0misinstance\u001b[0m\u001b[0;34m(\u001b[0m\u001b[0mobject_\u001b[0m\u001b[0;34m,\u001b[0m \u001b[0mutil\u001b[0m\u001b[0;34m.\u001b[0m\u001b[0mstring_types\u001b[0m\u001b[0;34m[\u001b[0m\u001b[0;36m0\u001b[0m\u001b[0;34m]\u001b[0m\u001b[0;34m)\u001b[0m\u001b[0;34m:\u001b[0m\u001b[0;34m\u001b[0m\u001b[0;34m\u001b[0m\u001b[0m\n\u001b[0;32m--> 976\u001b[0;31m             \u001b[0;32mreturn\u001b[0m \u001b[0mself\u001b[0m\u001b[0;34m.\u001b[0m\u001b[0m_execute_text\u001b[0m\u001b[0;34m(\u001b[0m\u001b[0mobject_\u001b[0m\u001b[0;34m,\u001b[0m \u001b[0mmultiparams\u001b[0m\u001b[0;34m,\u001b[0m \u001b[0mparams\u001b[0m\u001b[0;34m)\u001b[0m\u001b[0;34m\u001b[0m\u001b[0;34m\u001b[0m\u001b[0m\n\u001b[0m\u001b[1;32m    977\u001b[0m         \u001b[0;32mtry\u001b[0m\u001b[0;34m:\u001b[0m\u001b[0;34m\u001b[0m\u001b[0;34m\u001b[0m\u001b[0m\n\u001b[1;32m    978\u001b[0m             \u001b[0mmeth\u001b[0m \u001b[0;34m=\u001b[0m \u001b[0mobject_\u001b[0m\u001b[0;34m.\u001b[0m\u001b[0m_execute_on_connection\u001b[0m\u001b[0;34m\u001b[0m\u001b[0;34m\u001b[0m\u001b[0m\n",
      "\u001b[0;32m/opt/jupyterhub/lib/python3.7/site-packages/sqlalchemy/engine/base.py\u001b[0m in \u001b[0;36m_execute_text\u001b[0;34m(self, statement, multiparams, params)\u001b[0m\n\u001b[1;32m   1147\u001b[0m             \u001b[0mparameters\u001b[0m\u001b[0;34m,\u001b[0m\u001b[0;34m\u001b[0m\u001b[0;34m\u001b[0m\u001b[0m\n\u001b[1;32m   1148\u001b[0m             \u001b[0mstatement\u001b[0m\u001b[0;34m,\u001b[0m\u001b[0;34m\u001b[0m\u001b[0;34m\u001b[0m\u001b[0m\n\u001b[0;32m-> 1149\u001b[0;31m             \u001b[0mparameters\u001b[0m\u001b[0;34m,\u001b[0m\u001b[0;34m\u001b[0m\u001b[0;34m\u001b[0m\u001b[0m\n\u001b[0m\u001b[1;32m   1150\u001b[0m         )\n\u001b[1;32m   1151\u001b[0m         \u001b[0;32mif\u001b[0m \u001b[0mself\u001b[0m\u001b[0;34m.\u001b[0m\u001b[0m_has_events\u001b[0m \u001b[0;32mor\u001b[0m \u001b[0mself\u001b[0m\u001b[0;34m.\u001b[0m\u001b[0mengine\u001b[0m\u001b[0;34m.\u001b[0m\u001b[0m_has_events\u001b[0m\u001b[0;34m:\u001b[0m\u001b[0;34m\u001b[0m\u001b[0;34m\u001b[0m\u001b[0m\n",
      "\u001b[0;32m/opt/jupyterhub/lib/python3.7/site-packages/sqlalchemy/engine/base.py\u001b[0m in \u001b[0;36m_execute_context\u001b[0;34m(self, dialect, constructor, statement, parameters, *args)\u001b[0m\n\u001b[1;32m   1248\u001b[0m         \u001b[0;32mexcept\u001b[0m \u001b[0mBaseException\u001b[0m \u001b[0;32mas\u001b[0m \u001b[0me\u001b[0m\u001b[0;34m:\u001b[0m\u001b[0;34m\u001b[0m\u001b[0;34m\u001b[0m\u001b[0m\n\u001b[1;32m   1249\u001b[0m             self._handle_dbapi_exception(\n\u001b[0;32m-> 1250\u001b[0;31m                 \u001b[0me\u001b[0m\u001b[0;34m,\u001b[0m \u001b[0mstatement\u001b[0m\u001b[0;34m,\u001b[0m \u001b[0mparameters\u001b[0m\u001b[0;34m,\u001b[0m \u001b[0mcursor\u001b[0m\u001b[0;34m,\u001b[0m \u001b[0mcontext\u001b[0m\u001b[0;34m\u001b[0m\u001b[0;34m\u001b[0m\u001b[0m\n\u001b[0m\u001b[1;32m   1251\u001b[0m             )\n\u001b[1;32m   1252\u001b[0m \u001b[0;34m\u001b[0m\u001b[0m\n",
      "\u001b[0;32m/opt/jupyterhub/lib/python3.7/site-packages/sqlalchemy/engine/base.py\u001b[0m in \u001b[0;36m_handle_dbapi_exception\u001b[0;34m(self, e, statement, parameters, cursor, context)\u001b[0m\n\u001b[1;32m   1476\u001b[0m                 \u001b[0mutil\u001b[0m\u001b[0;34m.\u001b[0m\u001b[0mraise_from_cause\u001b[0m\u001b[0;34m(\u001b[0m\u001b[0msqlalchemy_exception\u001b[0m\u001b[0;34m,\u001b[0m \u001b[0mexc_info\u001b[0m\u001b[0;34m)\u001b[0m\u001b[0;34m\u001b[0m\u001b[0;34m\u001b[0m\u001b[0m\n\u001b[1;32m   1477\u001b[0m             \u001b[0;32melse\u001b[0m\u001b[0;34m:\u001b[0m\u001b[0;34m\u001b[0m\u001b[0;34m\u001b[0m\u001b[0m\n\u001b[0;32m-> 1478\u001b[0;31m                 \u001b[0mutil\u001b[0m\u001b[0;34m.\u001b[0m\u001b[0mreraise\u001b[0m\u001b[0;34m(\u001b[0m\u001b[0;34m*\u001b[0m\u001b[0mexc_info\u001b[0m\u001b[0;34m)\u001b[0m\u001b[0;34m\u001b[0m\u001b[0;34m\u001b[0m\u001b[0m\n\u001b[0m\u001b[1;32m   1479\u001b[0m \u001b[0;34m\u001b[0m\u001b[0m\n\u001b[1;32m   1480\u001b[0m         \u001b[0;32mfinally\u001b[0m\u001b[0;34m:\u001b[0m\u001b[0;34m\u001b[0m\u001b[0;34m\u001b[0m\u001b[0m\n",
      "\u001b[0;32m/opt/jupyterhub/lib/python3.7/site-packages/sqlalchemy/util/compat.py\u001b[0m in \u001b[0;36mreraise\u001b[0;34m(tp, value, tb, cause)\u001b[0m\n\u001b[1;32m    151\u001b[0m         \u001b[0;32mif\u001b[0m \u001b[0mvalue\u001b[0m\u001b[0;34m.\u001b[0m\u001b[0m__traceback__\u001b[0m \u001b[0;32mis\u001b[0m \u001b[0;32mnot\u001b[0m \u001b[0mtb\u001b[0m\u001b[0;34m:\u001b[0m\u001b[0;34m\u001b[0m\u001b[0;34m\u001b[0m\u001b[0m\n\u001b[1;32m    152\u001b[0m             \u001b[0;32mraise\u001b[0m \u001b[0mvalue\u001b[0m\u001b[0;34m.\u001b[0m\u001b[0mwith_traceback\u001b[0m\u001b[0;34m(\u001b[0m\u001b[0mtb\u001b[0m\u001b[0;34m)\u001b[0m\u001b[0;34m\u001b[0m\u001b[0;34m\u001b[0m\u001b[0m\n\u001b[0;32m--> 153\u001b[0;31m         \u001b[0;32mraise\u001b[0m \u001b[0mvalue\u001b[0m\u001b[0;34m\u001b[0m\u001b[0;34m\u001b[0m\u001b[0m\n\u001b[0m\u001b[1;32m    154\u001b[0m \u001b[0;34m\u001b[0m\u001b[0m\n\u001b[1;32m    155\u001b[0m     \u001b[0;32mdef\u001b[0m \u001b[0mu\u001b[0m\u001b[0;34m(\u001b[0m\u001b[0ms\u001b[0m\u001b[0;34m)\u001b[0m\u001b[0;34m:\u001b[0m\u001b[0;34m\u001b[0m\u001b[0;34m\u001b[0m\u001b[0m\n",
      "\u001b[0;32m/opt/jupyterhub/lib/python3.7/site-packages/sqlalchemy/engine/base.py\u001b[0m in \u001b[0;36m_execute_context\u001b[0;34m(self, dialect, constructor, statement, parameters, *args)\u001b[0m\n\u001b[1;32m   1244\u001b[0m                 \u001b[0;32mif\u001b[0m \u001b[0;32mnot\u001b[0m \u001b[0mevt_handled\u001b[0m\u001b[0;34m:\u001b[0m\u001b[0;34m\u001b[0m\u001b[0;34m\u001b[0m\u001b[0m\n\u001b[1;32m   1245\u001b[0m                     self.dialect.do_execute(\n\u001b[0;32m-> 1246\u001b[0;31m                         \u001b[0mcursor\u001b[0m\u001b[0;34m,\u001b[0m \u001b[0mstatement\u001b[0m\u001b[0;34m,\u001b[0m \u001b[0mparameters\u001b[0m\u001b[0;34m,\u001b[0m \u001b[0mcontext\u001b[0m\u001b[0;34m\u001b[0m\u001b[0;34m\u001b[0m\u001b[0m\n\u001b[0m\u001b[1;32m   1247\u001b[0m                     )\n\u001b[1;32m   1248\u001b[0m         \u001b[0;32mexcept\u001b[0m \u001b[0mBaseException\u001b[0m \u001b[0;32mas\u001b[0m \u001b[0me\u001b[0m\u001b[0;34m:\u001b[0m\u001b[0;34m\u001b[0m\u001b[0;34m\u001b[0m\u001b[0m\n",
      "\u001b[0;32m/opt/jupyterhub/lib/python3.7/site-packages/sqlalchemy/engine/default.py\u001b[0m in \u001b[0;36mdo_execute\u001b[0;34m(self, cursor, statement, parameters, context)\u001b[0m\n\u001b[1;32m    586\u001b[0m \u001b[0;34m\u001b[0m\u001b[0m\n\u001b[1;32m    587\u001b[0m     \u001b[0;32mdef\u001b[0m \u001b[0mdo_execute\u001b[0m\u001b[0;34m(\u001b[0m\u001b[0mself\u001b[0m\u001b[0;34m,\u001b[0m \u001b[0mcursor\u001b[0m\u001b[0;34m,\u001b[0m \u001b[0mstatement\u001b[0m\u001b[0;34m,\u001b[0m \u001b[0mparameters\u001b[0m\u001b[0;34m,\u001b[0m \u001b[0mcontext\u001b[0m\u001b[0;34m=\u001b[0m\u001b[0;32mNone\u001b[0m\u001b[0;34m)\u001b[0m\u001b[0;34m:\u001b[0m\u001b[0;34m\u001b[0m\u001b[0;34m\u001b[0m\u001b[0m\n\u001b[0;32m--> 588\u001b[0;31m         \u001b[0mcursor\u001b[0m\u001b[0;34m.\u001b[0m\u001b[0mexecute\u001b[0m\u001b[0;34m(\u001b[0m\u001b[0mstatement\u001b[0m\u001b[0;34m,\u001b[0m \u001b[0mparameters\u001b[0m\u001b[0;34m)\u001b[0m\u001b[0;34m\u001b[0m\u001b[0;34m\u001b[0m\u001b[0m\n\u001b[0m\u001b[1;32m    589\u001b[0m \u001b[0;34m\u001b[0m\u001b[0m\n\u001b[1;32m    590\u001b[0m     \u001b[0;32mdef\u001b[0m \u001b[0mdo_execute_no_params\u001b[0m\u001b[0;34m(\u001b[0m\u001b[0mself\u001b[0m\u001b[0;34m,\u001b[0m \u001b[0mcursor\u001b[0m\u001b[0;34m,\u001b[0m \u001b[0mstatement\u001b[0m\u001b[0;34m,\u001b[0m \u001b[0mcontext\u001b[0m\u001b[0;34m=\u001b[0m\u001b[0;32mNone\u001b[0m\u001b[0;34m)\u001b[0m\u001b[0;34m:\u001b[0m\u001b[0;34m\u001b[0m\u001b[0;34m\u001b[0m\u001b[0m\n",
      "\u001b[0;32m/usr/local/anaconda3/lib/python3.7/encodings/utf_8.py\u001b[0m in \u001b[0;36mdecode\u001b[0;34m(input, errors)\u001b[0m\n\u001b[1;32m     13\u001b[0m \u001b[0mencode\u001b[0m \u001b[0;34m=\u001b[0m \u001b[0mcodecs\u001b[0m\u001b[0;34m.\u001b[0m\u001b[0mutf_8_encode\u001b[0m\u001b[0;34m\u001b[0m\u001b[0;34m\u001b[0m\u001b[0m\n\u001b[1;32m     14\u001b[0m \u001b[0;34m\u001b[0m\u001b[0m\n\u001b[0;32m---> 15\u001b[0;31m \u001b[0;32mdef\u001b[0m \u001b[0mdecode\u001b[0m\u001b[0;34m(\u001b[0m\u001b[0minput\u001b[0m\u001b[0;34m,\u001b[0m \u001b[0merrors\u001b[0m\u001b[0;34m=\u001b[0m\u001b[0;34m'strict'\u001b[0m\u001b[0;34m)\u001b[0m\u001b[0;34m:\u001b[0m\u001b[0;34m\u001b[0m\u001b[0;34m\u001b[0m\u001b[0m\n\u001b[0m\u001b[1;32m     16\u001b[0m     \u001b[0;32mreturn\u001b[0m \u001b[0mcodecs\u001b[0m\u001b[0;34m.\u001b[0m\u001b[0mutf_8_decode\u001b[0m\u001b[0;34m(\u001b[0m\u001b[0minput\u001b[0m\u001b[0;34m,\u001b[0m \u001b[0merrors\u001b[0m\u001b[0;34m,\u001b[0m \u001b[0;32mTrue\u001b[0m\u001b[0;34m)\u001b[0m\u001b[0;34m\u001b[0m\u001b[0;34m\u001b[0m\u001b[0m\n\u001b[1;32m     17\u001b[0m \u001b[0;34m\u001b[0m\u001b[0m\n",
      "\u001b[0;31mKeyboardInterrupt\u001b[0m: "
     ]
    }
   ],
   "source": [
    "# Should be getting 312\n",
    "# In total, getting 33 less rows\n",
    "# Neighbourhood dataset has 13 less rows than sa2_data\n",
    "# Break_and enter dataset has 28 less rows than sa2_data\n",
    "sql=\"\"\"\n",
    "SELECT *\n",
    "\n",
    "FROM sa2_data s, break_and_enter be\n",
    "WHERE ST_Disjoint(s.geom,be.geom)\n",
    ";\n",
    "\"\"\"\n",
    "query(conn,sql)"
   ]
  },
  {
   "cell_type": "code",
   "execution_count": 58,
   "metadata": {},
   "outputs": [],
   "source": [
    "conn.close()\n",
    "db.dispose()"
   ]
  }
 ],
 "metadata": {
  "kernelspec": {
   "display_name": "Python 3",
   "language": "python",
   "name": "python3"
  },
  "language_info": {
   "codemirror_mode": {
    "name": "ipython",
    "version": 3
   },
   "file_extension": ".py",
   "mimetype": "text/x-python",
   "name": "python",
   "nbconvert_exporter": "python",
   "pygments_lexer": "ipython3",
   "version": "3.7.4"
  }
 },
 "nbformat": 4,
 "nbformat_minor": 4
}

{
 "cells": [
  {
   "cell_type": "code",
   "execution_count": 28,
   "metadata": {},
   "outputs": [
    {
     "data": {
      "text/html": [
       "\n",
       "    <style> body {font-family: \"Roboto Condensed Light\", \"Roboto Condensed\";} \n",
       "    h2 {padding: 10px 12px; background-color: #E64626; position: static; color: #ffffff; font-size: 40px;} .text_cell_render p { font-size: 15px; } .text_cell_render \n",
       "    h1 { font-size: 30px; } h1 {padding: 10px 12px;font-style: bold; background-color: #E64626; color: #ffffff; font-size: 40px;} .text_cell_render \n",
       "    h3 { padding: 10px 12px; background-color: #16bedb; position: static; color: #ffffff; font-size: 20px;} \n",
       "    h4 {padding: 8px 20px; font-family: \"Roboto Condensed Light\"; position: static; font-style: italic; background-color: #57fa05; color: #ffffff; font-size: 18px;  border-radius: 5px;}input[type=submit] {background-color: #E64626; border: solid; border-color: #734036; color: white; padding: 8px 16px; text-decoration: none; margin: 4px 2px; cursor: pointer; border-radius: 20px;}</style>\n",
       "    <script> code_show=true; function code_toggle() {if (code_show){$('div.input').hide();} else {$('div.input').show();} code_show = !code_show} $( document ).ready(code_toggle);</script>\n",
       "    <form action=\"javascript:code_toggle()\"><input type=\"submit\" value=\"Hide/show all code.\"></form>\n"
      ],
      "text/plain": [
       "<IPython.core.display.HTML object>"
      ]
     },
     "execution_count": 28,
     "metadata": {},
     "output_type": "execute_result"
    }
   ],
   "source": [
    "from IPython.display import HTML\n",
    "HTML('''\n",
    "    <style> body {font-family: \"Roboto Condensed Light\", \"Roboto Condensed\";} \n",
    "    h2 {padding: 10px 12px; background-color: #E64626; position: static; color: #ffffff; font-size: 40px;} .text_cell_render p { font-size: 15px; } .text_cell_render \n",
    "    h1 { font-size: 30px; } h1 {padding: 10px 12px;font-style: bold; background-color: #E64626; color: #ffffff; font-size: 40px;} .text_cell_render \n",
    "    h3 { padding: 10px 12px; background-color: #16bedb; position: static; color: #ffffff; font-size: 20px;} \n",
    "    h4 {padding: 8px 20px; font-family: \"Roboto Condensed Light\"; position: static; font-style: italic; background-color: #57fa05; color: #ffffff; font-size: 18px;  border-radius: 5px;}input[type=submit] {background-color: #E64626; border: solid; border-color: #734036; color: white; padding: 8px 16px; text-decoration: none; margin: 4px 2px; cursor: pointer; border-radius: 20px;}</style>\n",
    "    <script> code_show=true; function code_toggle() {if (code_show){$('div.input').hide();} else {$('div.input').show();} code_show = !code_show} $( document ).ready(code_toggle);</script>\n",
    "    <form action=\"javascript:code_toggle()\"><input type=\"submit\" value=\"Hide/show all code.\"></form>\n",
    "''')"
   ]
  },
  {
   "cell_type": "markdown",
   "metadata": {},
   "source": [
    "# Sydney Liveability Analysis"
   ]
  },
  {
   "cell_type": "markdown",
   "metadata": {},
   "source": [
    "## Group - 5  F10Adv-01 : Pratul Singh Raghava & Amanda Walpitage"
   ]
  },
  {
   "cell_type": "markdown",
   "metadata": {},
   "source": [
    "This Jupyter Notebook contains the code and processes followed to calculate a **Liveability score** for each SA2 Area in Greater Sydney and further analysis of Inner Sydney suburbs through the integration of additional datasets. The results of this analysis have further been compared to parameters like Median Rent and Median Income of each neighbourhood in an attempt to figure out their correlation with the analysis results. This notebook also contains the analysis by an Unsupervised Machine Learning Algorithm and the comparison of its results with the tradional methods used before."
   ]
  },
  {
   "cell_type": "markdown",
   "metadata": {},
   "source": [
    "### Importing Modules"
   ]
  },
  {
   "cell_type": "markdown",
   "metadata": {},
   "source": [
    "Before we proceed with the analysis, we must first import all the necessary modules required to perform the analysis."
   ]
  },
  {
   "cell_type": "code",
   "execution_count": 29,
   "metadata": {},
   "outputs": [],
   "source": [
    "import pandas as pd\n",
    "import numpy as np\n",
    "import geopandas as gpd\n",
    "import json\n",
    "from shapely.geometry import Point, Polygon, MultiPolygon\n",
    "from geoalchemy2 import Geometry, WKTElement\n",
    "import matplotlib.pyplot as plt\n",
    "from math import sqrt\n",
    "from sklearn.manifold import TSNE"
   ]
  },
  {
   "cell_type": "markdown",
   "metadata": {},
   "source": [
    "# TASK - 1"
   ]
  },
  {
   "cell_type": "markdown",
   "metadata": {},
   "source": [
    "### Importing Datasets"
   ]
  },
  {
   "cell_type": "markdown",
   "metadata": {},
   "source": [
    "#### Importing Spatial Data"
   ]
  },
  {
   "cell_type": "markdown",
   "metadata": {},
   "source": [
    "We import the spatial data from .shp files and store them in GeoPandas DataFrames, which are just like Pandas DataFrames, but with support for Geo-Spatial data."
   ]
  },
  {
   "cell_type": "code",
   "execution_count": 30,
   "metadata": {},
   "outputs": [],
   "source": [
    "# Importing the ABS SA2 Shape Data\n",
    "sa2_data = gpd.read_file(\"SA2_2016_AUST/SA2_2016_AUST.shp\")\n",
    "\n",
    "# Importing the shape data of theft ’hotspots’ in NSW \n",
    "break_and_enter = gpd.read_file(\"break_and_enter/BreakEnterDwelling_JanToDec2021.shp\")\n",
    "\n",
    "# Importing the shape data for future Government schools catchments\n",
    "school_catchments_future = gpd.read_file(\"school_catchments/catchments_future.shp\")\n",
    "\n",
    "# Importing the shape data for primary Government schools catchments\n",
    "school_catchments_primary = gpd.read_file(\"school_catchments/catchments_primary.shp\")\n",
    "\n",
    "# Importing the shape data for secondary Government schools catchments\n",
    "school_catchments_secondary = gpd.read_file(\"school_catchments/catchments_secondary.shp\")"
   ]
  },
  {
   "cell_type": "markdown",
   "metadata": {},
   "source": [
    "#### Importing Non-Spatial CSV Data"
   ]
  },
  {
   "cell_type": "markdown",
   "metadata": {},
   "source": [
    "We import the non-spatial data from .csv files and store them in Pandas DataFrames."
   ]
  },
  {
   "cell_type": "code",
   "execution_count": 31,
   "metadata": {},
   "outputs": [],
   "source": [
    "# Importing the Census data on neighbourhoods(SA2-level areas)\n",
    "neighbourhoods = pd.read_csv('Neighbourhoods.csv')\n",
    "\n",
    "# Importing the Business statistics per SA2-area\n",
    "BusinessStats = pd.read_csv('BusinessStats.csv')"
   ]
  },
  {
   "cell_type": "markdown",
   "metadata": {},
   "source": [
    "#### Importing Spatial GeoJSON Data"
   ]
  },
  {
   "cell_type": "markdown",
   "metadata": {},
   "source": [
    "Now, we import the spatial data from the additional datasets\n",
    "[Playgrounds](https://data.cityofsydney.nsw.gov.au/datasets/cityofsydney::playgrounds/about)\n",
    "&\n",
    "[Lights](https://data.cityofsydney.nsw.gov.au/datasets/cityofsydney::lights/about)\n",
    "downloaded from the [\n",
    "City of Sydney Data hub](https://data.cityofsydney.nsw.gov.au/)."
   ]
  },
  {
   "cell_type": "code",
   "execution_count": 32,
   "metadata": {},
   "outputs": [],
   "source": [
    "Playgrounds_json = json.load(open('Playgrounds.geojson'))\n",
    "\n",
    "Playgrounds_DataFrame = pd.DataFrame(Playgrounds_json[\"features\"])\n",
    "Playgrounds_pandas_data=[]\n",
    "for index, row in Playgrounds_DataFrame.iterrows():\n",
    "    append_row = [row[\"geometry\"][\"coordinates\"][0],row[\"geometry\"][\"coordinates\"][1],row[\"properties\"][\"Name\"]]\n",
    "    Playgrounds_pandas_data.append(append_row)\n",
    "    \n",
    "Playgrounds = pd.DataFrame(Playgrounds_pandas_data, columns = ['X', 'Y','Name'])\n",
    "Playgrounds['geom'] = gpd.points_from_xy(Playgrounds.X, Playgrounds.Y)  # creating the geometry column\n",
    "Playgrounds = Playgrounds.drop(columns=['X', 'Y'])  # removing the old latitude/longitude fields"
   ]
  },
  {
   "cell_type": "code",
   "execution_count": 33,
   "metadata": {},
   "outputs": [],
   "source": [
    "Lights_json = json.load(open('Lights.geojson'))\n",
    "Lights_DataFrame = pd.DataFrame(Lights_json[\"features\"])\n",
    "Lights_pandas_data=[]\n",
    "for index, row in Lights_DataFrame.iterrows():\n",
    "    append_row = [row[\"geometry\"][\"coordinates\"][0],row[\"geometry\"][\"coordinates\"][1],row[\"properties\"][\"Location\"]]\n",
    "    Lights_pandas_data.append(append_row)\n",
    "    \n",
    "Lights = pd.DataFrame(Lights_pandas_data, columns = ['X', 'Y','Location'])\n",
    "Lights['geom'] = gpd.points_from_xy(Lights.X, Lights.Y)  # creating the geometry column\n",
    "Lights = Lights.drop(columns=['X', 'Y'])  # removing the old latitude/longitude fields"
   ]
  },
  {
   "cell_type": "markdown",
   "metadata": {},
   "source": [
    "### Cleaning the Datasets"
   ]
  },
  {
   "cell_type": "markdown",
   "metadata": {},
   "source": [
    "We clean the **sa2_data** dataset by dropping those rows where either the locations are :\n",
    "\n",
    "a) `No usual address` - people with no fixed place of abode, or \n",
    "\n",
    "b) `Migratory - Offshore - Shipping` - people who are in transit (Migratory) or on oil rigs and drilling platforms (Offshore) or on board vessels (Shipping)."
   ]
  },
  {
   "cell_type": "code",
   "execution_count": 34,
   "metadata": {},
   "outputs": [],
   "source": [
    "sa2_data = sa2_data.drop(sa2_data[(sa2_data['SA4_NAME16'].str.contains(\"No usual address\", case=False)) |\n",
    "                                  (sa2_data['SA4_NAME16'].str.contains(\"Migratory - Offshore - Shipping\", case=False)) |\n",
    "                         sa2_data['SA3_NAME16'].str.contains(\"No usual address\", case=False) |\n",
    "                         sa2_data['SA3_NAME16'].str.contains(\"Migratory - Offshore - Shipping\", case=False) |\n",
    "                         sa2_data['SA2_NAME16'].str.contains(\"No usual address\", case=False) | \n",
    "                         sa2_data['SA2_NAME16'].str.contains(\"Migratory - Offshore - Shipping\", case=False) | \n",
    "                         sa2_data['GCC_NAME16'].str.contains(\"No usual address\", case=False) | \n",
    "                         sa2_data['GCC_NAME16'].str.contains(\"Migratory - Offshore - Shipping\", case=False) |\n",
    "                         sa2_data['GCC_NAME16'].str.contains(\"Rest of\", case=False)].index\n",
    "                        )"
   ]
  },
  {
   "cell_type": "markdown",
   "metadata": {},
   "source": [
    "For our Task-2 analysis, we filter our data to only contain rows with their region as **'Greater Sydney'**."
   ]
  },
  {
   "cell_type": "code",
   "execution_count": 35,
   "metadata": {},
   "outputs": [],
   "source": [
    "sa2_data = sa2_data[sa2_data['GCC_NAME16']=='Greater Sydney'] "
   ]
  },
  {
   "cell_type": "markdown",
   "metadata": {},
   "source": [
    "Now, we clean the **neighbourhoods** dataset and get rid of the rows where the young population value is zero or null, to avoid ZeroDivisionError and other potential errors later on."
   ]
  },
  {
   "cell_type": "code",
   "execution_count": 36,
   "metadata": {},
   "outputs": [],
   "source": [
    "neighbourhoods = neighbourhoods.drop(neighbourhoods[(neighbourhoods['population'].isnull()) | \n",
    "                                      (neighbourhoods['0-4'].isnull()) | \n",
    "                                      (neighbourhoods['5-9'].isnull()) | \n",
    "                                      (neighbourhoods['10-14'].isnull() )| \n",
    "                                      (neighbourhoods['15-19'].isnull())].index)\n",
    "neighbourhoods = neighbourhoods.drop(neighbourhoods[(neighbourhoods['0-4']+neighbourhoods['5-9']+neighbourhoods['10-14']+neighbourhoods['15-19'])<=0].index)\n",
    "\n",
    "# neighbourhoods = neighbourhoods.drop(neighbourhoods[neighbourhoods['population']<=0].index)"
   ]
  },
  {
   "cell_type": "markdown",
   "metadata": {},
   "source": [
    "We find that the `population` column in the **neighbourhoods** dataset contains values stored as String datatypes. Since we require the population values to be of integer datatypes for our analysis, we iterate through these values and explicitly convert them from Strings to Integers."
   ]
  },
  {
   "cell_type": "code",
   "execution_count": 37,
   "metadata": {},
   "outputs": [],
   "source": [
    "for index, row in neighbourhoods.iterrows():\n",
    "    old_value = row['population']\n",
    "    old_value_split = str(row['population']).split(\",\")\n",
    "    new_value = \"\"\n",
    "    for i in old_value_split :\n",
    "        new_value = new_value+i\n",
    "    neighbourhoods['population'] = neighbourhoods['population'].replace([old_value],int(new_value))"
   ]
  },
  {
   "cell_type": "markdown",
   "metadata": {},
   "source": [
    "### Connecting to PostgreSQL"
   ]
  },
  {
   "cell_type": "markdown",
   "metadata": {},
   "source": [
    " Now, we create a helper function to establish a connection to the servers. The `Credentials.json` file should be stored in the same directory as the notebook."
   ]
  },
  {
   "cell_type": "code",
   "execution_count": 38,
   "metadata": {},
   "outputs": [],
   "source": [
    "from sqlalchemy import create_engine\n",
    "import psycopg2\n",
    "import psycopg2.extras\n",
    "import json\n",
    "\n",
    "credentials = \"Credentials.json\"\n",
    "\n",
    "def pgconnect(credential_filepath, db_schema=\"public\"):\n",
    "    with open(credential_filepath) as f:\n",
    "        db_conn_dict = json.load(f)\n",
    "        host       = db_conn_dict['host']\n",
    "        db_user    = db_conn_dict['user']\n",
    "        db_pw      = db_conn_dict['password']\n",
    "        default_db = db_conn_dict['user']\n",
    "        try:\n",
    "            db = create_engine('postgresql+psycopg2://'+db_user+':'+db_pw+'@'+host+'/'+default_db, echo=False)\n",
    "            conn = db.connect()\n",
    "            print('Connected successfully.')\n",
    "        except Exception as e:\n",
    "            print(\"Unable to connect to the database.\")\n",
    "            print(e)\n",
    "            db, conn = None, None\n",
    "        return db,conn\n",
    "\n",
    "def query(conn, sqlcmd, args=None, df=True):\n",
    "    result = pd.DataFrame() if df else None\n",
    "    try:\n",
    "        if df:\n",
    "            result = pd.read_sql_query(sqlcmd, conn, params=args)\n",
    "        else:\n",
    "            result = conn.execute(sqlcmd, args).fetchall()\n",
    "            result = result[0] if len(result) == 1 else result\n",
    "    except Exception as e:\n",
    "        print(\"Error encountered: \", e, sep='\\n')\n",
    "    return result"
   ]
  },
  {
   "cell_type": "markdown",
   "metadata": {},
   "source": [
    "Running this code successfully connects to the PostgreSQL database."
   ]
  },
  {
   "cell_type": "code",
   "execution_count": 39,
   "metadata": {},
   "outputs": [
    {
     "name": "stdout",
     "output_type": "stream",
     "text": [
      "Connected successfully.\n"
     ]
    }
   ],
   "source": [
    "db, conn = pgconnect(credentials)"
   ]
  },
  {
   "cell_type": "markdown",
   "metadata": {},
   "source": [
    "Running the below query confirms that POSTGIS which is used for geographical operations is correctly configured."
   ]
  },
  {
   "cell_type": "code",
   "execution_count": 40,
   "metadata": {},
   "outputs": [
    {
     "data": {
      "text/html": [
       "<div>\n",
       "<style scoped>\n",
       "    .dataframe tbody tr th:only-of-type {\n",
       "        vertical-align: middle;\n",
       "    }\n",
       "\n",
       "    .dataframe tbody tr th {\n",
       "        vertical-align: top;\n",
       "    }\n",
       "\n",
       "    .dataframe thead th {\n",
       "        text-align: right;\n",
       "    }\n",
       "</style>\n",
       "<table border=\"1\" class=\"dataframe\">\n",
       "  <thead>\n",
       "    <tr style=\"text-align: right;\">\n",
       "      <th></th>\n",
       "      <th>postgis_version</th>\n",
       "    </tr>\n",
       "  </thead>\n",
       "  <tbody>\n",
       "    <tr>\n",
       "      <th>0</th>\n",
       "      <td>3.0 USE_GEOS=1 USE_PROJ=1 USE_STATS=1</td>\n",
       "    </tr>\n",
       "  </tbody>\n",
       "</table>\n",
       "</div>"
      ],
      "text/plain": [
       "                         postgis_version\n",
       "0  3.0 USE_GEOS=1 USE_PROJ=1 USE_STATS=1"
      ]
     },
     "execution_count": 40,
     "metadata": {},
     "output_type": "execute_result"
    }
   ],
   "source": [
    "query(conn, \"select PostGIS_Version()\")"
   ]
  },
  {
   "cell_type": "markdown",
   "metadata": {},
   "source": [
    "### SRID Transformations"
   ]
  },
  {
   "cell_type": "markdown",
   "metadata": {},
   "source": [
    "Ensuring the spatial data types from GeoPandas are the same as those expected by PostGIS requires conversion to the **Well-Known Text (WKT)** format, as an intermediate step. This can be done using the `geoalchemy2` library, to convert from the `shapely` types in GeoPandas to the WKT format in PostGIS.\n",
    "\n",
    "We'll also be sure to specify the **Spatial Reference Identifier (SRID)** - in this case 4326, to represent the [WGS84 world geodetic coordinate system](https://en.wikipedia.org/wiki/World_Geodetic_System) used by our datasets. The following code simply converts the 'geom' column of the **Lights** & **Playgrounds** dataframe accordingly."
   ]
  },
  {
   "cell_type": "code",
   "execution_count": 41,
   "metadata": {},
   "outputs": [],
   "source": [
    "srid = 4326\n",
    "Playgrounds['geom'] = Playgrounds['geom'].apply(lambda x: WKTElement(x.wkt, srid=srid))\n",
    "Lights['geom'] = Lights['geom'].apply(lambda x: WKTElement(x.wkt, srid=srid))"
   ]
  },
  {
   "cell_type": "markdown",
   "metadata": {},
   "source": [
    "Converting the polygons in our **sa2_data**, **break_and_enter**, **school_catchments_primary** , **school_catchments_secondary** & **school_catchments_future** dataframes requires more work. We'll first ensure they're all represented as multipolygons (of which polygons are a subset), and then conduct the same WKT conversion, all using a simple helper function.Then we converts the 'geom' column of the  dataframe accordingly."
   ]
  },
  {
   "cell_type": "code",
   "execution_count": 42,
   "metadata": {},
   "outputs": [],
   "source": [
    "def create_wkt_element(geom, srid):\n",
    "    if geom!=None :\n",
    "        if geom.geom_type == 'Polygon':\n",
    "            geom = MultiPolygon([geom])\n",
    "        return WKTElement(geom.wkt, srid)\n",
    "\n",
    "sa2_data_og = sa2_data.copy()  # creating a copy of the original for later\n",
    "sa2_data['geom'] = sa2_data['geometry'].apply(lambda x: create_wkt_element(geom=x,srid=srid))  # applying the function\n",
    "sa2_data = sa2_data.drop(columns=\"geometry\")  # deleting the old copy\n",
    "\n",
    "break_and_enter['geom'] = break_and_enter['geometry'].apply(lambda x: create_wkt_element(geom=x,srid=srid))  # applying the function\n",
    "break_and_enter = break_and_enter.drop(columns=\"geometry\")  # deleting the old copy\n",
    "\n",
    "school_catchments_future['geom'] = school_catchments_future['geometry'].apply(lambda x: create_wkt_element(geom=x,srid=srid))  # applying the function\n",
    "school_catchments_future = school_catchments_future.drop(columns=\"geometry\")  # deleting the old copy\n",
    "\n",
    "school_catchments_primary['geom'] = school_catchments_primary['geometry'].apply(lambda x: create_wkt_element(geom=x,srid=srid))  # applying the function\n",
    "school_catchments_primary = school_catchments_primary.drop(columns=\"geometry\")  # deleting the old copy\n",
    "\n",
    "school_catchments_secondary['geom'] = school_catchments_secondary['geometry'].apply(lambda x: create_wkt_element(geom=x,srid=srid))  # applying the function\n",
    "school_catchments_secondary = school_catchments_secondary.drop(columns=\"geometry\")  # deleting the old copy"
   ]
  },
  {
   "cell_type": "markdown",
   "metadata": {},
   "source": [
    "We reduce our dataframes only to contain the variables we are interested in the analysis."
   ]
  },
  {
   "cell_type": "code",
   "execution_count": 43,
   "metadata": {},
   "outputs": [],
   "source": [
    "sa2_data = sa2_data[['SA2_MAIN16', 'SA2_NAME16','SA3_NAME16','AREASQKM16','geom']].copy()\n",
    "break_and_enter = break_and_enter[['OBJECTID', 'Density','ORIG_FID','Shape_Area','geom']].copy()\n",
    "school_catchments_future = school_catchments_future[['USE_ID','CATCH_TYPE', 'USE_DESC','geom']].copy()\n",
    "school_catchments_primary = school_catchments_primary[['USE_ID', 'USE_DESC','geom']].copy()\n",
    "school_catchments_secondary = school_catchments_secondary[['USE_ID', 'USE_DESC','geom']].copy()\n",
    "neighbourhoods = neighbourhoods[['area_id','land_area','population', 'number_of_dwellings','number_of_businesses','median_annual_household_income','avg_monthly_rent','0-4','5-9','10-14','15-19']].copy()\n",
    "BusinessStats = BusinessStats[['area_id','number_of_businesses','accommodation_and_food_services','retail_trade','agriculture_forestry_and_fishing','health_care_and_social_assistance','public_administration_and_safety','transport_postal_and_warehousing']].copy()\n",
    "Lights = Lights[['Location', 'geom']].copy()\n",
    "Playgrounds = Playgrounds[['Name', 'geom']].copy()"
   ]
  },
  {
   "cell_type": "markdown",
   "metadata": {},
   "source": [
    "### Creating SQL Tables"
   ]
  },
  {
   "cell_type": "markdown",
   "metadata": {},
   "source": [
    "We create new tables in our schema so we can insert data into them to conduct our analysis."
   ]
  },
  {
   "cell_type": "code",
   "execution_count": 44,
   "metadata": {},
   "outputs": [
    {
     "data": {
      "text/plain": [
       "<sqlalchemy.engine.result.ResultProxy at 0x7f4878cdce90>"
      ]
     },
     "execution_count": 44,
     "metadata": {},
     "output_type": "execute_result"
    }
   ],
   "source": [
    "# SQL Table for sa2_data\n",
    "conn.execute(\"\"\"\n",
    "DROP TABLE IF EXISTS sa2_data;\n",
    "CREATE TABLE sa2_data (\n",
    "    \"SA2_MAIN16\" INTEGER PRIMARY KEY,\n",
    "    \"SA2_NAME16\" VARCHAR(80),\n",
    "    \"SA3_NAME16\" VARCHAR(80),\n",
    "    \"AREASQKM16\" NUMERIC,\n",
    "    \"geom\" GEOMETRY(MULTIPOLYGON,4326)\n",
    ");\"\"\"\n",
    ")\n",
    "\n",
    "# SQL Table for neighbourhood Data\n",
    "conn.execute(\"\"\"\n",
    "DROP TABLE IF EXISTS neighbourhood;\n",
    "CREATE TABLE neighbourhood (\n",
    "    \"area_id\" INTEGER PRIMARY KEY,\n",
    "    \"land_area\" NUMERIC,\n",
    "    \"population\" INTEGER,\n",
    "    \"number_of_dwellings\" VARCHAR(80),\n",
    "    \"number_of_businesses\" INTEGER,\n",
    "    \"median_annual_household_income\" NUMERIC,\n",
    "    \"avg_monthly_rent\" INTEGER,\n",
    "    \"0-4\" INTEGER,\n",
    "    \"5-9\" INTEGER,\n",
    "    \"10-14\" INTEGER,\n",
    "    \"15-19\" INTEGER\n",
    ");\"\"\"\n",
    ")\n",
    "\n",
    "# SQL Table for break and enter Data\n",
    "conn.execute(\"\"\"\n",
    "DROP TABLE IF EXISTS break_and_enter;\n",
    "CREATE TABLE break_and_enter (\n",
    "    \"OBJECTID\" INTEGER PRIMARY KEY,\n",
    "    \"Density\" VARCHAR(80),\n",
    "    \"ORIG_FID\" INTEGER,\n",
    "    \"Shape_Area\" NUMERIC,\n",
    "    \"geom\" GEOMETRY(MULTIPOLYGON,4326)\n",
    ");\"\"\"\n",
    ")\n",
    "\n",
    "# SQL Table for school_catchments_future Data\n",
    "conn.execute(\"\"\"\n",
    "DROP TABLE IF EXISTS school_catchments_future;\n",
    "CREATE TABLE school_catchments_future (\n",
    "    \"USE_ID\" INTEGER PRIMARY KEY, \n",
    "    \"CATCH_TYPE\" VARCHAR(80), \n",
    "    \"USE_DESC\" VARCHAR(80),\n",
    "    \"geom\" GEOMETRY(MULTIPOLYGON,4326)\n",
    "    \n",
    ");\"\"\"\n",
    ")\n",
    "\n",
    "# SQL Table for school_catchments_primary Data\n",
    "conn.execute(\"\"\"\n",
    "DROP TABLE IF EXISTS school_catchments_primary;\n",
    "CREATE TABLE school_catchments_primary (\n",
    "    \"USE_ID\" INTEGER PRIMARY KEY,\n",
    "    \"USE_DESC\" VARCHAR(80),\n",
    "    \"geom\" GEOMETRY(MULTIPOLYGON,4326)\n",
    "    \n",
    ");\"\"\"\n",
    ")\n",
    "\n",
    "# SQL Table for school_catchments_secondary Data\n",
    "conn.execute(\"\"\"\n",
    "DROP TABLE IF EXISTS school_catchments_secondary;\n",
    "CREATE TABLE school_catchments_secondary (\n",
    "    \"USE_ID\" INTEGER PRIMARY KEY,\n",
    "    \"USE_DESC\" VARCHAR(80),\n",
    "    \"geom\" GEOMETRY(MULTIPOLYGON,4326)\n",
    "    \n",
    ");\"\"\"\n",
    ")\n",
    "\n",
    "\n",
    "# SQL Table for BusinessStats Data\n",
    "conn.execute(\"\"\"\n",
    "DROP TABLE IF EXISTS businessstats;\n",
    "CREATE TABLE businessstats (\n",
    "    \"area_id\" INTEGER PRIMARY KEY,\n",
    "    \"number_of_businesses\" INTEGER,\n",
    "    \"accommodation_and_food_services\" INTEGER,\n",
    "    \"retail_trade\" INTEGER,\n",
    "    \"agriculture_forestry_and_fishing\" INTEGER,\n",
    "    \"health_care_and_social_assistance\" INTEGER,\n",
    "    \"public_administration_and_safety\" INTEGER,\n",
    "    \"transport_postal_and_warehousing\" INTEGER\n",
    ");\"\"\"\n",
    ")\n",
    "\n",
    "# SQL Table for Playgrounds Data\n",
    "conn.execute(\"\"\"\n",
    "DROP TABLE IF EXISTS playgrounds;\n",
    "CREATE TABLE playgrounds (\n",
    "   \"Name\" VARCHAR(200),\n",
    "   geom GEOMETRY(POINT, 4326)\n",
    ");\"\"\"\n",
    ")\n",
    "\n",
    "# SQL Table for Lights Data\n",
    "conn.execute(\"\"\"\n",
    "DROP TABLE IF EXISTS lights;\n",
    "CREATE TABLE lights (\n",
    "   \"Location\" VARCHAR(200),\n",
    "   geom GEOMETRY(POINT, 4326)\n",
    ");\"\"\"\n",
    ")"
   ]
  },
  {
   "cell_type": "markdown",
   "metadata": {},
   "source": [
    "We can run the below code to confirm that our SQL tables have been successfully created in the public schema of our PostgreSQL server."
   ]
  },
  {
   "cell_type": "code",
   "execution_count": 45,
   "metadata": {},
   "outputs": [
    {
     "name": "stdout",
     "output_type": "stream",
     "text": [
      "spatial_ref_sys\n",
      "public.BusinessStats\n",
      "BusinessStats\n",
      "Lights\n",
      "Playgrounds\n",
      "cities\n",
      "world\n",
      "results\n",
      "task2_results\n",
      "task3_data\n",
      "lights_database\n",
      "playgrounds_database\n",
      "task3_results\n",
      "school_catchments_combined\n",
      "sa2_data\n",
      "neighbourhood\n",
      "break_and_enter\n",
      "school_catchments_future\n",
      "school_catchments_primary\n",
      "school_catchments_secondary\n",
      "businessstats\n",
      "playgrounds\n",
      "lights\n"
     ]
    }
   ],
   "source": [
    "from sqlalchemy import inspect\n",
    "for table in inspect(db).get_table_names(schema='public') :\n",
    "    print(table)"
   ]
  },
  {
   "cell_type": "markdown",
   "metadata": {},
   "source": [
    "### Data Ingestion"
   ]
  },
  {
   "cell_type": "markdown",
   "metadata": {},
   "source": [
    "Now, we load the data from the pandas DataFrames into their respective SQL tables. We specifically define the new datatype of our `geom` columns that is `Multipolygon`."
   ]
  },
  {
   "cell_type": "code",
   "execution_count": 46,
   "metadata": {},
   "outputs": [],
   "source": [
    "# Inserting the school datasets into SQL tables\n",
    "school_catchments_future.to_sql(\"school_catchments_future\", conn, if_exists='append', index=False, dtype={'geom': Geometry('MULTIPOLYGON', srid)})\n",
    "school_catchments_primary.to_sql(\"school_catchments_primary\", conn, if_exists='append', index=False, dtype={'geom': Geometry('MULTIPOLYGON', srid)})\n",
    "school_catchments_secondary.to_sql(\"school_catchments_secondary\", conn, if_exists='append', index=False, dtype={'geom': Geometry('MULTIPOLYGON', srid)})\n",
    "\n",
    "# Inserting the additional datasets into SQL tables\n",
    "Lights.to_sql('lights', conn, if_exists='append', index=False, dtype={'geom': Geometry('POINT', srid)})\n",
    "Playgrounds.to_sql('playgrounds', conn, if_exists='append', index=False, dtype={'geom': Geometry('POINT', srid)})\n",
    "\n",
    "# Inserting the other datasets into SQL tables\n",
    "sa2_data.to_sql('sa2_data', conn, if_exists='append', index=False, dtype={'geom': Geometry('MULTIPOLYGON', srid)})\n",
    "neighbourhoods.to_sql('neighbourhood', conn, if_exists='append', index=False)\n",
    "BusinessStats.to_sql('businessstats', conn, if_exists='append', index=False)\n",
    "break_and_enter.to_sql(\"break_and_enter\", conn, if_exists='append', index=False, dtype={'geom': Geometry('MULTIPOLYGON', srid)})"
   ]
  },
  {
   "cell_type": "markdown",
   "metadata": {},
   "source": [
    "### Reorganising SQL Tables"
   ]
  },
  {
   "cell_type": "markdown",
   "metadata": {},
   "source": [
    "We combine the 3 different school catchment tables into a new table for the purpose of practicality. We can now get rid of the earlier tables since they are not of any further use."
   ]
  },
  {
   "cell_type": "code",
   "execution_count": 47,
   "metadata": {},
   "outputs": [
    {
     "name": "stdout",
     "output_type": "stream",
     "text": [
      "Error encountered: \n",
      "This result object does not return rows. It has been closed automatically.\n"
     ]
    },
    {
     "data": {
      "text/html": [
       "<div>\n",
       "<style scoped>\n",
       "    .dataframe tbody tr th:only-of-type {\n",
       "        vertical-align: middle;\n",
       "    }\n",
       "\n",
       "    .dataframe tbody tr th {\n",
       "        vertical-align: top;\n",
       "    }\n",
       "\n",
       "    .dataframe thead th {\n",
       "        text-align: right;\n",
       "    }\n",
       "</style>\n",
       "<table border=\"1\" class=\"dataframe\">\n",
       "  <thead>\n",
       "    <tr style=\"text-align: right;\">\n",
       "      <th></th>\n",
       "    </tr>\n",
       "  </thead>\n",
       "  <tbody>\n",
       "  </tbody>\n",
       "</table>\n",
       "</div>"
      ],
      "text/plain": [
       "Empty DataFrame\n",
       "Columns: []\n",
       "Index: []"
      ]
     },
     "execution_count": 47,
     "metadata": {},
     "output_type": "execute_result"
    }
   ],
   "source": [
    "SQL_Query_to_Combine_Tables=\"\"\"\n",
    "DROP TABLE IF EXISTS school_catchments_combined;\n",
    "CREATE TABLE school_catchments_combined (\n",
    "    \"USE_ID\" INTEGER,\n",
    "    \"USE_DESC\" VARCHAR(80),\n",
    "    \"geom\" GEOMETRY(MULTIPOLYGON,4326)\n",
    ");\n",
    "\n",
    "INSERT INTO school_catchments_combined(\"USE_ID\",\"USE_DESC\",\"geom\")\n",
    "    SELECT * FROM school_catchments_primary\n",
    "    UNION ALL\n",
    "    SELECT * FROM school_catchments_secondary\n",
    "    UNION ALL\n",
    "    SELECT \"USE_ID\",\"USE_DESC\",\"geom\" FROM school_catchments_future\n",
    "    ;\n",
    "\n",
    "DROP TABLE IF EXISTS school_catchments_primary;\n",
    "DROP TABLE IF EXISTS school_catchments_secondary;\n",
    "DROP TABLE IF EXISTS school_catchments_future;\n",
    "\"\"\"\n",
    "\n",
    "query(conn,SQL_Query_to_Combine_Tables)"
   ]
  },
  {
   "cell_type": "markdown",
   "metadata": {},
   "source": [
    "# TASK - 2"
   ]
  },
  {
   "cell_type": "markdown",
   "metadata": {},
   "source": [
    "### Indexes"
   ]
  },
  {
   "cell_type": "markdown",
   "metadata": {},
   "source": [
    "We create indices on our database tables to improve the run time and reduce the cost of executing queries.\n",
    "\n",
    "As primary keys of our tables are indexes by default we don't need explicit indexes on those. As our data analysis summarises results by suburbs it is meaningful to create an index on \"SA2_NAME16\" in our sa2_data table (Note that the primary key of this table is \"SA2_MAIN16\")."
   ]
  },
  {
   "cell_type": "code",
   "execution_count": 48,
   "metadata": {},
   "outputs": [
    {
     "name": "stdout",
     "output_type": "stream",
     "text": [
      "Error encountered: \n",
      "This result object does not return rows. It has been closed automatically.\n"
     ]
    },
    {
     "data": {
      "text/html": [
       "<div>\n",
       "<style scoped>\n",
       "    .dataframe tbody tr th:only-of-type {\n",
       "        vertical-align: middle;\n",
       "    }\n",
       "\n",
       "    .dataframe tbody tr th {\n",
       "        vertical-align: top;\n",
       "    }\n",
       "\n",
       "    .dataframe thead th {\n",
       "        text-align: right;\n",
       "    }\n",
       "</style>\n",
       "<table border=\"1\" class=\"dataframe\">\n",
       "  <thead>\n",
       "    <tr style=\"text-align: right;\">\n",
       "      <th></th>\n",
       "    </tr>\n",
       "  </thead>\n",
       "  <tbody>\n",
       "  </tbody>\n",
       "</table>\n",
       "</div>"
      ],
      "text/plain": [
       "Empty DataFrame\n",
       "Columns: []\n",
       "Index: []"
      ]
     },
     "execution_count": 48,
     "metadata": {},
     "output_type": "execute_result"
    }
   ],
   "source": [
    "# creating an index on sa2_name in sa2_data set\n",
    "SQL_Query_to_Create_Index1 = \"\"\"\n",
    "CREATE INDEX sa2_name16_idx ON sa2_data(\"SA2_NAME16\");\n",
    "\"\"\"\n",
    "query(conn,SQL_Query_to_Create_Index1)"
   ]
  },
  {
   "cell_type": "code",
   "execution_count": 49,
   "metadata": {},
   "outputs": [
    {
     "name": "stdout",
     "output_type": "stream",
     "text": [
      "Error encountered: \n",
      "This result object does not return rows. It has been closed automatically.\n"
     ]
    },
    {
     "data": {
      "text/html": [
       "<div>\n",
       "<style scoped>\n",
       "    .dataframe tbody tr th:only-of-type {\n",
       "        vertical-align: middle;\n",
       "    }\n",
       "\n",
       "    .dataframe tbody tr th {\n",
       "        vertical-align: top;\n",
       "    }\n",
       "\n",
       "    .dataframe thead th {\n",
       "        text-align: right;\n",
       "    }\n",
       "</style>\n",
       "<table border=\"1\" class=\"dataframe\">\n",
       "  <thead>\n",
       "    <tr style=\"text-align: right;\">\n",
       "      <th></th>\n",
       "    </tr>\n",
       "  </thead>\n",
       "  <tbody>\n",
       "  </tbody>\n",
       "</table>\n",
       "</div>"
      ],
      "text/plain": [
       "Empty DataFrame\n",
       "Columns: []\n",
       "Index: []"
      ]
     },
     "execution_count": 49,
     "metadata": {},
     "output_type": "execute_result"
    }
   ],
   "source": [
    "# creating an index on sa3_name in sa2_data set\n",
    "SQL_Query_to_Create_Index2 = \"\"\"\n",
    "CREATE INDEX sa3_name16_idx ON sa2_data(\"SA3_NAME16\");\n",
    "\"\"\"\n",
    "query(conn,SQL_Query_to_Create_Index2)"
   ]
  },
  {
   "cell_type": "markdown",
   "metadata": {},
   "source": [
    "#### Spatial Indexes"
   ]
  },
  {
   "cell_type": "markdown",
   "metadata": {},
   "source": [
    "Spatial indices reduce the time and cost of running spatial joins in our tables. We created spatial indexes on the geometry column of our shape datasets, because 'geom' column is used when joining data from other tables."
   ]
  },
  {
   "cell_type": "code",
   "execution_count": 50,
   "metadata": {},
   "outputs": [
    {
     "name": "stdout",
     "output_type": "stream",
     "text": [
      "Error encountered: \n",
      "This result object does not return rows. It has been closed automatically.\n"
     ]
    },
    {
     "data": {
      "text/html": [
       "<div>\n",
       "<style scoped>\n",
       "    .dataframe tbody tr th:only-of-type {\n",
       "        vertical-align: middle;\n",
       "    }\n",
       "\n",
       "    .dataframe tbody tr th {\n",
       "        vertical-align: top;\n",
       "    }\n",
       "\n",
       "    .dataframe thead th {\n",
       "        text-align: right;\n",
       "    }\n",
       "</style>\n",
       "<table border=\"1\" class=\"dataframe\">\n",
       "  <thead>\n",
       "    <tr style=\"text-align: right;\">\n",
       "      <th></th>\n",
       "    </tr>\n",
       "  </thead>\n",
       "  <tbody>\n",
       "  </tbody>\n",
       "</table>\n",
       "</div>"
      ],
      "text/plain": [
       "Empty DataFrame\n",
       "Columns: []\n",
       "Index: []"
      ]
     },
     "execution_count": 50,
     "metadata": {},
     "output_type": "execute_result"
    }
   ],
   "source": [
    "# school_catchments_combined\n",
    "SQL_Query_to_Create_Index3 = \"\"\"\n",
    "CREATE INDEX school_catchments_combined_geom_idx ON school_catchments_combined USING GIST (geom);\n",
    "\"\"\"\n",
    "query(conn,SQL_Query_to_Create_Index3)"
   ]
  },
  {
   "cell_type": "code",
   "execution_count": 51,
   "metadata": {},
   "outputs": [
    {
     "name": "stdout",
     "output_type": "stream",
     "text": [
      "Error encountered: \n",
      "This result object does not return rows. It has been closed automatically.\n"
     ]
    },
    {
     "data": {
      "text/html": [
       "<div>\n",
       "<style scoped>\n",
       "    .dataframe tbody tr th:only-of-type {\n",
       "        vertical-align: middle;\n",
       "    }\n",
       "\n",
       "    .dataframe tbody tr th {\n",
       "        vertical-align: top;\n",
       "    }\n",
       "\n",
       "    .dataframe thead th {\n",
       "        text-align: right;\n",
       "    }\n",
       "</style>\n",
       "<table border=\"1\" class=\"dataframe\">\n",
       "  <thead>\n",
       "    <tr style=\"text-align: right;\">\n",
       "      <th></th>\n",
       "    </tr>\n",
       "  </thead>\n",
       "  <tbody>\n",
       "  </tbody>\n",
       "</table>\n",
       "</div>"
      ],
      "text/plain": [
       "Empty DataFrame\n",
       "Columns: []\n",
       "Index: []"
      ]
     },
     "execution_count": 51,
     "metadata": {},
     "output_type": "execute_result"
    }
   ],
   "source": [
    "# break_and_enter\n",
    "SQL_Query_to_Create_Index4 = \"\"\"\n",
    "CREATE INDEX break_and_enter_geom_idx ON break_and_enter USING GIST (geom);\n",
    "\"\"\"\n",
    "query(conn, SQL_Query_to_Create_Index4)"
   ]
  },
  {
   "cell_type": "markdown",
   "metadata": {
    "collapsed": true
   },
   "source": [
    "## Main Analysis for Task-2"
   ]
  },
  {
   "cell_type": "markdown",
   "metadata": {},
   "source": [
    "For this analysis we join our sa2_data, businessstats and neighbourhood datasets on the basis of the area_id(or \"SA2_MAIN16\").This gives an idea of the businesses and neighbourhood statistics per each suburb.\n",
    "Break_and_enter and school_catchment_combined datasets are combined together with sa2_data considering their geometric location(\"geom\"). We use the POSTGIS function [ST_Intersects](https://postgis.net/docs/ST_Intersects.html) to determine which areas of sa2 suburbs have the school catchment areas and break and enter hotspots.\n",
    "\n",
    "In order to compute the liveability score of Greater Sydney Area, following formula is used.\n",
    "\n",
    "            score = S(Zschool + Zaccomm + Zretail - Zcrime + Zhealth)\n",
    "\n",
    "where S = sigmoid function, Z = normal zscore\n",
    "\n",
    "To calculate the liveability of the Greater Sydney Area we first calculate the measures according to the given descriptions."
   ]
  },
  {
   "cell_type": "markdown",
   "metadata": {},
   "source": [
    "| Measure | Description |\n",
    "| -- | -- |\n",
    "| school | number of schools catchment areas per 1000 ’young people’ |\n",
    "| accom | number of accommodation and food services per 1000 people |\n",
    "| retail| number of retail services per 1000 people |\n",
    "| crime | sum of hotspot areas divided by total area |\n",
    "| health | number of health services per 1000 people |"
   ]
  },
  {
   "cell_type": "markdown",
   "metadata": {},
   "source": [
    "We use sub-queries to compute the mean, standard deviation of each factor that affects our sigmoid score. They are referenced later inside the formulas that calculate zscores and sigmoid score in the main query.\n",
    "Finally we group the results by suburb name(\"SA2_NAME16\")."
   ]
  },
  {
   "cell_type": "code",
   "execution_count": 52,
   "metadata": {},
   "outputs": [
    {
     "name": "stdout",
     "output_type": "stream",
     "text": [
      "Error encountered: \n",
      "This result object does not return rows. It has been closed automatically.\n"
     ]
    },
    {
     "data": {
      "text/plain": [
       "<matplotlib.axes._subplots.AxesSubplot at 0x7f4879279510>"
      ]
     },
     "execution_count": 52,
     "metadata": {},
     "output_type": "execute_result"
    },
    {
     "data": {
      "image/png": "[encoded data removed]",
      "text/plain": [
       "<Figure size 720x432 with 2 Axes>"
      ]
     },
     "metadata": {
      "needs_background": "light"
     },
     "output_type": "display_data"
    }
   ],
   "source": [
    "SQL_Query_for_Task2=\"\"\"\n",
    "DROP TABLE IF EXISTS task2_results;\n",
    "CREATE TABLE task2_results\n",
    "AS\n",
    "\n",
    "with Health AS \n",
    "(SELECT avg(1000.0*bs.\"health_care_and_social_assistance\"/n.\"population\") AS mean,\n",
    "stddev(1000.0*bs.\"health_care_and_social_assistance\"/n.\"population\") AS sd\n",
    "FROM businessstats bs, neighbourhood n\n",
    "WHERE bs.\"area_id\" = n.\"area_id\"),\n",
    "\n",
    "Retail AS\n",
    "(SELECT avg(1000.0*bs.\"retail_trade\"/n.\"population\") AS mean,\n",
    "stddev(1000.0*bs.\"retail_trade\"/n.\"population\") AS sd\n",
    "FROM businessstats bs, neighbourhood n\n",
    "WHERE bs.\"area_id\" = n.\"area_id\"),\n",
    "\n",
    "Accom AS\n",
    "(SELECT avg(1000.0*bs.\"accommodation_and_food_services\"/n.\"population\") AS mean,\n",
    "stddev(1000.0*bs.\"accommodation_and_food_services\"/n.\"population\") AS sd\n",
    "FROM businessstats bs, neighbourhood n\n",
    "WHERE bs.\"area_id\" = n.\"area_id\"),\n",
    "\n",
    "Crime AS \n",
    "(SELECT AVG(q1) AS mean,\n",
    "stddev(q1) AS sd\n",
    "FROM ( SELECT AVG(be.\"ORIG_FID\"*be.\"Shape_Area\"/s.\"AREASQKM16\")as q1\n",
    "        FROM break_and_enter be join sa2_data s ON\n",
    "        ST_Intersects(s.geom,be.geom)\n",
    "        GROUP BY s.\"SA2_NAME16\") a ),\n",
    "        \n",
    "Schools AS \n",
    "(SELECT AVG(Schools) AS mean,\n",
    "stddev(Schools) as sd \n",
    "FROM (SELECT 1000.0*COUNT(*)/(AVG(n.\"0-4\")+AVG(n.\"5-9\")+AVG(n.\"10-14\")+AVG(n.\"15-19\")) AS Schools\n",
    "    FROM school_catchments_combined sc, sa2_data s, neighbourhood n\n",
    "    WHERE ST_Intersects(s.geom,sc.geom)\n",
    "    AND s.\"SA2_MAIN16\" = n.\"area_id\"\n",
    "    GROUP BY s.\"SA2_NAME16\" ) b)\n",
    "\n",
    "SELECT s.\"SA2_NAME16\",\n",
    "\n",
    "abs((1000.0*AVG(bs.\"health_care_and_social_assistance\")/AVG(n.\"population\"))-AVG(Health.mean))/AVG(Health.sd) AS HZ,\n",
    "\n",
    "abs((1000.0*AVG(bs.\"retail_trade\")/AVG(n.\"population\"))-AVG(Retail.mean))/AVG(Retail.sd) AS RZ,\n",
    "\n",
    "abs((1000.0*AVG(bs.\"accommodation_and_food_services\")/AVG(n.\"population\"))-AVG(Accom.mean))/AVG(Accom.sd) AS AZ,\n",
    "\n",
    "abs((AVG(be.\"ORIG_FID\"*be.\"Shape_Area\"/s.\"AREASQKM16\")-AVG(Crime.mean))/AVG(Crime.sd)) AS CZ,\n",
    "\n",
    "abs((1000.0*COUNT(*)/(AVG(n.\"0-4\")+AVG(n.\"5-9\")+AVG(n.\"10-14\")+AVG(n.\"15-19\"))-AVG(Schools.mean))/AVG(Schools.sd)) AS SZ,\n",
    "\n",
    "1/(1+(exp(-((abs((1000.0*AVG(bs.\"health_care_and_social_assistance\")/AVG(n.\"population\"))-AVG(Health.mean))/AVG(Health.sd))\n",
    "            +(abs((1000.0*AVG(bs.\"retail_trade\")/AVG(n.\"population\"))-AVG(Retail.mean))/AVG(Retail.sd))\n",
    "            +(abs((1000.0*AVG(bs.\"accommodation_and_food_services\")/AVG(n.\"population\"))-AVG(Accom.mean))/AVG(Accom.sd))\n",
    "            -(abs((AVG(be.\"ORIG_FID\"*be.\"Shape_Area\"/s.\"AREASQKM16\")-AVG(Crime.mean))/AVG(Crime.sd)))\n",
    "            +(abs((1000.0*COUNT(*)/(AVG(n.\"0-4\")+AVG(n.\"5-9\")+AVG(n.\"10-14\")+AVG(n.\"15-19\"))-AVG(Schools.mean))/AVG(Schools.sd))))))) AS Sigmoid\n",
    "\n",
    "FROM sa2_data s, businessstats bs, break_and_enter be, neighbourhood n,school_catchments_combined sc, Health, Retail, Accom, crime, Schools\n",
    "WHERE s.\"SA2_MAIN16\" = bs.\"area_id\"\n",
    "AND bs.\"area_id\" = n.\"area_id\"\n",
    "AND s.\"SA2_MAIN16\" = n.\"area_id\"\n",
    "AND ST_Intersects(s.geom,be.geom)\n",
    "AND ST_Intersects(s.geom,sc.geom)\n",
    "GROUP BY s.\"SA2_NAME16\"\n",
    "ORDER BY sigmoid desc\n",
    ";\n",
    "\"\"\"\n",
    "\n",
    "# Correctly printing the Coloured Map\n",
    "query(conn,SQL_Query_for_Task2)\n",
    "\n",
    "task2_results = query(conn,\"SELECT * FROM task2_results\")\n",
    "\n",
    "spatial_task2_results = gpd.GeoDataFrame(task2_results)\n",
    "\n",
    "sa2_data_original = gpd.read_file(\"SA2_2016_AUST/SA2_2016_AUST.shp\")\n",
    "\n",
    "task2_results_with_Missing_Data = spatial_task2_results.reset_index().merge(sa2_data_original, left_on = 'SA2_NAME16', right_on = 'SA2_NAME16') \n",
    "\n",
    "sa2_data_original_Greater_Sydney = sa2_data_original[sa2_data_original['GCC_NAME16']=='Greater Sydney']\n",
    "\n",
    "df = pd.concat([task2_results_with_Missing_Data.drop(columns=['index', 'hz','rz','az','cz','sz','sigmoid']), sa2_data_original_Greater_Sydney])\n",
    "gdf4 = df.drop_duplicates(keep=False)\n",
    "\n",
    "gdf = gpd.GeoDataFrame(task2_results)\n",
    "\n",
    "merged = gdf.set_index('SA2_NAME16').join(sa2_data_original_Greater_Sydney.set_index('SA2_NAME16'))\n",
    "\n",
    "merged2 = pd.concat([merged, gdf4], axis=0)\n",
    "\n",
    "# Visualising the Results on a map\n",
    "fig, ax = plt.subplots(1, figsize=(10, 6))\n",
    "ax.axis('off')\n",
    "ax.set_title('Greater Sydney Liveability Analysis', fontdict={'fontsize': '15', 'fontweight' : '3'})\n",
    "# merged2.drop\n",
    "merged2.drop(merged2.index[0]).plot(column='sigmoid',\n",
    "            cmap='RdYlGn',\n",
    "            linewidth=0.9,\n",
    "            ax=ax,\n",
    "            edgecolor='1',\n",
    "            legend=True, \n",
    "            legend_kwds={\"label\": \"Sigmoid Score\"},\n",
    "            missing_kwds={\"color\": \"lightgrey\"})\n",
    "\n"
   ]
  },
  {
   "cell_type": "markdown",
   "metadata": {},
   "source": [
    "The Top 5 places with Highest Liveability Scores are : "
   ]
  },
  {
   "cell_type": "code",
   "execution_count": 53,
   "metadata": {},
   "outputs": [
    {
     "data": {
      "text/html": [
       "<div>\n",
       "<style scoped>\n",
       "    .dataframe tbody tr th:only-of-type {\n",
       "        vertical-align: middle;\n",
       "    }\n",
       "\n",
       "    .dataframe tbody tr th {\n",
       "        vertical-align: top;\n",
       "    }\n",
       "\n",
       "    .dataframe thead th {\n",
       "        text-align: right;\n",
       "    }\n",
       "</style>\n",
       "<table border=\"1\" class=\"dataframe\">\n",
       "  <thead>\n",
       "    <tr style=\"text-align: right;\">\n",
       "      <th></th>\n",
       "      <th>SA2_NAME16</th>\n",
       "      <th>hz</th>\n",
       "      <th>rz</th>\n",
       "      <th>az</th>\n",
       "      <th>cz</th>\n",
       "      <th>sz</th>\n",
       "      <th>sigmoid</th>\n",
       "    </tr>\n",
       "  </thead>\n",
       "  <tbody>\n",
       "    <tr>\n",
       "      <th>0</th>\n",
       "      <td>Banksmeadow</td>\n",
       "      <td>0.425829</td>\n",
       "      <td>9.460319</td>\n",
       "      <td>9.200746</td>\n",
       "      <td>0.201544</td>\n",
       "      <td>3.983167</td>\n",
       "      <td>1.000000</td>\n",
       "    </tr>\n",
       "    <tr>\n",
       "      <th>1</th>\n",
       "      <td>Sydney - Haymarket - The Rocks</td>\n",
       "      <td>1.980091</td>\n",
       "      <td>0.290178</td>\n",
       "      <td>1.007219</td>\n",
       "      <td>1.830518</td>\n",
       "      <td>0.098221</td>\n",
       "      <td>0.824218</td>\n",
       "    </tr>\n",
       "    <tr>\n",
       "      <th>2</th>\n",
       "      <td>Bondi Junction - Waverly</td>\n",
       "      <td>1.134065</td>\n",
       "      <td>0.048608</td>\n",
       "      <td>0.027957</td>\n",
       "      <td>0.117664</td>\n",
       "      <td>0.083633</td>\n",
       "      <td>0.764336</td>\n",
       "    </tr>\n",
       "    <tr>\n",
       "      <th>3</th>\n",
       "      <td>North Sydney - Lavender Bay</td>\n",
       "      <td>0.927963</td>\n",
       "      <td>0.011003</td>\n",
       "      <td>0.228796</td>\n",
       "      <td>0.105394</td>\n",
       "      <td>0.106286</td>\n",
       "      <td>0.762902</td>\n",
       "    </tr>\n",
       "    <tr>\n",
       "      <th>4</th>\n",
       "      <td>Kogarah</td>\n",
       "      <td>0.892925</td>\n",
       "      <td>0.068376</td>\n",
       "      <td>0.069629</td>\n",
       "      <td>0.003605</td>\n",
       "      <td>0.085310</td>\n",
       "      <td>0.752620</td>\n",
       "    </tr>\n",
       "  </tbody>\n",
       "</table>\n",
       "</div>"
      ],
      "text/plain": [
       "                       SA2_NAME16        hz        rz        az        cz  \\\n",
       "0                     Banksmeadow  0.425829  9.460319  9.200746  0.201544   \n",
       "1  Sydney - Haymarket - The Rocks  1.980091  0.290178  1.007219  1.830518   \n",
       "2        Bondi Junction - Waverly  1.134065  0.048608  0.027957  0.117664   \n",
       "3     North Sydney - Lavender Bay  0.927963  0.011003  0.228796  0.105394   \n",
       "4                         Kogarah  0.892925  0.068376  0.069629  0.003605   \n",
       "\n",
       "         sz   sigmoid  \n",
       "0  3.983167  1.000000  \n",
       "1  0.098221  0.824218  \n",
       "2  0.083633  0.764336  \n",
       "3  0.106286  0.762902  \n",
       "4  0.085310  0.752620  "
      ]
     },
     "execution_count": 53,
     "metadata": {},
     "output_type": "execute_result"
    }
   ],
   "source": [
    "SQL_Query_for_Best_Places=\"\"\"\n",
    "SELECT * FROM task2_results\n",
    "ORDER BY sigmoid DESC\n",
    "limit(5);\n",
    "\"\"\"\n",
    "query(conn,SQL_Query_for_Best_Places)"
   ]
  },
  {
   "cell_type": "markdown",
   "metadata": {},
   "source": [
    "The Bottom 5 places with Lowest Liveability Scores are : "
   ]
  },
  {
   "cell_type": "code",
   "execution_count": 54,
   "metadata": {},
   "outputs": [
    {
     "data": {
      "text/html": [
       "<div>\n",
       "<style scoped>\n",
       "    .dataframe tbody tr th:only-of-type {\n",
       "        vertical-align: middle;\n",
       "    }\n",
       "\n",
       "    .dataframe tbody tr th {\n",
       "        vertical-align: top;\n",
       "    }\n",
       "\n",
       "    .dataframe thead th {\n",
       "        text-align: right;\n",
       "    }\n",
       "</style>\n",
       "<table border=\"1\" class=\"dataframe\">\n",
       "  <thead>\n",
       "    <tr style=\"text-align: right;\">\n",
       "      <th></th>\n",
       "      <th>SA2_NAME16</th>\n",
       "      <th>hz</th>\n",
       "      <th>rz</th>\n",
       "      <th>az</th>\n",
       "      <th>cz</th>\n",
       "      <th>sz</th>\n",
       "      <th>sigmoid</th>\n",
       "    </tr>\n",
       "  </thead>\n",
       "  <tbody>\n",
       "    <tr>\n",
       "      <th>0</th>\n",
       "      <td>Darlinghurst</td>\n",
       "      <td>0.956905</td>\n",
       "      <td>0.041291</td>\n",
       "      <td>0.161466</td>\n",
       "      <td>10.479619</td>\n",
       "      <td>0.059976</td>\n",
       "      <td>0.000095</td>\n",
       "    </tr>\n",
       "    <tr>\n",
       "      <th>1</th>\n",
       "      <td>Surry Hills</td>\n",
       "      <td>0.273281</td>\n",
       "      <td>0.031110</td>\n",
       "      <td>0.150860</td>\n",
       "      <td>6.707776</td>\n",
       "      <td>0.077836</td>\n",
       "      <td>0.002077</td>\n",
       "    </tr>\n",
       "    <tr>\n",
       "      <th>2</th>\n",
       "      <td>Potts Point - Woolloomooloo</td>\n",
       "      <td>0.019003</td>\n",
       "      <td>0.089364</td>\n",
       "      <td>0.001466</td>\n",
       "      <td>6.019857</td>\n",
       "      <td>0.089022</td>\n",
       "      <td>0.002956</td>\n",
       "    </tr>\n",
       "    <tr>\n",
       "      <th>3</th>\n",
       "      <td>Pyrmont - Ultimo</td>\n",
       "      <td>0.000722</td>\n",
       "      <td>0.065426</td>\n",
       "      <td>0.027556</td>\n",
       "      <td>4.331306</td>\n",
       "      <td>0.100736</td>\n",
       "      <td>0.015722</td>\n",
       "    </tr>\n",
       "    <tr>\n",
       "      <th>4</th>\n",
       "      <td>Glebe - Forest Lodge</td>\n",
       "      <td>0.088070</td>\n",
       "      <td>0.093299</td>\n",
       "      <td>0.059755</td>\n",
       "      <td>3.696551</td>\n",
       "      <td>0.103614</td>\n",
       "      <td>0.033836</td>\n",
       "    </tr>\n",
       "  </tbody>\n",
       "</table>\n",
       "</div>"
      ],
      "text/plain": [
       "                    SA2_NAME16        hz        rz        az         cz  \\\n",
       "0                 Darlinghurst  0.956905  0.041291  0.161466  10.479619   \n",
       "1                  Surry Hills  0.273281  0.031110  0.150860   6.707776   \n",
       "2  Potts Point - Woolloomooloo  0.019003  0.089364  0.001466   6.019857   \n",
       "3             Pyrmont - Ultimo  0.000722  0.065426  0.027556   4.331306   \n",
       "4         Glebe - Forest Lodge  0.088070  0.093299  0.059755   3.696551   \n",
       "\n",
       "         sz   sigmoid  \n",
       "0  0.059976  0.000095  \n",
       "1  0.077836  0.002077  \n",
       "2  0.089022  0.002956  \n",
       "3  0.100736  0.015722  \n",
       "4  0.103614  0.033836  "
      ]
     },
     "execution_count": 54,
     "metadata": {},
     "output_type": "execute_result"
    }
   ],
   "source": [
    "SQL_Query_for_Worst_Places=\"\"\"\n",
    "SELECT * FROM task2_results\n",
    "ORDER BY sigmoid \n",
    "limit(5);\n",
    "\"\"\"\n",
    "query(conn,SQL_Query_for_Worst_Places)"
   ]
  },
  {
   "cell_type": "markdown",
   "metadata": {},
   "source": [
    "### Distribution of Calculated Score"
   ]
  },
  {
   "cell_type": "markdown",
   "metadata": {},
   "source": [
    "We can see that the the sigmoid score calculated above is really concentrated within a small range with a few outliers which make the the score distribution chart look like the following : "
   ]
  },
  {
   "cell_type": "code",
   "execution_count": 55,
   "metadata": {},
   "outputs": [
    {
     "data": {
      "text/plain": [
       "array([[<matplotlib.axes._subplots.AxesSubplot object at 0x7f4873990b10>]],\n",
       "      dtype=object)"
      ]
     },
     "execution_count": 55,
     "metadata": {},
     "output_type": "execute_result"
    },
    {
     "data": {
      "image/png": "[encoded data removed]",
      "text/plain": [
       "<Figure size 432x288 with 1 Axes>"
      ]
     },
     "metadata": {
      "needs_background": "light"
     },
     "output_type": "display_data"
    }
   ],
   "source": [
    "merged2.hist(column='sigmoid')"
   ]
  },
  {
   "cell_type": "markdown",
   "metadata": {},
   "source": [
    "###  Correlation between the Liveability Score and the Median Rent and Median Income"
   ]
  },
  {
   "cell_type": "markdown",
   "metadata": {},
   "source": [
    " We join our results table (table containing zscores and sigmoid score),neighbourhood and sa2 data tables. Then we apply the `corr` function function on `sigmoid` and `avg_monthly_rent` columns. Similarly, we perform this to the `sigmoid` and `median_annual_household_income` columns."
   ]
  },
  {
   "cell_type": "code",
   "execution_count": 56,
   "metadata": {},
   "outputs": [
    {
     "name": "stdout",
     "output_type": "stream",
     "text": [
      "Error encountered: \n",
      "This result object does not return rows. It has been closed automatically.\n"
     ]
    },
    {
     "data": {
      "text/html": [
       "<div>\n",
       "<style scoped>\n",
       "    .dataframe tbody tr th:only-of-type {\n",
       "        vertical-align: middle;\n",
       "    }\n",
       "\n",
       "    .dataframe tbody tr th {\n",
       "        vertical-align: top;\n",
       "    }\n",
       "\n",
       "    .dataframe thead th {\n",
       "        text-align: right;\n",
       "    }\n",
       "</style>\n",
       "<table border=\"1\" class=\"dataframe\">\n",
       "  <thead>\n",
       "    <tr style=\"text-align: right;\">\n",
       "      <th></th>\n",
       "      <th>Rent Correlation</th>\n",
       "      <th>Income Correlation</th>\n",
       "    </tr>\n",
       "  </thead>\n",
       "  <tbody>\n",
       "    <tr>\n",
       "      <th>0</th>\n",
       "      <td>-0.148096</td>\n",
       "      <td>-0.135192</td>\n",
       "    </tr>\n",
       "  </tbody>\n",
       "</table>\n",
       "</div>"
      ],
      "text/plain": [
       "   Rent Correlation  Income Correlation\n",
       "0         -0.148096           -0.135192"
      ]
     },
     "execution_count": 56,
     "metadata": {},
     "output_type": "execute_result"
    }
   ],
   "source": [
    "SQL_Query_to_create_task3_data = \"\"\"\n",
    "DROP TABLE IF EXISTS task3_data;\n",
    "CREATE TABLE task3_data AS\n",
    "select \n",
    "\"hz\", \n",
    "\"rz\", \n",
    "\"az\", \n",
    "\"cz\", \n",
    "\"sz\", \n",
    "\"sigmoid\",\n",
    "\"area_id\",\n",
    "\"land_area\",\n",
    "\"population\",\n",
    "\"number_of_dwellings\",\n",
    "\"number_of_businesses\",\n",
    "\"median_annual_household_income\",\n",
    "\"avg_monthly_rent\",\n",
    "\"0-4\",\n",
    "\"5-9\",\n",
    "\"10-14\",\n",
    "\"15-19\",\n",
    "\"SA2_MAIN16\",\n",
    "s.\"SA2_NAME16\",\n",
    "\"SA3_NAME16\",\n",
    "\"AREASQKM16\",\n",
    "\"geom\"\n",
    "from results R, neighbourhood N, sa2_data s\n",
    "where s.\"SA2_MAIN16\" = N.\"area_id\"\n",
    "and r.\"SA2_NAME16\"=s.\"SA2_NAME16\"\n",
    "Order by sigmoid desc;\n",
    "\"\"\"\n",
    "query(conn,SQL_Query_to_create_task3_data)\n",
    "\n",
    "SQL_Query_to_find_Correlation = \"\"\" SELECT corr(\"sigmoid\",\"avg_monthly_rent\") AS \"Rent Correlation\",\n",
    "corr(\"sigmoid\",\"median_annual_household_income\") AS \"Income Correlation\" FROM task3_data; \"\"\"\n",
    "query(conn,SQL_Query_to_find_Correlation)"
   ]
  },
  {
   "cell_type": "markdown",
   "metadata": {},
   "source": [
    "Results of this analysis points out that there's **no strong linear relationship** between the liveability score and median rent/income of each neighbourhood."
   ]
  },
  {
   "cell_type": "markdown",
   "metadata": {},
   "source": [
    "# TASK - 3"
   ]
  },
  {
   "cell_type": "markdown",
   "metadata": {},
   "source": [
    "In this task we divert our attention to the City of Sydney within the Greater Sydney Area. Here we focus to analyse the suitablity of each suburb within the city of Sydney for our stakeholder, i.e., a family of three with a young child. In addition to health, retail , accommodation, school facilities and concerns about theft for this family we identified safety and recreational facilites are important when settling down in the city.\n",
    "\n",
    "Therefore we use the [Lights](https://data.cityofsydney.nsw.gov.au/datasets/cityofsydney::lights/about) dataset which gives information about the lights controlled by Sydney City Council and [Playgrounds](https://data.cityofsydney.nsw.gov.au/datasets/cityofsydney::playgrounds/about) dataset which gives data on the playgrounds in the city obtained from the [City of Sydney Open Data Hub](https://data.cityofsydney.nsw.gov.au/).\n",
    "\n",
    "The modified formula to calculate the liveability for our stake holder is given below.\n",
    "\n",
    "    Score = Sigmoid (2*(Z_school) + 2*(Z_accomm) + 0.5*(Z_retail) - 3*(Z_crime) + 2*(Z_health) + Z_lights + Z_playgrounds)\n",
    "                        \n",
    "In addition to the zscores calculated in task 2 we compute zscores for our Lights and Playgrounds datasets. Higher the number of lights in a suburb higher the safety of the neighbourhood and reduced chances of crime. Also more number of playgrounds implies better recreational facilities. Therefore both these zscores are \"added\" to the liveability score."
   ]
  },
  {
   "cell_type": "code",
   "execution_count": 57,
   "metadata": {},
   "outputs": [
    {
     "name": "stdout",
     "output_type": "stream",
     "text": [
      "Error encountered: \n",
      "This result object does not return rows. It has been closed automatically.\n",
      "Error encountered: \n",
      "This result object does not return rows. It has been closed automatically.\n",
      "Error encountered: \n",
      "This result object does not return rows. It has been closed automatically.\n"
     ]
    },
    {
     "name": "stderr",
     "output_type": "stream",
     "text": [
      "/opt/jupyterhub/lib/python3.7/site-packages/geopandas/plotting.py:335: UserWarning: The GeoSeries you are attempting to plot is empty. Nothing has been displayed.\n",
      "  UserWarning,\n"
     ]
    },
    {
     "data": {
      "text/plain": [
       "<matplotlib.axes._subplots.AxesSubplot at 0x7f48740a94d0>"
      ]
     },
     "execution_count": 57,
     "metadata": {},
     "output_type": "execute_result"
    },
    {
     "data": {
      "image/png": "[encoded data removed]",
      "text/plain": [
       "<Figure size 720x432 with 2 Axes>"
      ]
     },
     "metadata": {
      "needs_background": "light"
     },
     "output_type": "display_data"
    }
   ],
   "source": [
    "# TASK-3\n",
    "\n",
    "sql=\"\"\"\n",
    "DROP TABLE IF EXISTS Lights_database;\n",
    "CREATE TABLE Lights_database AS\n",
    "\n",
    "WITH Lights_data AS \n",
    "(SELECT avg(q1) AS mean,\n",
    "stddev(q1) AS sd\n",
    "FROM (SELECT COUNT(*) as q1 FROM\n",
    "    task3_data t, lights l\n",
    "    where \"SA3_NAME16\"='Sydney Inner City'\n",
    "    AND ST_Contains(t.geom,l.geom)\n",
    "    GROUP BY \"SA2_NAME16\" ) a)\n",
    "\n",
    "SELECT t.\"SA2_NAME16\",(abs(COUNT(*)-AVG(ld.mean))/AVG(ld.sd)) AS lz\n",
    "FROM task3_data t, lights l, lights_data ld\n",
    "where \"SA3_NAME16\"='Sydney Inner City'\n",
    "AND ST_Contains(t.geom,l.geom)\n",
    "GROUP BY \"SA2_NAME16\"\n",
    ";\n",
    "\"\"\"\n",
    "query(conn,sql)\n",
    "\n",
    "sql=\"\"\"\n",
    "DROP TABLE IF EXISTS Playgrounds_database;\n",
    "CREATE TABLE Playgrounds_database AS\n",
    "\n",
    "WITH Playgrounds_data AS \n",
    "(SELECT avg(q2) AS mean,\n",
    "stddev(q2) AS sd\n",
    "FROM (SELECT COUNT(*) as q2 FROM\n",
    "    task3_data t, Playgrounds p\n",
    "    where \"SA3_NAME16\"='Sydney Inner City'\n",
    "    AND ST_Contains(t.geom,p.geom)\n",
    "    GROUP BY \"SA2_NAME16\" ) a)\n",
    "\n",
    "SELECT t.\"SA2_NAME16\",(abs(COUNT(*)-AVG(pd.mean))/AVG(pd.sd)) AS pz\n",
    "FROM task3_data t, playgrounds p, playgrounds_data pd\n",
    "where \"SA3_NAME16\"='Sydney Inner City'\n",
    "AND ST_Contains(t.geom,p.geom)\n",
    "GROUP BY \"SA2_NAME16\"\n",
    ";\n",
    "\"\"\"\n",
    "query(conn,sql)\n",
    "\n",
    "sql=\"\"\"\n",
    "DROP TABLE IF EXISTS task3_results;\n",
    "CREATE TABLE task3_results AS\n",
    "\n",
    "SELECT \n",
    "t.\"SA2_NAME16\",\n",
    "1/(1+(exp(-((2*hz)+(0.5*rz)+(2*az)-(3*cz)+(2*sz)+(lz)+(pz))))) AS Sigmoid,\n",
    "t.geom\n",
    "\n",
    "FROM \n",
    "task3_data t, lights_database l, playgrounds_database p\n",
    "WHERE t.\"SA2_NAME16\"=l.\"SA2_NAME16\"\n",
    "AND p.\"SA2_NAME16\"=l.\"SA2_NAME16\"\n",
    "ORDER BY Sigmoid desc\n",
    "\"\"\"\n",
    "\n",
    "# Correctly printing the Coloured Map\n",
    "query(conn,sql)\n",
    "results_task3 = query(conn,\"SELECT * FROM task3_results\")\n",
    "gdf_task3 = gpd.GeoDataFrame(results_task3)\n",
    "\n",
    "merged_task3 = gdf_task3.set_index('SA2_NAME16').join(sa2_data_og.set_index('SA2_NAME16'))\n",
    "merged_task3\n",
    "\n",
    "\n",
    "fig, ax = plt.subplots(1, figsize=(10, 6))\n",
    "ax.axis('off')\n",
    "ax.set_title('Sydney Inner City Liveability Analysis', fontdict={'fontsize': '15', 'fontweight' : '3'})\n",
    "\n",
    "merged_task3.plot(column='sigmoid',\n",
    "            cmap='RdYlGn',\n",
    "            linewidth=0.9,\n",
    "            ax=ax,\n",
    "            edgecolor='1',\n",
    "            legend=True, \n",
    "            legend_kwds={\"label\": \"Sigmoid Score\"},\n",
    "            missing_kwds={\"color\": \"lightgrey\"})"
   ]
  },
  {
   "cell_type": "markdown",
   "metadata": {},
   "source": [
    "The Liveability Scores for Inner City Sydney are : "
   ]
  },
  {
   "cell_type": "code",
   "execution_count": 58,
   "metadata": {},
   "outputs": [
    {
     "data": {
      "text/html": [
       "<div>\n",
       "<style scoped>\n",
       "    .dataframe tbody tr th:only-of-type {\n",
       "        vertical-align: middle;\n",
       "    }\n",
       "\n",
       "    .dataframe tbody tr th {\n",
       "        vertical-align: top;\n",
       "    }\n",
       "\n",
       "    .dataframe thead th {\n",
       "        text-align: right;\n",
       "    }\n",
       "</style>\n",
       "<table border=\"1\" class=\"dataframe\">\n",
       "  <thead>\n",
       "    <tr style=\"text-align: right;\">\n",
       "      <th></th>\n",
       "      <th>SA2_NAME16</th>\n",
       "      <th>sigmoid</th>\n",
       "    </tr>\n",
       "  </thead>\n",
       "  <tbody>\n",
       "    <tr>\n",
       "      <th>0</th>\n",
       "      <td>Sydney - Haymarket - The Rocks</td>\n",
       "      <td>9.792974e-01</td>\n",
       "    </tr>\n",
       "    <tr>\n",
       "      <th>1</th>\n",
       "      <td>Erskineville - Alexandria</td>\n",
       "      <td>4.880846e-01</td>\n",
       "    </tr>\n",
       "    <tr>\n",
       "      <th>2</th>\n",
       "      <td>Waterloo - Beaconsfield</td>\n",
       "      <td>4.707652e-01</td>\n",
       "    </tr>\n",
       "    <tr>\n",
       "      <th>3</th>\n",
       "      <td>Newtown - Camperdown - Darlington</td>\n",
       "      <td>3.322787e-02</td>\n",
       "    </tr>\n",
       "    <tr>\n",
       "      <th>4</th>\n",
       "      <td>Redfern - Chippendale</td>\n",
       "      <td>6.804863e-04</td>\n",
       "    </tr>\n",
       "    <tr>\n",
       "      <th>5</th>\n",
       "      <td>Glebe - Forest Lodge</td>\n",
       "      <td>9.211143e-05</td>\n",
       "    </tr>\n",
       "    <tr>\n",
       "      <th>6</th>\n",
       "      <td>Pyrmont - Ultimo</td>\n",
       "      <td>2.044487e-05</td>\n",
       "    </tr>\n",
       "    <tr>\n",
       "      <th>7</th>\n",
       "      <td>Potts Point - Woolloomooloo</td>\n",
       "      <td>4.772905e-08</td>\n",
       "    </tr>\n",
       "    <tr>\n",
       "      <th>8</th>\n",
       "      <td>Surry Hills</td>\n",
       "      <td>1.926976e-08</td>\n",
       "    </tr>\n",
       "    <tr>\n",
       "      <th>9</th>\n",
       "      <td>Darlinghurst</td>\n",
       "      <td>1.611734e-12</td>\n",
       "    </tr>\n",
       "  </tbody>\n",
       "</table>\n",
       "</div>"
      ],
      "text/plain": [
       "                          SA2_NAME16       sigmoid\n",
       "0     Sydney - Haymarket - The Rocks  9.792974e-01\n",
       "1          Erskineville - Alexandria  4.880846e-01\n",
       "2            Waterloo - Beaconsfield  4.707652e-01\n",
       "3  Newtown - Camperdown - Darlington  3.322787e-02\n",
       "4              Redfern - Chippendale  6.804863e-04\n",
       "5               Glebe - Forest Lodge  9.211143e-05\n",
       "6                   Pyrmont - Ultimo  2.044487e-05\n",
       "7        Potts Point - Woolloomooloo  4.772905e-08\n",
       "8                        Surry Hills  1.926976e-08\n",
       "9                       Darlinghurst  1.611734e-12"
      ]
     },
     "execution_count": 58,
     "metadata": {},
     "output_type": "execute_result"
    }
   ],
   "source": [
    "SQL_Query_For_Inner_Sydney = \"\"\"\n",
    "SELECT \"SA2_NAME16\",\"sigmoid\" FROM task3_results\n",
    "ORDER BY sigmoid DESC;\n",
    "\"\"\"\n",
    "query(conn,SQL_Query_For_Inner_Sydney)"
   ]
  },
  {
   "cell_type": "markdown",
   "metadata": {},
   "source": [
    "### Distribution of Calculated Score"
   ]
  },
  {
   "cell_type": "markdown",
   "metadata": {},
   "source": [
    "We can see that the the sigmoid score calculated above is distributed between 3 concentrated areas which make the the score distribution chart look like the following : "
   ]
  },
  {
   "cell_type": "code",
   "execution_count": 59,
   "metadata": {},
   "outputs": [
    {
     "data": {
      "text/plain": [
       "array([[<matplotlib.axes._subplots.AxesSubplot object at 0x7f48740c52d0>]],\n",
       "      dtype=object)"
      ]
     },
     "execution_count": 59,
     "metadata": {},
     "output_type": "execute_result"
    },
    {
     "data": {
      "image/png": "[encoded data removed]",
      "text/plain": [
       "<Figure size 432x288 with 1 Axes>"
      ]
     },
     "metadata": {
      "needs_background": "light"
     },
     "output_type": "display_data"
    }
   ],
   "source": [
    "merged_task3.hist(column='sigmoid')"
   ]
  },
  {
   "cell_type": "markdown",
   "metadata": {},
   "source": [
    "# TASK - 4"
   ]
  },
  {
   "cell_type": "markdown",
   "metadata": {},
   "source": [
    "We now deploy a t-distributed stochastic neighbor embedding Alogorithm, i.e., an Unsupervised Machine Learning Algorithm to calculate the Liveability Scores for all SA2 areas in Greater Sydney.\n",
    "\n",
    "Note : The following query may take a long time to process."
   ]
  },
  {
   "cell_type": "code",
   "execution_count": 60,
   "metadata": {},
   "outputs": [],
   "source": [
    "merged['cz_neg']=merged['cz']**(-1)\n",
    "# merged\n",
    "\n",
    "# Defining Model\n",
    "model = TSNE(learning_rate=100)\n",
    "\n",
    "# Fitting Model\n",
    "transformed = model.fit_transform(merged[['hz','rz','az','cz_neg','sz']])\n",
    "\n",
    "# Plotting 2d t-Sne\n",
    "x_axis = transformed[:, 0]\n",
    "y_axis = transformed[:, 1]"
   ]
  },
  {
   "cell_type": "code",
   "execution_count": 61,
   "metadata": {},
   "outputs": [
    {
     "data": {
      "text/plain": [
       "<matplotlib.axes._subplots.AxesSubplot at 0x7f4872f997d0>"
      ]
     },
     "execution_count": 61,
     "metadata": {},
     "output_type": "execute_result"
    },
    {
     "data": {
      "image/png": "[encoded data removed]",
      "text/plain": [
       "<Figure size 720x432 with 2 Axes>"
      ]
     },
     "metadata": {
      "needs_background": "light"
     },
     "output_type": "display_data"
    }
   ],
   "source": [
    "import math\n",
    "data=[]\n",
    "ML_merged=merged.copy()\n",
    "for i in range(len(x_axis)) :\n",
    "    new_row = math.sqrt(x_axis[i]**2 + y_axis[i]**2)\n",
    "    data.append([new_row])\n",
    "\n",
    "ML_df = pd.DataFrame(data,columns=['ML_Score'])\n",
    "# ML_df\n",
    "ML_merged = pd.concat([merged.reset_index(), ML_df], axis=1)\n",
    "ML_merged = pd.concat([ML_merged, gdf4], axis=0)\n",
    "# ML_merged\n",
    "\n",
    "fig, ax = plt.subplots(1, figsize=(10, 6))\n",
    "ax.axis('off')\n",
    "ax.set_title('Greater Sydney Liveability Analysis by ML', fontdict={'fontsize': '15', 'fontweight' : '3'})\n",
    "\n",
    "ML_merged.drop(0).plot(column='ML_Score',\n",
    "            cmap='RdYlGn',\n",
    "            linewidth=0.9,\n",
    "            ax=ax,\n",
    "            edgecolor='1',\n",
    "            legend=True, \n",
    "            legend_kwds={\"label\": \"ML Score\"},\n",
    "            missing_kwds={\"color\": \"lightgrey\"})"
   ]
  },
  {
   "cell_type": "markdown",
   "metadata": {},
   "source": [
    "The places with the Highest Liveability Score as per Machine Learning is :"
   ]
  },
  {
   "cell_type": "code",
   "execution_count": 32,
   "metadata": {},
   "outputs": [
    {
     "data": {
      "text/html": [
       "<div>\n",
       "<style scoped>\n",
       "    .dataframe tbody tr th:only-of-type {\n",
       "        vertical-align: middle;\n",
       "    }\n",
       "\n",
       "    .dataframe tbody tr th {\n",
       "        vertical-align: top;\n",
       "    }\n",
       "\n",
       "    .dataframe thead th {\n",
       "        text-align: right;\n",
       "    }\n",
       "</style>\n",
       "<table border=\"1\" class=\"dataframe\">\n",
       "  <thead>\n",
       "    <tr style=\"text-align: right;\">\n",
       "      <th></th>\n",
       "      <th>SA2_NAME16</th>\n",
       "      <th>hz</th>\n",
       "      <th>rz</th>\n",
       "      <th>az</th>\n",
       "      <th>cz_neg</th>\n",
       "      <th>sz</th>\n",
       "      <th>sigmoid</th>\n",
       "      <th>ML_Score</th>\n",
       "    </tr>\n",
       "  </thead>\n",
       "  <tbody>\n",
       "    <tr>\n",
       "      <th>163</th>\n",
       "      <td>Cabramatta - Lansvale</td>\n",
       "      <td>0.035759</td>\n",
       "      <td>0.056511</td>\n",
       "      <td>0.075869</td>\n",
       "      <td>14.035096</td>\n",
       "      <td>0.093473</td>\n",
       "      <td>0.547447</td>\n",
       "      <td>26.910737</td>\n",
       "    </tr>\n",
       "    <tr>\n",
       "      <th>131</th>\n",
       "      <td>Marrickville</td>\n",
       "      <td>0.095663</td>\n",
       "      <td>0.069581</td>\n",
       "      <td>0.062982</td>\n",
       "      <td>14.905780</td>\n",
       "      <td>0.073732</td>\n",
       "      <td>0.558449</td>\n",
       "      <td>26.909639</td>\n",
       "    </tr>\n",
       "    <tr>\n",
       "      <th>11</th>\n",
       "      <td>Hassall Grove - Plumpton</td>\n",
       "      <td>0.311396</td>\n",
       "      <td>0.119022</td>\n",
       "      <td>0.150775</td>\n",
       "      <td>15.267982</td>\n",
       "      <td>0.105804</td>\n",
       "      <td>0.650560</td>\n",
       "      <td>26.792327</td>\n",
       "    </tr>\n",
       "    <tr>\n",
       "      <th>14</th>\n",
       "      <td>Blacktown (South)</td>\n",
       "      <td>0.297904</td>\n",
       "      <td>0.114571</td>\n",
       "      <td>0.123225</td>\n",
       "      <td>22.175700</td>\n",
       "      <td>0.098656</td>\n",
       "      <td>0.643196</td>\n",
       "      <td>26.713448</td>\n",
       "    </tr>\n",
       "    <tr>\n",
       "      <th>122</th>\n",
       "      <td>Auburn - Central</td>\n",
       "      <td>0.046286</td>\n",
       "      <td>0.087789</td>\n",
       "      <td>0.099940</td>\n",
       "      <td>14.931467</td>\n",
       "      <td>0.095206</td>\n",
       "      <td>0.565189</td>\n",
       "      <td>26.664821</td>\n",
       "    </tr>\n",
       "    <tr>\n",
       "      <th>150</th>\n",
       "      <td>Bankstown - South</td>\n",
       "      <td>0.008031</td>\n",
       "      <td>0.064090</td>\n",
       "      <td>0.080441</td>\n",
       "      <td>23.551181</td>\n",
       "      <td>0.093235</td>\n",
       "      <td>0.550660</td>\n",
       "      <td>26.655740</td>\n",
       "    </tr>\n",
       "    <tr>\n",
       "      <th>27</th>\n",
       "      <td>Auburn - North</td>\n",
       "      <td>0.302132</td>\n",
       "      <td>0.053620</td>\n",
       "      <td>0.079958</td>\n",
       "      <td>24.078299</td>\n",
       "      <td>0.105774</td>\n",
       "      <td>0.622448</td>\n",
       "      <td>26.630854</td>\n",
       "    </tr>\n",
       "    <tr>\n",
       "      <th>32</th>\n",
       "      <td>Wiley Park</td>\n",
       "      <td>0.253532</td>\n",
       "      <td>0.096291</td>\n",
       "      <td>0.089155</td>\n",
       "      <td>12.888836</td>\n",
       "      <td>0.095606</td>\n",
       "      <td>0.612302</td>\n",
       "      <td>26.625036</td>\n",
       "    </tr>\n",
       "    <tr>\n",
       "      <th>22</th>\n",
       "      <td>Cabramatta West - Mount Pritchard</td>\n",
       "      <td>0.242881</td>\n",
       "      <td>0.107096</td>\n",
       "      <td>0.134050</td>\n",
       "      <td>25.074623</td>\n",
       "      <td>0.089957</td>\n",
       "      <td>0.630440</td>\n",
       "      <td>26.581058</td>\n",
       "    </tr>\n",
       "    <tr>\n",
       "      <th>79</th>\n",
       "      <td>Neutral Bay - Kirribilli</td>\n",
       "      <td>0.196633</td>\n",
       "      <td>0.079650</td>\n",
       "      <td>0.041086</td>\n",
       "      <td>12.354947</td>\n",
       "      <td>0.097348</td>\n",
       "      <td>0.582678</td>\n",
       "      <td>26.479765</td>\n",
       "    </tr>\n",
       "  </tbody>\n",
       "</table>\n",
       "</div>"
      ],
      "text/plain": [
       "                            SA2_NAME16        hz        rz        az  \\\n",
       "163              Cabramatta - Lansvale  0.035759  0.056511  0.075869   \n",
       "131                       Marrickville  0.095663  0.069581  0.062982   \n",
       "11            Hassall Grove - Plumpton  0.311396  0.119022  0.150775   \n",
       "14                   Blacktown (South)  0.297904  0.114571  0.123225   \n",
       "122                   Auburn - Central  0.046286  0.087789  0.099940   \n",
       "150                  Bankstown - South  0.008031  0.064090  0.080441   \n",
       "27                      Auburn - North  0.302132  0.053620  0.079958   \n",
       "32                          Wiley Park  0.253532  0.096291  0.089155   \n",
       "22   Cabramatta West - Mount Pritchard  0.242881  0.107096  0.134050   \n",
       "79            Neutral Bay - Kirribilli  0.196633  0.079650  0.041086   \n",
       "\n",
       "        cz_neg        sz   sigmoid   ML_Score  \n",
       "163  14.035096  0.093473  0.547447  26.910737  \n",
       "131  14.905780  0.073732  0.558449  26.909639  \n",
       "11   15.267982  0.105804  0.650560  26.792327  \n",
       "14   22.175700  0.098656  0.643196  26.713448  \n",
       "122  14.931467  0.095206  0.565189  26.664821  \n",
       "150  23.551181  0.093235  0.550660  26.655740  \n",
       "27   24.078299  0.105774  0.622448  26.630854  \n",
       "32   12.888836  0.095606  0.612302  26.625036  \n",
       "22   25.074623  0.089957  0.630440  26.581058  \n",
       "79   12.354947  0.097348  0.582678  26.479765  "
      ]
     },
     "execution_count": 32,
     "metadata": {},
     "output_type": "execute_result"
    }
   ],
   "source": [
    "ML_merged.sort_values('ML_Score',ascending=False).drop(0)[['SA2_NAME16','hz','rz','az','cz_neg','sz','sigmoid','ML_Score']][:10]"
   ]
  },
  {
   "cell_type": "markdown",
   "metadata": {},
   "source": [
    "The places with the Lowest Liveability Score as per Machine Learning is :"
   ]
  },
  {
   "cell_type": "code",
   "execution_count": 33,
   "metadata": {
    "scrolled": true
   },
   "outputs": [
    {
     "data": {
      "text/html": [
       "<div>\n",
       "<style scoped>\n",
       "    .dataframe tbody tr th:only-of-type {\n",
       "        vertical-align: middle;\n",
       "    }\n",
       "\n",
       "    .dataframe tbody tr th {\n",
       "        vertical-align: top;\n",
       "    }\n",
       "\n",
       "    .dataframe thead th {\n",
       "        text-align: right;\n",
       "    }\n",
       "</style>\n",
       "<table border=\"1\" class=\"dataframe\">\n",
       "  <thead>\n",
       "    <tr style=\"text-align: right;\">\n",
       "      <th></th>\n",
       "      <th>SA2_NAME16</th>\n",
       "      <th>hz</th>\n",
       "      <th>rz</th>\n",
       "      <th>az</th>\n",
       "      <th>cz_neg</th>\n",
       "      <th>sz</th>\n",
       "      <th>sigmoid</th>\n",
       "      <th>ML_Score</th>\n",
       "    </tr>\n",
       "  </thead>\n",
       "  <tbody>\n",
       "    <tr>\n",
       "      <th>104</th>\n",
       "      <td>Rooty Hill - Minchinbury</td>\n",
       "      <td>0.271952</td>\n",
       "      <td>0.103457</td>\n",
       "      <td>0.124496</td>\n",
       "      <td>3.410883</td>\n",
       "      <td>0.091132</td>\n",
       "      <td>0.573919</td>\n",
       "      <td>0.591835</td>\n",
       "    </tr>\n",
       "    <tr>\n",
       "      <th>162</th>\n",
       "      <td>Bass Hill - Georges Hall</td>\n",
       "      <td>0.195480</td>\n",
       "      <td>0.097112</td>\n",
       "      <td>0.112475</td>\n",
       "      <td>3.391854</td>\n",
       "      <td>0.080280</td>\n",
       "      <td>0.547487</td>\n",
       "      <td>0.811542</td>\n",
       "    </tr>\n",
       "    <tr>\n",
       "      <th>116</th>\n",
       "      <td>Drummoyne - Rodd Point</td>\n",
       "      <td>0.326839</td>\n",
       "      <td>0.074566</td>\n",
       "      <td>0.066116</td>\n",
       "      <td>3.478405</td>\n",
       "      <td>0.094849</td>\n",
       "      <td>0.568291</td>\n",
       "      <td>0.874127</td>\n",
       "    </tr>\n",
       "    <tr>\n",
       "      <th>191</th>\n",
       "      <td>Castle Hill - North</td>\n",
       "      <td>0.176891</td>\n",
       "      <td>0.084347</td>\n",
       "      <td>0.083643</td>\n",
       "      <td>3.389971</td>\n",
       "      <td>0.094091</td>\n",
       "      <td>0.535934</td>\n",
       "      <td>0.985465</td>\n",
       "    </tr>\n",
       "    <tr>\n",
       "      <th>103</th>\n",
       "      <td>Gosford - Springfield</td>\n",
       "      <td>0.352139</td>\n",
       "      <td>0.068170</td>\n",
       "      <td>0.076281</td>\n",
       "      <td>3.488684</td>\n",
       "      <td>0.088401</td>\n",
       "      <td>0.574039</td>\n",
       "      <td>1.016720</td>\n",
       "    </tr>\n",
       "    <tr>\n",
       "      <th>124</th>\n",
       "      <td>Beacon Hill - Narraweena</td>\n",
       "      <td>0.228789</td>\n",
       "      <td>0.100486</td>\n",
       "      <td>0.127050</td>\n",
       "      <td>3.388018</td>\n",
       "      <td>0.097288</td>\n",
       "      <td>0.564257</td>\n",
       "      <td>1.044795</td>\n",
       "    </tr>\n",
       "    <tr>\n",
       "      <th>158</th>\n",
       "      <td>Regents Park</td>\n",
       "      <td>0.184699</td>\n",
       "      <td>0.072517</td>\n",
       "      <td>0.141440</td>\n",
       "      <td>3.372570</td>\n",
       "      <td>0.093196</td>\n",
       "      <td>0.548681</td>\n",
       "      <td>1.122873</td>\n",
       "    </tr>\n",
       "    <tr>\n",
       "      <th>170</th>\n",
       "      <td>Ermington - Rydalmere</td>\n",
       "      <td>0.235501</td>\n",
       "      <td>0.079697</td>\n",
       "      <td>0.085754</td>\n",
       "      <td>3.491110</td>\n",
       "      <td>0.060113</td>\n",
       "      <td>0.543545</td>\n",
       "      <td>1.347561</td>\n",
       "    </tr>\n",
       "    <tr>\n",
       "      <th>55</th>\n",
       "      <td>Hornsby - East</td>\n",
       "      <td>0.427790</td>\n",
       "      <td>0.054155</td>\n",
       "      <td>0.069215</td>\n",
       "      <td>3.542350</td>\n",
       "      <td>0.103392</td>\n",
       "      <td>0.592003</td>\n",
       "      <td>1.373550</td>\n",
       "    </tr>\n",
       "    <tr>\n",
       "      <th>145</th>\n",
       "      <td>Chester Hill - Sefton</td>\n",
       "      <td>0.197093</td>\n",
       "      <td>0.082648</td>\n",
       "      <td>0.138806</td>\n",
       "      <td>3.462698</td>\n",
       "      <td>0.074919</td>\n",
       "      <td>0.550990</td>\n",
       "      <td>1.381813</td>\n",
       "    </tr>\n",
       "  </tbody>\n",
       "</table>\n",
       "</div>"
      ],
      "text/plain": [
       "                   SA2_NAME16        hz        rz        az    cz_neg  \\\n",
       "104  Rooty Hill - Minchinbury  0.271952  0.103457  0.124496  3.410883   \n",
       "162  Bass Hill - Georges Hall  0.195480  0.097112  0.112475  3.391854   \n",
       "116    Drummoyne - Rodd Point  0.326839  0.074566  0.066116  3.478405   \n",
       "191       Castle Hill - North  0.176891  0.084347  0.083643  3.389971   \n",
       "103     Gosford - Springfield  0.352139  0.068170  0.076281  3.488684   \n",
       "124  Beacon Hill - Narraweena  0.228789  0.100486  0.127050  3.388018   \n",
       "158              Regents Park  0.184699  0.072517  0.141440  3.372570   \n",
       "170     Ermington - Rydalmere  0.235501  0.079697  0.085754  3.491110   \n",
       "55             Hornsby - East  0.427790  0.054155  0.069215  3.542350   \n",
       "145     Chester Hill - Sefton  0.197093  0.082648  0.138806  3.462698   \n",
       "\n",
       "           sz   sigmoid  ML_Score  \n",
       "104  0.091132  0.573919  0.591835  \n",
       "162  0.080280  0.547487  0.811542  \n",
       "116  0.094849  0.568291  0.874127  \n",
       "191  0.094091  0.535934  0.985465  \n",
       "103  0.088401  0.574039  1.016720  \n",
       "124  0.097288  0.564257  1.044795  \n",
       "158  0.093196  0.548681  1.122873  \n",
       "170  0.060113  0.543545  1.347561  \n",
       "55   0.103392  0.592003  1.373550  \n",
       "145  0.074919  0.550990  1.381813  "
      ]
     },
     "execution_count": 33,
     "metadata": {},
     "output_type": "execute_result"
    }
   ],
   "source": [
    "ML_merged.sort_values('ML_Score').drop(0)[['SA2_NAME16','hz','rz','az','cz_neg','sz','sigmoid','ML_Score']][:10]"
   ]
  },
  {
   "cell_type": "markdown",
   "metadata": {},
   "source": [
    "### Distribution of Calculated Score"
   ]
  },
  {
   "cell_type": "markdown",
   "metadata": {},
   "source": [
    "We can see that the the sigmoid score calculated above is really concentrated within a small range with one outlier. Therefore, we plot the distribution of the scores, omitting the outlier : "
   ]
  },
  {
   "cell_type": "code",
   "execution_count": 62,
   "metadata": {},
   "outputs": [
    {
     "data": {
      "text/plain": [
       "array([[<matplotlib.axes._subplots.AxesSubplot object at 0x7f4874216410>]],\n",
       "      dtype=object)"
      ]
     },
     "execution_count": 62,
     "metadata": {},
     "output_type": "execute_result"
    },
    {
     "data": {
      "image/png": "[encoded data removed]",
      "text/plain": [
       "<Figure size 432x288 with 1 Axes>"
      ]
     },
     "metadata": {
      "needs_background": "light"
     },
     "output_type": "display_data"
    }
   ],
   "source": [
    "ML_merged.drop(0).hist(column='ML_Score')"
   ]
  },
  {
   "cell_type": "markdown",
   "metadata": {},
   "source": [
    "## Closing Connections"
   ]
  },
  {
   "cell_type": "markdown",
   "metadata": {},
   "source": [
    "Now, having completed our analysis, we will close our connection to the PostgreSQL server."
   ]
  },
  {
   "cell_type": "code",
   "execution_count": 63,
   "metadata": {},
   "outputs": [],
   "source": [
    "conn.close()\n",
    "db.dispose()"
   ]
  }
 ],
 "metadata": {
  "kernelspec": {
   "display_name": "Python 3",
   "language": "python",
   "name": "python3"
  },
  "language_info": {
   "codemirror_mode": {
    "name": "ipython",
    "version": 3
   },
   "file_extension": ".py",
   "mimetype": "text/x-python",
   "name": "python",
   "nbconvert_exporter": "python",
   "pygments_lexer": "ipython3",
   "version": "3.7.4"
  }
 },
 "nbformat": 4,
 "nbformat_minor": 4
}

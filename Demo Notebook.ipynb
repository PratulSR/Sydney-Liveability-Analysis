{
 "cells": [
  {
   "cell_type": "code",
   "execution_count": 47,
   "metadata": {},
   "outputs": [
    {
     "data": {
      "text/html": [
       "\n",
       "    <style> body {font-family: \"Roboto Condensed Light\", \"Roboto Condensed\";} h2 {padding: 10px 12px; background-color: #E64626; position: static; color: #ffffff; font-size: 40px;} .text_cell_render p { font-size: 15px; } .text_cell_render h1 { font-size: 30px; } h1 {padding: 10px 12px; background-color: #E64626; color: #ffffff; font-size: 40px;} .text_cell_render h3 { padding: 10px 12px; background-color: #0148A4; position: static; color: #ffffff; font-size: 20px;} h4:before{ \n",
       "    content: \"@\"; font-family:\"Wingdings\"; font-style:regular; margin-right: 4px;} .text_cell_render h4 {padding: 8px; font-family: \"Roboto Condensed Light\"; position: static; font-style: italic; background-color: #FFB800; color: #ffffff; font-size: 18px; text-align: center; border-radius: 5px;}input[type=submit] {background-color: #E64626; border: solid; border-color: #734036; color: white; padding: 8px 16px; text-decoration: none; margin: 4px 2px; cursor: pointer; border-radius: 20px;}</style>\n",
       "    <script> code_show=true; function code_toggle() {if (code_show){$('div.input').hide();} else {$('div.input').show();} code_show = !code_show} $( document ).ready(code_toggle);</script>\n",
       "    <form action=\"javascript:code_toggle()\"><input type=\"submit\" value=\"Hide/show all code.\"></form>\n"
      ],
      "text/plain": [
       "<IPython.core.display.HTML object>"
      ]
     },
     "execution_count": 47,
     "metadata": {},
     "output_type": "execute_result"
    }
   ],
   "source": [
    "from IPython.display import HTML\n",
    "HTML('''\n",
    "    <style> body {font-family: \"Roboto Condensed Light\", \"Roboto Condensed\";} h2 {padding: 10px 12px; background-color: #E64626; position: static; color: #ffffff; font-size: 40px;} .text_cell_render p { font-size: 15px; } .text_cell_render h1 { font-size: 30px; } h1 {padding: 10px 12px; background-color: #E64626; color: #ffffff; font-size: 40px;} .text_cell_render h3 { padding: 10px 12px; background-color: #0148A4; position: static; color: #ffffff; font-size: 20px;} h4:before{ \n",
    "    content: \"@\"; font-family:\"Wingdings\"; font-style:regular; margin-right: 4px;} .text_cell_render h4 {padding: 8px; font-family: \"Roboto Condensed Light\"; position: static; font-style: italic; background-color: #FFB800; color: #ffffff; font-size: 18px; text-align: center; border-radius: 5px;}input[type=submit] {background-color: #E64626; border: solid; border-color: #734036; color: white; padding: 8px 16px; text-decoration: none; margin: 4px 2px; cursor: pointer; border-radius: 20px;}</style>\n",
    "    <script> code_show=true; function code_toggle() {if (code_show){$('div.input').hide();} else {$('div.input').show();} code_show = !code_show} $( document ).ready(code_toggle);</script>\n",
    "    <form action=\"javascript:code_toggle()\"><input type=\"submit\" value=\"Hide/show all code.\"></form>\n",
    "''')"
   ]
  },
  {
   "cell_type": "markdown",
   "metadata": {},
   "source": [
    "# Sydney Liveability Analysis"
   ]
  },
  {
   "cell_type": "markdown",
   "metadata": {},
   "source": [
    "## Group - 5  F10Adv-01"
   ]
  },
  {
   "cell_type": "code",
   "execution_count": 48,
   "metadata": {},
   "outputs": [],
   "source": [
    "import pandas as pd\n",
    "import geopandas as gpd\n",
    "import json\n",
    "from shapely.geometry import Point, Polygon, MultiPolygon\n",
    "from geoalchemy2 import Geometry, WKTElement\n",
    "import matplotlib.pyplot as plt"
   ]
  },
  {
   "cell_type": "code",
   "execution_count": 49,
   "metadata": {},
   "outputs": [],
   "source": [
    "sa2_data = gpd.read_file(\"SA2_2016_AUST/SA2_2016_AUST.shp\")"
   ]
  },
  {
   "cell_type": "code",
   "execution_count": 50,
   "metadata": {},
   "outputs": [],
   "source": [
    "break_and_enter = gpd.read_file(\"break_and_enter/BreakEnterDwelling_JanToDec2021.shp\")"
   ]
  },
  {
   "cell_type": "code",
   "execution_count": 51,
   "metadata": {},
   "outputs": [],
   "source": [
    "school_catchments_future = gpd.read_file(\"school_catchments/catchments_future.shp\")"
   ]
  },
  {
   "cell_type": "code",
   "execution_count": 52,
   "metadata": {},
   "outputs": [],
   "source": [
    "school_catchments_primary = gpd.read_file(\"school_catchments/catchments_primary.shp\")"
   ]
  },
  {
   "cell_type": "code",
   "execution_count": 53,
   "metadata": {},
   "outputs": [],
   "source": [
    "school_catchments_secondary = gpd.read_file(\"school_catchments/catchments_secondary.shp\")"
   ]
  },
  {
   "cell_type": "code",
   "execution_count": 54,
   "metadata": {},
   "outputs": [],
   "source": [
    "neighbourhoods = pd.read_csv('Neighbourhoods.csv')"
   ]
  },
  {
   "cell_type": "code",
   "execution_count": 55,
   "metadata": {},
   "outputs": [],
   "source": [
    "BusinessStats = pd.read_csv('BusinessStats.csv')"
   ]
  },
  {
   "cell_type": "code",
   "execution_count": 56,
   "metadata": {},
   "outputs": [],
   "source": [
    "Playgrounds_json = json.load(open('Playgrounds.geojson'))\n",
    "\n",
    "Playgrounds_DataFrame = pd.DataFrame(Playgrounds_json[\"features\"])\n",
    "Playgrounds_pandas_data=[]\n",
    "for index, row in Playgrounds_DataFrame.iterrows():\n",
    "    append_row = [row[\"geometry\"][\"coordinates\"][0],row[\"geometry\"][\"coordinates\"][1],row[\"properties\"][\"Name\"]]\n",
    "    Playgrounds_pandas_data.append(append_row)\n",
    "    \n",
    "Playgrounds = pd.DataFrame(Playgrounds_pandas_data, columns = ['X', 'Y','Name'])\n",
    "Playgrounds['geom'] = gpd.points_from_xy(Playgrounds.X, Playgrounds.Y)  # creating the geometry column\n",
    "Playgrounds = Playgrounds.drop(columns=['X', 'Y'])  # removing the old latitude/longitude fields"
   ]
  },
  {
   "cell_type": "code",
   "execution_count": 57,
   "metadata": {},
   "outputs": [],
   "source": [
    "Lights_json = json.load(open('Lights.geojson'))\n",
    "Lights_DataFrame = pd.DataFrame(Lights_json[\"features\"])\n",
    "Lights_pandas_data=[]\n",
    "for index, row in Lights_DataFrame.iterrows():\n",
    "    append_row = [row[\"geometry\"][\"coordinates\"][0],row[\"geometry\"][\"coordinates\"][1],row[\"properties\"][\"Location\"]]\n",
    "    Lights_pandas_data.append(append_row)\n",
    "    \n",
    "Lights = pd.DataFrame(Lights_pandas_data, columns = ['X', 'Y','Location'])\n",
    "Lights['geom'] = gpd.points_from_xy(Lights.X, Lights.Y)  # creating the geometry column\n",
    "Lights = Lights.drop(columns=['X', 'Y'])  # removing the old latitude/longitude fields"
   ]
  },
  {
   "cell_type": "code",
   "execution_count": 58,
   "metadata": {},
   "outputs": [],
   "source": [
    "sa2_data = sa2_data.drop(sa2_data[(sa2_data['SA4_NAME16'].str.contains(\"No usual address\", case=False)) |\n",
    "                                  (sa2_data['SA4_NAME16'].str.contains(\"Migratory - Offshore - Shipping\", case=False)) |\n",
    "                         sa2_data['SA3_NAME16'].str.contains(\"No usual address\", case=False) |\n",
    "                         sa2_data['SA3_NAME16'].str.contains(\"Migratory - Offshore - Shipping\", case=False) |\n",
    "                         sa2_data['SA2_NAME16'].str.contains(\"No usual address\", case=False) | \n",
    "                         sa2_data['SA2_NAME16'].str.contains(\"Migratory - Offshore - Shipping\", case=False) | \n",
    "                         sa2_data['GCC_NAME16'].str.contains(\"No usual address\", case=False) | \n",
    "                         sa2_data['GCC_NAME16'].str.contains(\"Migratory - Offshore - Shipping\", case=False) |\n",
    "                         sa2_data['GCC_NAME16'].str.contains(\"Rest of\", case=False)].index\n",
    "                        )\n",
    "\n",
    "sa2_data = sa2_data[sa2_data['GCC_NAME16']=='Greater Sydney'] "
   ]
  },
  {
   "cell_type": "code",
   "execution_count": 59,
   "metadata": {},
   "outputs": [],
   "source": [
    "# neighbourhoods.isnull().values.any()\n",
    "# nan_rows = neighbourhoods[neighbourhoods.isnull().T.any()]\n",
    "# # print(nan_rows)\n",
    "neighbourhoods = neighbourhoods.drop(neighbourhoods[neighbourhoods.isnull().T.any()].index)\n",
    "# neighbourhoods.get_value(319, 'population', takeable=False)\n",
    "# for index, row in nan_rows.iterrows():\n",
    "#     print(row)\n",
    "# print(type(nan_rows))\n"
   ]
  },
  {
   "cell_type": "code",
   "execution_count": 60,
   "metadata": {},
   "outputs": [],
   "source": [
    "for index, row in neighbourhoods.iterrows():\n",
    "    old_value = row['population']\n",
    "    old_value_split = str(row['population']).split(\",\")\n",
    "    new_value = \"\"\n",
    "    for i in old_value_split :\n",
    "        new_value = new_value+i\n",
    "    neighbourhoods['population'] = neighbourhoods['population'].replace([old_value],int(new_value))\n",
    "\n",
    "#     print(row['c1'], row['c2'])\n",
    "\n",
    "# neighbourhoods['population'] = neighbourhoods['population'].replace(['old value'],'new value')"
   ]
  },
  {
   "cell_type": "code",
   "execution_count": 61,
   "metadata": {},
   "outputs": [],
   "source": [
    "from sqlalchemy import create_engine\n",
    "import psycopg2\n",
    "import psycopg2.extras\n",
    "import json\n",
    "\n",
    "credentials = \"Credentials.json\"\n",
    "\n",
    "def pgconnect(credential_filepath, db_schema=\"public\"):\n",
    "    with open(credential_filepath) as f:\n",
    "        db_conn_dict = json.load(f)\n",
    "        host       = db_conn_dict['host']\n",
    "        db_user    = db_conn_dict['user']\n",
    "        db_pw      = db_conn_dict['password']\n",
    "        default_db = db_conn_dict['user']\n",
    "        try:\n",
    "            db = create_engine('postgresql+psycopg2://'+db_user+':'+db_pw+'@'+host+'/'+default_db, echo=False)\n",
    "            conn = db.connect()\n",
    "            print('Connected successfully.')\n",
    "        except Exception as e:\n",
    "            print(\"Unable to connect to the database.\")\n",
    "            print(e)\n",
    "            db, conn = None, None\n",
    "        return db,conn\n",
    "\n",
    "def query(conn, sqlcmd, args=None, df=True):\n",
    "    result = pd.DataFrame() if df else None\n",
    "    try:\n",
    "        if df:\n",
    "            result = pd.read_sql_query(sqlcmd, conn, params=args)\n",
    "        else:\n",
    "            result = conn.execute(sqlcmd, args).fetchall()\n",
    "            result = result[0] if len(result) == 1 else result\n",
    "    except Exception as e:\n",
    "        print(\"Error encountered: \", e, sep='\\n')\n",
    "    return result"
   ]
  },
  {
   "cell_type": "code",
   "execution_count": 62,
   "metadata": {},
   "outputs": [
    {
     "name": "stdout",
     "output_type": "stream",
     "text": [
      "Connected successfully.\n"
     ]
    }
   ],
   "source": [
    "db, conn = pgconnect(credentials)"
   ]
  },
  {
   "cell_type": "code",
   "execution_count": 63,
   "metadata": {},
   "outputs": [
    {
     "data": {
      "text/html": [
       "<div>\n",
       "<style scoped>\n",
       "    .dataframe tbody tr th:only-of-type {\n",
       "        vertical-align: middle;\n",
       "    }\n",
       "\n",
       "    .dataframe tbody tr th {\n",
       "        vertical-align: top;\n",
       "    }\n",
       "\n",
       "    .dataframe thead th {\n",
       "        text-align: right;\n",
       "    }\n",
       "</style>\n",
       "<table border=\"1\" class=\"dataframe\">\n",
       "  <thead>\n",
       "    <tr style=\"text-align: right;\">\n",
       "      <th></th>\n",
       "      <th>postgis_version</th>\n",
       "    </tr>\n",
       "  </thead>\n",
       "  <tbody>\n",
       "    <tr>\n",
       "      <th>0</th>\n",
       "      <td>3.0 USE_GEOS=1 USE_PROJ=1 USE_STATS=1</td>\n",
       "    </tr>\n",
       "  </tbody>\n",
       "</table>\n",
       "</div>"
      ],
      "text/plain": [
       "                         postgis_version\n",
       "0  3.0 USE_GEOS=1 USE_PROJ=1 USE_STATS=1"
      ]
     },
     "execution_count": 63,
     "metadata": {},
     "output_type": "execute_result"
    }
   ],
   "source": [
    "query(conn, \"select PostGIS_Version()\")"
   ]
  },
  {
   "cell_type": "code",
   "execution_count": 64,
   "metadata": {},
   "outputs": [],
   "source": [
    "srid = 4326\n",
    "Playgrounds['geom'] = Playgrounds['geom'].apply(lambda x: WKTElement(x.wkt, srid=srid))\n",
    "Lights['geom'] = Lights['geom'].apply(lambda x: WKTElement(x.wkt, srid=srid))"
   ]
  },
  {
   "cell_type": "code",
   "execution_count": 65,
   "metadata": {},
   "outputs": [],
   "source": [
    "sa2_data = sa2_data[['SA2_MAIN16', 'SA2_NAME16','SA3_NAME16','geometry']].copy()\n",
    "break_and_enter = break_and_enter[['OBJECTID', 'Density','geometry']].copy()\n",
    "school_catchments_future = school_catchments_future[['USE_ID','CATCH_TYPE', 'USE_DESC','geometry']].copy()\n",
    "school_catchments_primary = school_catchments_primary[['USE_ID', 'USE_DESC','geometry']].copy()\n",
    "school_catchments_secondary = school_catchments_secondary[['USE_ID', 'USE_DESC','geometry']].copy()\n",
    "neighbourhoods = neighbourhoods[['area_id','land_area','population', 'number_of_dwellings','number_of_businesses','median_annual_household_income','avg_monthly_rent','0-4','5-9','10-14','15-19']].copy()\n",
    "BusinessStats = BusinessStats[['area_id','number_of_businesses','accommodation_and_food_services','retail_trade','agriculture_forestry_and_fishing','health_care_and_social_assistance','public_administration_and_safety','transport_postal_and_warehousing']].copy()\n",
    "Lights = Lights[['Location', 'geom']].copy()\n",
    "Playgrounds = Playgrounds[['Name', 'geom']].copy()"
   ]
  },
  {
   "cell_type": "code",
   "execution_count": 66,
   "metadata": {},
   "outputs": [],
   "source": [
    "def create_wkt_element(geom, srid):\n",
    "    if geom!=None :\n",
    "        if geom.geom_type == 'Polygon':\n",
    "            geom = MultiPolygon([geom])\n",
    "        return WKTElement(geom.wkt, srid)\n",
    "\n",
    "# sa2_data_og = sa2_data.copy()  # creating a copy of the original for later\n",
    "sa2_data['geom'] = sa2_data['geometry'].apply(lambda x: create_wkt_element(geom=x,srid=srid))  # applying the function\n",
    "sa2_data = sa2_data.drop(columns=\"geometry\")  # deleting the old copy\n",
    "\n",
    "# break_and_enter_og = break_and_enter.copy()  # creating a copy of the original for later\n",
    "break_and_enter['geom'] = break_and_enter['geometry'].apply(lambda x: create_wkt_element(geom=x,srid=srid))  # applying the function\n",
    "break_and_enter = break_and_enter.drop(columns=\"geometry\")  # deleting the old copy\n",
    "\n",
    "# school_catchments_future_og = school_catchments_future.copy()  # creating a copy of the original for later\n",
    "school_catchments_future['geom'] = school_catchments_future['geometry'].apply(lambda x: create_wkt_element(geom=x,srid=srid))  # applying the function\n",
    "school_catchments_future = school_catchments_future.drop(columns=\"geometry\")  # deleting the old copy\n",
    "\n",
    "# school_catchments_primary_og = school_catchments_primary.copy()  # creating a copy of the original for later\n",
    "school_catchments_primary['geom'] = school_catchments_primary['geometry'].apply(lambda x: create_wkt_element(geom=x,srid=srid))  # applying the function\n",
    "school_catchments_primary = school_catchments_primary.drop(columns=\"geometry\")  # deleting the old copy\n",
    "\n",
    "# school_catchments_secondary_og = school_catchments_secondary.copy()  # creating a copy of the original for later\n",
    "school_catchments_secondary['geom'] = school_catchments_secondary['geometry'].apply(lambda x: create_wkt_element(geom=x,srid=srid))  # applying the function\n",
    "school_catchments_secondary = school_catchments_secondary.drop(columns=\"geometry\")  # deleting the old copy"
   ]
  },
  {
   "cell_type": "code",
   "execution_count": 128,
   "metadata": {},
   "outputs": [
    {
     "data": {
      "text/html": [
       "<div>\n",
       "<style scoped>\n",
       "    .dataframe tbody tr th:only-of-type {\n",
       "        vertical-align: middle;\n",
       "    }\n",
       "\n",
       "    .dataframe tbody tr th {\n",
       "        vertical-align: top;\n",
       "    }\n",
       "\n",
       "    .dataframe thead th {\n",
       "        text-align: right;\n",
       "    }\n",
       "</style>\n",
       "<table border=\"1\" class=\"dataframe\">\n",
       "  <thead>\n",
       "    <tr style=\"text-align: right;\">\n",
       "      <th></th>\n",
       "      <th>USE_ID</th>\n",
       "      <th>USE_DESC</th>\n",
       "      <th>geom</th>\n",
       "    </tr>\n",
       "  </thead>\n",
       "  <tbody>\n",
       "    <tr>\n",
       "      <th>0</th>\n",
       "      <td>2838</td>\n",
       "      <td>Parklea PS</td>\n",
       "      <td>MULTIPOLYGON (((150.93563850416 -33.7161211047...</td>\n",
       "    </tr>\n",
       "    <tr>\n",
       "      <th>1</th>\n",
       "      <td>3943</td>\n",
       "      <td>Gordon WPS</td>\n",
       "      <td>MULTIPOLYGON (((151.140850430121 -33.744626792...</td>\n",
       "    </tr>\n",
       "    <tr>\n",
       "      <th>2</th>\n",
       "      <td>2404</td>\n",
       "      <td>Lindfield EPS</td>\n",
       "      <td>MULTIPOLYGON (((151.1833640465581 -33.74748398...</td>\n",
       "    </tr>\n",
       "    <tr>\n",
       "      <th>3</th>\n",
       "      <td>4393</td>\n",
       "      <td>Carlingford WPS</td>\n",
       "      <td>MULTIPOLYGON (((151.0451821055135 -33.77303212...</td>\n",
       "    </tr>\n",
       "    <tr>\n",
       "      <th>4</th>\n",
       "      <td>4615</td>\n",
       "      <td>Caddies Ck  PS</td>\n",
       "      <td>MULTIPOLYGON (((150.9256732797658 -33.72960300...</td>\n",
       "    </tr>\n",
       "    <tr>\n",
       "      <th>...</th>\n",
       "      <td>...</td>\n",
       "      <td>...</td>\n",
       "      <td>...</td>\n",
       "    </tr>\n",
       "    <tr>\n",
       "      <th>1661</th>\n",
       "      <td>4383</td>\n",
       "      <td>E A Southee PS</td>\n",
       "      <td>MULTIPOLYGON (((147.9462089946497 -34.55863148...</td>\n",
       "    </tr>\n",
       "    <tr>\n",
       "      <th>1662</th>\n",
       "      <td>3275</td>\n",
       "      <td>Tumbarumba PS</td>\n",
       "      <td>MULTIPOLYGON (((148.1288534897749 -35.60081845...</td>\n",
       "    </tr>\n",
       "    <tr>\n",
       "      <th>1663</th>\n",
       "      <td>2239</td>\n",
       "      <td>Jindera PS</td>\n",
       "      <td>MULTIPOLYGON (((146.8614794320412 -35.87511069...</td>\n",
       "    </tr>\n",
       "    <tr>\n",
       "      <th>1664</th>\n",
       "      <td>3594</td>\n",
       "      <td>Louth PS</td>\n",
       "      <td>MULTIPOLYGON (((145.1840275468519 -29.65804989...</td>\n",
       "    </tr>\n",
       "    <tr>\n",
       "      <th>1665</th>\n",
       "      <td>2155</td>\n",
       "      <td>Hermidale PS</td>\n",
       "      <td>MULTIPOLYGON (((146.4600124391271 -31.31687953...</td>\n",
       "    </tr>\n",
       "  </tbody>\n",
       "</table>\n",
       "<p>1666 rows × 3 columns</p>\n",
       "</div>"
      ],
      "text/plain": [
       "     USE_ID         USE_DESC  \\\n",
       "0      2838       Parklea PS   \n",
       "1      3943       Gordon WPS   \n",
       "2      2404    Lindfield EPS   \n",
       "3      4393  Carlingford WPS   \n",
       "4      4615   Caddies Ck  PS   \n",
       "...     ...              ...   \n",
       "1661   4383   E A Southee PS   \n",
       "1662   3275    Tumbarumba PS   \n",
       "1663   2239       Jindera PS   \n",
       "1664   3594         Louth PS   \n",
       "1665   2155     Hermidale PS   \n",
       "\n",
       "                                                   geom  \n",
       "0     MULTIPOLYGON (((150.93563850416 -33.7161211047...  \n",
       "1     MULTIPOLYGON (((151.140850430121 -33.744626792...  \n",
       "2     MULTIPOLYGON (((151.1833640465581 -33.74748398...  \n",
       "3     MULTIPOLYGON (((151.0451821055135 -33.77303212...  \n",
       "4     MULTIPOLYGON (((150.9256732797658 -33.72960300...  \n",
       "...                                                 ...  \n",
       "1661  MULTIPOLYGON (((147.9462089946497 -34.55863148...  \n",
       "1662  MULTIPOLYGON (((148.1288534897749 -35.60081845...  \n",
       "1663  MULTIPOLYGON (((146.8614794320412 -35.87511069...  \n",
       "1664  MULTIPOLYGON (((145.1840275468519 -29.65804989...  \n",
       "1665  MULTIPOLYGON (((146.4600124391271 -31.31687953...  \n",
       "\n",
       "[1666 rows x 3 columns]"
      ]
     },
     "execution_count": 128,
     "metadata": {},
     "output_type": "execute_result"
    }
   ],
   "source": [
    "school_catchments_primary"
   ]
  },
  {
   "cell_type": "code",
   "execution_count": 68,
   "metadata": {},
   "outputs": [
    {
     "data": {
      "text/plain": [
       "<sqlalchemy.engine.result.ResultProxy at 0x7fc8b476da90>"
      ]
     },
     "execution_count": 68,
     "metadata": {},
     "output_type": "execute_result"
    }
   ],
   "source": [
    "# conn.execute(\"\"\"\n",
    "# CREATE SCHEMA IF NOT EXISTS Sydney_Liveability_Analysis;\n",
    "# SET search_path TO Sydney_Liveability_Analysis;\n",
    "# \"\"\")\n",
    "\n",
    "# sa2_data\n",
    "conn.execute(\"\"\"\n",
    "DROP TABLE IF EXISTS sa2_data;\n",
    "CREATE TABLE sa2_data (\n",
    "    \"SA2_MAIN16\" INTEGER,\n",
    "    \"SA2_NAME16\" VARCHAR(80),\n",
    "    \"SA3_NAME16\" VARCHAR(80),\n",
    "    \"geom\" GEOMETRY(MULTIPOLYGON,4326)\n",
    ");\"\"\"\n",
    ")\n",
    "\n",
    "# neighbourhood\n",
    "conn.execute(\"\"\"\n",
    "DROP TABLE IF EXISTS neighbourhood;\n",
    "CREATE TABLE neighbourhood (\n",
    "    \"area_id\" INTEGER,\n",
    "    \"land_area\" NUMERIC,\n",
    "    \"population\" INTEGER,\n",
    "    \"number_of_dwellings\" VARCHAR(80),\n",
    "    \"number_of_businesses\" INTEGER,\n",
    "    \"median_annual_household_income\" NUMERIC,\n",
    "    \"avg_monthly_rent\" INTEGER,\n",
    "    \"0-4\" INTEGER,\n",
    "    \"5-9\" INTEGER,\n",
    "    \"10-14\" INTEGER,\n",
    "    \"15-19\" INTEGER\n",
    ");\"\"\"\n",
    ")\n",
    "\n",
    "# break and enter\n",
    "conn.execute(\"\"\"\n",
    "DROP TABLE IF EXISTS break_and_enter;\n",
    "CREATE TABLE break_and_enter (\n",
    "    \"OBJECTID\" INTEGER,\n",
    "    \"Density\" VARCHAR(80),\n",
    "    \"geom\" GEOMETRY(MULTIPOLYGON,4326)\n",
    ");\"\"\"\n",
    ")\n",
    "\n",
    "# school_catchments_future\n",
    "conn.execute(\"\"\"\n",
    "DROP TABLE IF EXISTS school_catchments_future;\n",
    "CREATE TABLE school_catchments_future (\n",
    "    \"USE_ID\" INTEGER, \n",
    "    \"CATCH_TYPE\" VARCHAR(80), \n",
    "    \"USE_DESC\" VARCHAR(80),\n",
    "    \"geom\" GEOMETRY(MULTIPOLYGON,4326)\n",
    "    \n",
    ");\"\"\"\n",
    ")\n",
    "\n",
    "# school_catchments_primary\n",
    "conn.execute(\"\"\"\n",
    "DROP TABLE IF EXISTS school_catchments_primary;\n",
    "CREATE TABLE school_catchments_primary (\n",
    "    \"USE_ID\" INTEGER,\n",
    "    \"USE_DESC\" VARCHAR(80),\n",
    "    \"geom\" GEOMETRY(MULTIPOLYGON,4326)\n",
    "    \n",
    ");\"\"\"\n",
    ")\n",
    "\n",
    "# school_catchments_secondary\n",
    "conn.execute(\"\"\"\n",
    "DROP TABLE IF EXISTS school_catchments_secondary;\n",
    "CREATE TABLE school_catchments_secondary (\n",
    "    \"USE_ID\" INTEGER,\n",
    "    \"USE_DESC\" VARCHAR(80),\n",
    "    \"geom\" GEOMETRY(MULTIPOLYGON,4326)\n",
    "    \n",
    ");\"\"\"\n",
    ")\n",
    "\n",
    "\n",
    "# BusinessStats\n",
    "conn.execute(\"\"\"\n",
    "DROP TABLE IF EXISTS businessstats;\n",
    "CREATE TABLE businessstats (\n",
    "    \"area_id\" INTEGER,\n",
    "    \"number_of_businesses\" INTEGER,\n",
    "    \"accommodation_and_food_services\" INTEGER,\n",
    "    \"retail_trade\" INTEGER,\n",
    "    \"agriculture_forestry_and_fishing\" INTEGER,\n",
    "    \"health_care_and_social_assistance\" INTEGER,\n",
    "    \"public_administration_and_safety\" INTEGER,\n",
    "    \"transport_postal_and_warehousing\" INTEGER\n",
    ");\"\"\"\n",
    ")\n",
    "\n",
    "# Playgrounds\n",
    "conn.execute(\"\"\"\n",
    "DROP TABLE IF EXISTS playgrounds;\n",
    "CREATE TABLE playgrounds (\n",
    "   \"Name\" VARCHAR(200),\n",
    "   geom GEOMETRY(POINT, 4326)\n",
    ");\"\"\"\n",
    ")\n",
    "\n",
    "# Lights\n",
    "conn.execute(\"\"\"\n",
    "DROP TABLE IF EXISTS lights;\n",
    "CREATE TABLE lights (\n",
    "   \"Location\" VARCHAR(200),\n",
    "   geom GEOMETRY(POINT, 4326)\n",
    ");\"\"\"\n",
    ")\n"
   ]
  },
  {
   "cell_type": "code",
   "execution_count": 69,
   "metadata": {},
   "outputs": [],
   "source": [
    "sa2_data.to_sql('sa2_data', conn, if_exists='append', index=False, dtype={'geom': Geometry('MULTIPOLYGON', srid)})"
   ]
  },
  {
   "cell_type": "code",
   "execution_count": 70,
   "metadata": {},
   "outputs": [],
   "source": [
    "neighbourhoods.to_sql('neighbourhood', conn, if_exists='append', index=False)"
   ]
  },
  {
   "cell_type": "code",
   "execution_count": 71,
   "metadata": {},
   "outputs": [],
   "source": [
    "break_and_enter.to_sql(\"break_and_enter\", conn, if_exists='append', index=False, dtype={'geom': Geometry('MULTIPOLYGON', srid)})"
   ]
  },
  {
   "cell_type": "code",
   "execution_count": 72,
   "metadata": {},
   "outputs": [],
   "source": [
    "school_catchments_future.to_sql(\"school_catchments_future\", conn, if_exists='append', index=False, dtype={'geom': Geometry('MULTIPOLYGON', srid)})"
   ]
  },
  {
   "cell_type": "code",
   "execution_count": 73,
   "metadata": {},
   "outputs": [],
   "source": [
    "school_catchments_primary.to_sql(\"school_catchments_primary\", conn, if_exists='append', index=False, dtype={'geom': Geometry('MULTIPOLYGON', srid)})"
   ]
  },
  {
   "cell_type": "code",
   "execution_count": 74,
   "metadata": {},
   "outputs": [],
   "source": [
    "school_catchments_secondary.to_sql(\"school_catchments_secondary\", conn, if_exists='append', index=False, dtype={'geom': Geometry('MULTIPOLYGON', srid)})"
   ]
  },
  {
   "cell_type": "code",
   "execution_count": 75,
   "metadata": {},
   "outputs": [],
   "source": [
    "BusinessStats.to_sql('businessstats', conn, if_exists='append', index=False)"
   ]
  },
  {
   "cell_type": "code",
   "execution_count": 76,
   "metadata": {},
   "outputs": [],
   "source": [
    "Lights.to_sql('lights', conn, if_exists='append', index=False, dtype={'geom': Geometry('POINT', srid)})"
   ]
  },
  {
   "cell_type": "code",
   "execution_count": 77,
   "metadata": {},
   "outputs": [],
   "source": [
    "Playgrounds.to_sql('playgrounds', conn, if_exists='append', index=False, dtype={'geom': Geometry('POINT', srid)})"
   ]
  },
  {
   "cell_type": "code",
   "execution_count": null,
   "metadata": {},
   "outputs": [],
   "source": [
    "# query(conn, \"select * from sa2_data\") # 312 Rows\n",
    "# query(conn, \"select * from neighbourhood\") # 322 Rows\n",
    "# query(conn, \"select * from break_and_enter\") # 2594 Rows\n",
    "# query(conn, \"select * from school_catchments_future\") # 43 Rows\n",
    "# query(conn, \"select * from school_catchments_primary\") # 1666 Rows\n",
    "# query(conn, \"select * from school_catchments_secondary\") # 435 Rows\n",
    "# query(conn, \"select * from businessstats\") # 2301 Rows\n",
    "# query(conn, \"select * from lights\") # 8433 Rows\n",
    "# query(conn, \"select * from playgrounds\") # 151 Rows"
   ]
  },
  {
   "cell_type": "code",
   "execution_count": 135,
   "metadata": {},
   "outputs": [
    {
     "data": {
      "text/html": [
       "<div>\n",
       "<style scoped>\n",
       "    .dataframe tbody tr th:only-of-type {\n",
       "        vertical-align: middle;\n",
       "    }\n",
       "\n",
       "    .dataframe tbody tr th {\n",
       "        vertical-align: top;\n",
       "    }\n",
       "\n",
       "    .dataframe thead th {\n",
       "        text-align: right;\n",
       "    }\n",
       "</style>\n",
       "<table border=\"1\" class=\"dataframe\">\n",
       "  <thead>\n",
       "    <tr style=\"text-align: right;\">\n",
       "      <th></th>\n",
       "      <th>SA2_NAME16</th>\n",
       "      <th>health_care_and_social_assistance</th>\n",
       "      <th>population</th>\n",
       "      <th>hz</th>\n",
       "      <th>rz</th>\n",
       "      <th>az</th>\n",
       "    </tr>\n",
       "  </thead>\n",
       "  <tbody>\n",
       "    <tr>\n",
       "      <th>0</th>\n",
       "      <td>Sydney - Haymarket - The Rocks</td>\n",
       "      <td>1217</td>\n",
       "      <td>31010</td>\n",
       "      <td>6.874785</td>\n",
       "      <td>9.310323</td>\n",
       "      <td>13.737354</td>\n",
       "    </tr>\n",
       "    <tr>\n",
       "      <th>1</th>\n",
       "      <td>Chullora</td>\n",
       "      <td>11</td>\n",
       "      <td>1225</td>\n",
       "      <td>0.584661</td>\n",
       "      <td>8.657748</td>\n",
       "      <td>2.066460</td>\n",
       "    </tr>\n",
       "    <tr>\n",
       "      <th>2</th>\n",
       "      <td>Badgerys Creek</td>\n",
       "      <td>0</td>\n",
       "      <td>62</td>\n",
       "      <td>1.281562</td>\n",
       "      <td>8.078197</td>\n",
       "      <td>1.042036</td>\n",
       "    </tr>\n",
       "    <tr>\n",
       "      <th>3</th>\n",
       "      <td>Castle Hill - Central</td>\n",
       "      <td>90</td>\n",
       "      <td>7992</td>\n",
       "      <td>1.058858</td>\n",
       "      <td>2.005274</td>\n",
       "      <td>0.557525</td>\n",
       "    </tr>\n",
       "    <tr>\n",
       "      <th>4</th>\n",
       "      <td>North Sydney - Lavender Bay</td>\n",
       "      <td>261</td>\n",
       "      <td>11819</td>\n",
       "      <td>3.307951</td>\n",
       "      <td>1.905175</td>\n",
       "      <td>4.066902</td>\n",
       "    </tr>\n",
       "    <tr>\n",
       "      <th>...</th>\n",
       "      <td>...</td>\n",
       "      <td>...</td>\n",
       "      <td>...</td>\n",
       "      <td>...</td>\n",
       "      <td>...</td>\n",
       "      <td>...</td>\n",
       "    </tr>\n",
       "    <tr>\n",
       "      <th>294</th>\n",
       "      <td>Guildford - South Granville</td>\n",
       "      <td>108</td>\n",
       "      <td>22367</td>\n",
       "      <td>0.278049</td>\n",
       "      <td>0.016675</td>\n",
       "      <td>0.251605</td>\n",
       "    </tr>\n",
       "    <tr>\n",
       "      <th>295</th>\n",
       "      <td>Kingsgrove (North) - Earlwood</td>\n",
       "      <td>119</td>\n",
       "      <td>25211</td>\n",
       "      <td>0.300574</td>\n",
       "      <td>0.015770</td>\n",
       "      <td>0.069198</td>\n",
       "    </tr>\n",
       "    <tr>\n",
       "      <th>296</th>\n",
       "      <td>Woolaware - Burraneer</td>\n",
       "      <td>53</td>\n",
       "      <td>8260</td>\n",
       "      <td>0.051967</td>\n",
       "      <td>0.011508</td>\n",
       "      <td>0.120024</td>\n",
       "    </tr>\n",
       "    <tr>\n",
       "      <th>297</th>\n",
       "      <td>Newtown - Camperdown - Darlington</td>\n",
       "      <td>360</td>\n",
       "      <td>27450</td>\n",
       "      <td>1.444069</td>\n",
       "      <td>0.003502</td>\n",
       "      <td>0.949610</td>\n",
       "    </tr>\n",
       "    <tr>\n",
       "      <th>298</th>\n",
       "      <td>Prestons - Edmondson Park</td>\n",
       "      <td>86</td>\n",
       "      <td>19219</td>\n",
       "      <td>0.351580</td>\n",
       "      <td>0.001756</td>\n",
       "      <td>0.263658</td>\n",
       "    </tr>\n",
       "  </tbody>\n",
       "</table>\n",
       "<p>299 rows × 6 columns</p>\n",
       "</div>"
      ],
      "text/plain": [
       "                            SA2_NAME16  health_care_and_social_assistance  \\\n",
       "0       Sydney - Haymarket - The Rocks                               1217   \n",
       "1                             Chullora                                 11   \n",
       "2                       Badgerys Creek                                  0   \n",
       "3                Castle Hill - Central                                 90   \n",
       "4          North Sydney - Lavender Bay                                261   \n",
       "..                                 ...                                ...   \n",
       "294        Guildford - South Granville                                108   \n",
       "295      Kingsgrove (North) - Earlwood                                119   \n",
       "296              Woolaware - Burraneer                                 53   \n",
       "297  Newtown - Camperdown - Darlington                                360   \n",
       "298          Prestons - Edmondson Park                                 86   \n",
       "\n",
       "     population        hz        rz         az  \n",
       "0         31010  6.874785  9.310323  13.737354  \n",
       "1          1225  0.584661  8.657748   2.066460  \n",
       "2            62  1.281562  8.078197   1.042036  \n",
       "3          7992  1.058858  2.005274   0.557525  \n",
       "4         11819  3.307951  1.905175   4.066902  \n",
       "..          ...       ...       ...        ...  \n",
       "294       22367  0.278049  0.016675   0.251605  \n",
       "295       25211  0.300574  0.015770   0.069198  \n",
       "296        8260  0.051967  0.011508   0.120024  \n",
       "297       27450  1.444069  0.003502   0.949610  \n",
       "298       19219  0.351580  0.001756   0.263658  \n",
       "\n",
       "[299 rows x 6 columns]"
      ]
     },
     "execution_count": 135,
     "metadata": {},
     "output_type": "execute_result"
    }
   ],
   "source": [
    "sql=\"\"\"\n",
    "\n",
    "with Health AS \n",
    "(SELECT avg(1000.0*b.\"health_care_and_social_assistance\"/n.\"population\") AS mean,\n",
    "stddev(1000.0*b.\"health_care_and_social_assistance\"/n.\"population\") AS sd\n",
    "FROM businessstats b, neighbourhood n\n",
    "WHERE b.\"area_id\" = n.\"area_id\"),\n",
    "\n",
    "Retail AS\n",
    "(SELECT avg(1000.0*b.\"retail_trade\"/n.\"population\") AS mean,\n",
    "stddev(1000.0*b.\"retail_trade\"/n.\"population\") AS sd\n",
    "FROM businessstats b, neighbourhood n\n",
    "WHERE b.\"area_id\" = n.\"area_id\"),\n",
    "\n",
    "Accom AS\n",
    "(SELECT avg(1000.0*b.\"accommodation_and_food_services\"/n.\"population\") AS mean,\n",
    "stddev(1000.0*b.\"accommodation_and_food_services\"/n.\"population\") AS sd\n",
    "FROM businessstats b, neighbourhood n\n",
    "WHERE b.\"area_id\" = n.\"area_id\")\n",
    "\n",
    "SELECT s.\"SA2_NAME16\", b.\"health_care_and_social_assistance\", n.\"population\", \n",
    "abs((1000.0*b.\"health_care_and_social_assistance\"/n.\"population\")-Health.mean)/Health.sd AS HZ,\n",
    "abs((1000.0*b.\"retail_trade\"/n.\"population\")-Retail.mean)/Retail.sd AS RZ,\n",
    "abs((1000.0*b.\"accommodation_and_food_services\"/n.\"population\")-Accom.mean)/Accom.sd AS AZ\n",
    "\n",
    "FROM sa2_data s, businessstats b, neighbourhood n, Health, Retail, Accom\n",
    "WHERE s.\"SA2_MAIN16\" = b.\"area_id\"\n",
    "AND b.\"area_id\" = n.\"area_id\"\n",
    "ORDER BY rz desc\n",
    ";\n",
    "\"\"\"\n",
    "\n",
    "query(conn,sql)"
   ]
  },
  {
   "cell_type": "code",
   "execution_count": 58,
   "metadata": {},
   "outputs": [],
   "source": [
    "conn.close()\n",
    "db.dispose()"
   ]
  }
 ],
 "metadata": {
  "kernelspec": {
   "display_name": "Python 3",
   "language": "python",
   "name": "python3"
  },
  "language_info": {
   "codemirror_mode": {
    "name": "ipython",
    "version": 3
   },
   "file_extension": ".py",
   "mimetype": "text/x-python",
   "name": "python",
   "nbconvert_exporter": "python",
   "pygments_lexer": "ipython3",
   "version": "3.7.4"
  }
 },
 "nbformat": 4,
 "nbformat_minor": 4
}

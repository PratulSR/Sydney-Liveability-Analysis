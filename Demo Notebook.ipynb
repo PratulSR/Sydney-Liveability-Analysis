{
 "cells": [
  {
   "cell_type": "code",
   "execution_count": 149,
   "metadata": {},
   "outputs": [
    {
     "data": {
      "text/html": [
       "\n",
       "    <style> body {font-family: \"Roboto Condensed Light\", \"Roboto Condensed\";} \n",
       "    h2 {padding: 10px 12px; background-color: #E64626; position: static; color: #ffffff; font-size: 40px;} .text_cell_render p { font-size: 15px; } .text_cell_render \n",
       "    h1 { font-size: 30px; } h1 {padding: 10px 12px;font-style: bold; background-color: #E64626; color: #ffffff; font-size: 40px;} .text_cell_render \n",
       "    h3 { padding: 10px 12px; background-color: #16bedb; position: static; color: #ffffff; font-size: 20px;} \n",
       "    h4 {padding: 8px 20px; font-family: \"Roboto Condensed Light\"; position: static; font-style: italic; background-color: #57fa05; color: #ffffff; font-size: 18px;  border-radius: 5px;}input[type=submit] {background-color: #E64626; border: solid; border-color: #734036; color: white; padding: 8px 16px; text-decoration: none; margin: 4px 2px; cursor: pointer; border-radius: 20px;}</style>\n",
       "    <script> code_show=true; function code_toggle() {if (code_show){$('div.input').hide();} else {$('div.input').show();} code_show = !code_show} $( document ).ready(code_toggle);</script>\n",
       "    <form action=\"javascript:code_toggle()\"><input type=\"submit\" value=\"Hide/show all code.\"></form>\n"
      ],
      "text/plain": [
       "<IPython.core.display.HTML object>"
      ]
     },
     "execution_count": 149,
     "metadata": {},
     "output_type": "execute_result"
    }
   ],
   "source": [
    "from IPython.display import HTML\n",
    "HTML('''\n",
    "    <style> body {font-family: \"Roboto Condensed Light\", \"Roboto Condensed\";} \n",
    "    h2 {padding: 10px 12px; background-color: #E64626; position: static; color: #ffffff; font-size: 40px;} .text_cell_render p { font-size: 15px; } .text_cell_render \n",
    "    h1 { font-size: 30px; } h1 {padding: 10px 12px;font-style: bold; background-color: #E64626; color: #ffffff; font-size: 40px;} .text_cell_render \n",
    "    h3 { padding: 10px 12px; background-color: #16bedb; position: static; color: #ffffff; font-size: 20px;} \n",
    "    h4 {padding: 8px 20px; font-family: \"Roboto Condensed Light\"; position: static; font-style: italic; background-color: #57fa05; color: #ffffff; font-size: 18px;  border-radius: 5px;}input[type=submit] {background-color: #E64626; border: solid; border-color: #734036; color: white; padding: 8px 16px; text-decoration: none; margin: 4px 2px; cursor: pointer; border-radius: 20px;}</style>\n",
    "    <script> code_show=true; function code_toggle() {if (code_show){$('div.input').hide();} else {$('div.input').show();} code_show = !code_show} $( document ).ready(code_toggle);</script>\n",
    "    <form action=\"javascript:code_toggle()\"><input type=\"submit\" value=\"Hide/show all code.\"></form>\n",
    "''')"
   ]
  },
  {
   "cell_type": "markdown",
   "metadata": {},
   "source": [
    "# Sydney Liveability Analysis"
   ]
  },
  {
   "cell_type": "markdown",
   "metadata": {},
   "source": [
    "## Group - 5  F10Adv-01 : Pratul Singh Raghava & Amanda Walpitage"
   ]
  },
  {
   "cell_type": "markdown",
   "metadata": {},
   "source": [
    "This Jupyter Notebook contains the code and processes followed to calculate a **Liveability score** for each SA2 Area in Greater Sydney and further analysis of Inner Sydney suburbs through the integration of additional datasets. The results of this analysis have further been compared to parameters like Median Rent and Median Income of each neighbourhood in an attempt to figure out their correlation with the analysis results. This notebook also contains the analysis by an Unsupervised Machine Learning Algorithm and the comparison of its results with the tradional methods used before."
   ]
  },
  {
   "cell_type": "markdown",
   "metadata": {},
   "source": [
    "### Importing Modules"
   ]
  },
  {
   "cell_type": "markdown",
   "metadata": {},
   "source": [
    "Before we proceed with the analysis, we must first import all the necessary modules required to perform the analysis."
   ]
  },
  {
   "cell_type": "code",
   "execution_count": 150,
   "metadata": {},
   "outputs": [],
   "source": [
    "import pandas as pd\n",
    "import numpy as np\n",
    "import geopandas as gpd\n",
    "import json\n",
    "from shapely.geometry import Point, Polygon, MultiPolygon\n",
    "from geoalchemy2 import Geometry, WKTElement\n",
    "import matplotlib.pyplot as plt\n",
    "from math import sqrt\n",
    "from sklearn.manifold import TSNE"
   ]
  },
  {
   "cell_type": "markdown",
   "metadata": {},
   "source": [
    "### Importing Datasets"
   ]
  },
  {
   "cell_type": "markdown",
   "metadata": {},
   "source": [
    "#### Importing Spatial Data"
   ]
  },
  {
   "cell_type": "markdown",
   "metadata": {},
   "source": [
    "We import the spatial data from .shp files and store them in GeoPandas DataFrames, which are just like Pandas DataFrames, but with support for Geo-Spatial data."
   ]
  },
  {
   "cell_type": "code",
   "execution_count": 151,
   "metadata": {},
   "outputs": [],
   "source": [
    "# Importing the ABS SA2 Shape Data\n",
    "sa2_data = gpd.read_file(\"SA2_2016_AUST/SA2_2016_AUST.shp\")\n",
    "\n",
    "# Importing the shape data of theft ’hotspots’ in NSW \n",
    "break_and_enter = gpd.read_file(\"break_and_enter/BreakEnterDwelling_JanToDec2021.shp\")\n",
    "\n",
    "# Importing the shape data for future Government schools catchments\n",
    "school_catchments_future = gpd.read_file(\"school_catchments/catchments_future.shp\")\n",
    "\n",
    "# Importing the shape data for primary Government schools catchments\n",
    "school_catchments_primary = gpd.read_file(\"school_catchments/catchments_primary.shp\")\n",
    "\n",
    "# Importing the shape data for secondary Government schools catchments\n",
    "school_catchments_secondary = gpd.read_file(\"school_catchments/catchments_secondary.shp\")"
   ]
  },
  {
   "cell_type": "markdown",
   "metadata": {},
   "source": [
    "#### Importing Non-Spatial CSV Data"
   ]
  },
  {
   "cell_type": "markdown",
   "metadata": {},
   "source": [
    "We import the non-spatial data from .csv files and store them in Pandas DataFrames."
   ]
  },
  {
   "cell_type": "code",
   "execution_count": 152,
   "metadata": {},
   "outputs": [],
   "source": [
    "# Importing the Census data on neighbourhoods(SA2-level areas)\n",
    "neighbourhoods = pd.read_csv('Neighbourhoods.csv')\n",
    "\n",
    "# Importing the Business statistics per SA2-area\n",
    "BusinessStats = pd.read_csv('BusinessStats.csv')"
   ]
  },
  {
   "cell_type": "markdown",
   "metadata": {},
   "source": [
    "#### Importing Spatial GeoJSON Data"
   ]
  },
  {
   "cell_type": "markdown",
   "metadata": {},
   "source": [
    "We import the geo json data from GeoJson files and store them in Pandas Dataframe.\n"
   ]
  },
  {
   "cell_type": "markdown",
   "metadata": {},
   "source": [
    "[Playgrounds](https://data.cityofsydney.nsw.gov.au/datasets/cityofsydney::playgrounds/about)\n",
    "[Lights](https://data.cityofsydney.nsw.gov.au/datasets/cityofsydney::lights/about)"
   ]
  },
  {
   "cell_type": "code",
   "execution_count": 153,
   "metadata": {},
   "outputs": [],
   "source": [
    "Playgrounds_json = json.load(open('Playgrounds.geojson'))\n",
    "\n",
    "Playgrounds_DataFrame = pd.DataFrame(Playgrounds_json[\"features\"])\n",
    "Playgrounds_pandas_data=[]\n",
    "for index, row in Playgrounds_DataFrame.iterrows():\n",
    "    append_row = [row[\"geometry\"][\"coordinates\"][0],row[\"geometry\"][\"coordinates\"][1],row[\"properties\"][\"Name\"]]\n",
    "    Playgrounds_pandas_data.append(append_row)\n",
    "    \n",
    "Playgrounds = pd.DataFrame(Playgrounds_pandas_data, columns = ['X', 'Y','Name'])\n",
    "Playgrounds['geom'] = gpd.points_from_xy(Playgrounds.X, Playgrounds.Y)  # creating the geometry column\n",
    "Playgrounds = Playgrounds.drop(columns=['X', 'Y'])  # removing the old latitude/longitude fields"
   ]
  },
  {
   "cell_type": "code",
   "execution_count": 154,
   "metadata": {},
   "outputs": [],
   "source": [
    "Lights_json = json.load(open('Lights.geojson'))\n",
    "Lights_DataFrame = pd.DataFrame(Lights_json[\"features\"])\n",
    "Lights_pandas_data=[]\n",
    "for index, row in Lights_DataFrame.iterrows():\n",
    "    append_row = [row[\"geometry\"][\"coordinates\"][0],row[\"geometry\"][\"coordinates\"][1],row[\"properties\"][\"Location\"]]\n",
    "    Lights_pandas_data.append(append_row)\n",
    "    \n",
    "Lights = pd.DataFrame(Lights_pandas_data, columns = ['X', 'Y','Location'])\n",
    "Lights['geom'] = gpd.points_from_xy(Lights.X, Lights.Y)  # creating the geometry column\n",
    "Lights = Lights.drop(columns=['X', 'Y'])  # removing the old latitude/longitude fields"
   ]
  },
  {
   "cell_type": "markdown",
   "metadata": {},
   "source": [
    "### Cleaning the Datasets"
   ]
  },
  {
   "cell_type": "markdown",
   "metadata": {},
   "source": [
    "We reduce our sa2_data to only contain data relavant to Greater Sydney Area. "
   ]
  },
  {
   "cell_type": "code",
   "execution_count": 155,
   "metadata": {},
   "outputs": [],
   "source": [
    "sa2_data = sa2_data.drop(sa2_data[(sa2_data['SA4_NAME16'].str.contains(\"No usual address\", case=False)) |\n",
    "                                  (sa2_data['SA4_NAME16'].str.contains(\"Migratory - Offshore - Shipping\", case=False)) |\n",
    "                         sa2_data['SA3_NAME16'].str.contains(\"No usual address\", case=False) |\n",
    "                         sa2_data['SA3_NAME16'].str.contains(\"Migratory - Offshore - Shipping\", case=False) |\n",
    "                         sa2_data['SA2_NAME16'].str.contains(\"No usual address\", case=False) | \n",
    "                         sa2_data['SA2_NAME16'].str.contains(\"Migratory - Offshore - Shipping\", case=False) | \n",
    "                         sa2_data['GCC_NAME16'].str.contains(\"No usual address\", case=False) | \n",
    "                         sa2_data['GCC_NAME16'].str.contains(\"Migratory - Offshore - Shipping\", case=False) |\n",
    "                         sa2_data['GCC_NAME16'].str.contains(\"Rest of\", case=False)].index\n",
    "                        )\n",
    "\n",
    "sa2_data = sa2_data[sa2_data['GCC_NAME16']=='Greater Sydney'] "
   ]
  },
  {
   "cell_type": "markdown",
   "metadata": {},
   "source": [
    "Neighbourhoods dataset is cleaned to exclude neighbourhoods where the total population or total children population  is equal to zero."
   ]
  },
  {
   "cell_type": "code",
   "execution_count": 156,
   "metadata": {},
   "outputs": [],
   "source": [
    "# neighbourhoods = neighbourhoods.drop(neighbourhoods[neighbourhoods.isnull().T.any()].index)\n",
    "neighbourhoods = neighbourhoods.drop(neighbourhoods[(neighbourhoods['population'].isnull()) | \n",
    "                                      (neighbourhoods['0-4'].isnull()) | \n",
    "                                      (neighbourhoods['5-9'].isnull()) | \n",
    "                                      (neighbourhoods['10-14'].isnull() )| \n",
    "                                      (neighbourhoods['15-19'].isnull())].index)\n",
    "neighbourhoods = neighbourhoods.drop(neighbourhoods[(neighbourhoods['0-4']+neighbourhoods['5-9']+neighbourhoods['10-14']+neighbourhoods['15-19'])<=0].index)\n",
    "# (neighbourhoods['population']<=0)"
   ]
  },
  {
   "cell_type": "markdown",
   "metadata": {},
   "source": [
    "Using the below code we convert the population field in which commas have been used for decimal seperation, to contain intgers. "
   ]
  },
  {
   "cell_type": "code",
   "execution_count": 157,
   "metadata": {},
   "outputs": [],
   "source": [
    "for index, row in neighbourhoods.iterrows():\n",
    "    old_value = row['population']\n",
    "    old_value_split = str(row['population']).split(\",\")\n",
    "    new_value = \"\"\n",
    "    for i in old_value_split :\n",
    "        new_value = new_value+i\n",
    "    neighbourhoods['population'] = neighbourhoods['population'].replace([old_value],int(new_value))"
   ]
  },
  {
   "cell_type": "markdown",
   "metadata": {},
   "source": [
    "### Connecting to PostgreSQL"
   ]
  },
  {
   "cell_type": "markdown",
   "metadata": {},
   "source": [
    "Below code sets up our database connection. The `Credentials.json` file is stored in the same directory where this notebook is stored."
   ]
  },
  {
   "cell_type": "code",
   "execution_count": 158,
   "metadata": {},
   "outputs": [],
   "source": [
    "from sqlalchemy import create_engine\n",
    "import psycopg2\n",
    "import psycopg2.extras\n",
    "import json\n",
    "\n",
    "credentials = \"Credentials.json\"\n",
    "\n",
    "def pgconnect(credential_filepath, db_schema=\"public\"):\n",
    "    with open(credential_filepath) as f:\n",
    "        db_conn_dict = json.load(f)\n",
    "        host       = db_conn_dict['host']\n",
    "        db_user    = db_conn_dict['user']\n",
    "        db_pw      = db_conn_dict['password']\n",
    "        default_db = db_conn_dict['user']\n",
    "        try:\n",
    "            db = create_engine('postgresql+psycopg2://'+db_user+':'+db_pw+'@'+host+'/'+default_db, echo=False)\n",
    "            conn = db.connect()\n",
    "            print('Connected successfully.')\n",
    "        except Exception as e:\n",
    "            print(\"Unable to connect to the database.\")\n",
    "            print(e)\n",
    "            db, conn = None, None\n",
    "        return db,conn\n",
    "\n",
    "def query(conn, sqlcmd, args=None, df=True):\n",
    "    result = pd.DataFrame() if df else None\n",
    "    try:\n",
    "        if df:\n",
    "            result = pd.read_sql_query(sqlcmd, conn, params=args)\n",
    "        else:\n",
    "            result = conn.execute(sqlcmd, args).fetchall()\n",
    "            result = result[0] if len(result) == 1 else result\n",
    "    except Exception as e:\n",
    "        print(\"Error encountered: \", e, sep='\\n')\n",
    "    return result"
   ]
  },
  {
   "cell_type": "markdown",
   "metadata": {},
   "source": [
    "Running the below code connects us to the database"
   ]
  },
  {
   "cell_type": "code",
   "execution_count": null,
   "metadata": {},
   "outputs": [],
   "source": [
    "db, conn = pgconnect(credentials)"
   ]
  },
  {
   "cell_type": "markdown",
   "metadata": {},
   "source": [
    "Running the below query confirms that POSTGIS which is used for geographical operations is correctly configured."
   ]
  },
  {
   "cell_type": "code",
   "execution_count": null,
   "metadata": {},
   "outputs": [],
   "source": [
    "query(conn, \"select PostGIS_Version()\")"
   ]
  },
  {
   "cell_type": "markdown",
   "metadata": {},
   "source": [
    "### SRID Transformations"
   ]
  },
  {
   "cell_type": "markdown",
   "metadata": {},
   "source": [
    "We convert spatial data types to Well-Known Text(WKT) format to ensure the spatial data types from GeoPandas are the same as expected by PostGis. "
   ]
  },
  {
   "cell_type": "code",
   "execution_count": 161,
   "metadata": {},
   "outputs": [],
   "source": [
    "srid = 4326\n",
    "Playgrounds['geom'] = Playgrounds['geom'].apply(lambda x: WKTElement(x.wkt, srid=srid))\n",
    "Lights['geom'] = Lights['geom'].apply(lambda x: WKTElement(x.wkt, srid=srid))"
   ]
  },
  {
   "cell_type": "markdown",
   "metadata": {},
   "source": [
    "We convert POLYGON geometry type to MULTIPOLYGON geometry as it is a subset of MULTIPOLYGON. "
   ]
  },
  {
   "cell_type": "code",
   "execution_count": 162,
   "metadata": {},
   "outputs": [],
   "source": [
    "def create_wkt_element(geom, srid):\n",
    "    if geom!=None :\n",
    "        if geom.geom_type == 'Polygon':\n",
    "            geom = MultiPolygon([geom])\n",
    "        return WKTElement(geom.wkt, srid)\n",
    "\n",
    "sa2_data_og = sa2_data.copy()  # creating a copy of the original for later\n",
    "sa2_data['geom'] = sa2_data['geometry'].apply(lambda x: create_wkt_element(geom=x,srid=srid))  # applying the function\n",
    "sa2_data = sa2_data.drop(columns=\"geometry\")  # deleting the old copy\n",
    "\n",
    "# break_and_enter_og = break_and_enter.copy()  # creating a copy of the original for later\n",
    "break_and_enter['geom'] = break_and_enter['geometry'].apply(lambda x: create_wkt_element(geom=x,srid=srid))  # applying the function\n",
    "break_and_enter = break_and_enter.drop(columns=\"geometry\")  # deleting the old copy\n",
    "\n",
    "# school_catchments_future_og = school_catchments_future.copy()  # creating a copy of the original for later\n",
    "school_catchments_future['geom'] = school_catchments_future['geometry'].apply(lambda x: create_wkt_element(geom=x,srid=srid))  # applying the function\n",
    "school_catchments_future = school_catchments_future.drop(columns=\"geometry\")  # deleting the old copy\n",
    "\n",
    "# school_catchments_primary_og = school_catchments_primary.copy()  # creating a copy of the original for later\n",
    "school_catchments_primary['geom'] = school_catchments_primary['geometry'].apply(lambda x: create_wkt_element(geom=x,srid=srid))  # applying the function\n",
    "school_catchments_primary = school_catchments_primary.drop(columns=\"geometry\")  # deleting the old copy\n",
    "\n",
    "# school_catchments_secondary_og = school_catchments_secondary.copy()  # creating a copy of the original for later\n",
    "school_catchments_secondary['geom'] = school_catchments_secondary['geometry'].apply(lambda x: create_wkt_element(geom=x,srid=srid))  # applying the function\n",
    "school_catchments_secondary = school_catchments_secondary.drop(columns=\"geometry\")  # deleting the old copy"
   ]
  },
  {
   "cell_type": "markdown",
   "metadata": {},
   "source": [
    "We reduce our dataframes only to contain the variables we are interested in the analysis."
   ]
  },
  {
   "cell_type": "code",
   "execution_count": 163,
   "metadata": {},
   "outputs": [],
   "source": [
    "sa2_data = sa2_data[['SA2_MAIN16', 'SA2_NAME16','SA3_NAME16','AREASQKM16','geom']].copy()\n",
    "break_and_enter = break_and_enter[['OBJECTID', 'Density','ORIG_FID','Shape_Area','geom']].copy()\n",
    "school_catchments_future = school_catchments_future[['USE_ID','CATCH_TYPE', 'USE_DESC','geom']].copy()\n",
    "school_catchments_primary = school_catchments_primary[['USE_ID', 'USE_DESC','geom']].copy()\n",
    "school_catchments_secondary = school_catchments_secondary[['USE_ID', 'USE_DESC','geom']].copy()\n",
    "neighbourhoods = neighbourhoods[['area_id','land_area','population', 'number_of_dwellings','number_of_businesses','median_annual_household_income','avg_monthly_rent','0-4','5-9','10-14','15-19']].copy()\n",
    "BusinessStats = BusinessStats[['area_id','number_of_businesses','accommodation_and_food_services','retail_trade','agriculture_forestry_and_fishing','health_care_and_social_assistance','public_administration_and_safety','transport_postal_and_warehousing']].copy()\n",
    "Lights = Lights[['Location', 'geom']].copy()\n",
    "Playgrounds = Playgrounds[['Name', 'geom']].copy()"
   ]
  },
  {
   "cell_type": "markdown",
   "metadata": {},
   "source": [
    "### Data Ingestion"
   ]
  },
  {
   "cell_type": "markdown",
   "metadata": {},
   "source": [
    "Below code defines our database schema."
   ]
  },
  {
   "cell_type": "code",
   "execution_count": null,
   "metadata": {},
   "outputs": [],
   "source": [
    "# conn.execute(\"\"\"\n",
    "# CREATE SCHEMA IF NOT EXISTS Sydney_Liveability_Analysis;\n",
    "# SET search_path TO Sydney_Liveability_Analysis;\n",
    "# \"\"\")\n",
    "\n",
    "# sa2_data\n",
    "conn.execute(\"\"\"\n",
    "DROP TABLE IF EXISTS sa2_data;\n",
    "CREATE TABLE sa2_data (\n",
    "    \"SA2_MAIN16\" INTEGER PRIMARY KEY,\n",
    "    \"SA2_NAME16\" VARCHAR(80),\n",
    "    \"SA3_NAME16\" VARCHAR(80),\n",
    "    \"AREASQKM16\" NUMERIC,\n",
    "    \"geom\" GEOMETRY(MULTIPOLYGON,4326)\n",
    ");\"\"\"\n",
    ")\n",
    "\n",
    "# neighbourhood\n",
    "conn.execute(\"\"\"\n",
    "DROP TABLE IF EXISTS neighbourhood;\n",
    "CREATE TABLE neighbourhood (\n",
    "    \"area_id\" INTEGER PRIMARY KEY,\n",
    "    \"land_area\" NUMERIC,\n",
    "    \"population\" INTEGER,\n",
    "    \"number_of_dwellings\" VARCHAR(80),\n",
    "    \"number_of_businesses\" INTEGER,\n",
    "    \"median_annual_household_income\" NUMERIC,\n",
    "    \"avg_monthly_rent\" INTEGER,\n",
    "    \"0-4\" INTEGER,\n",
    "    \"5-9\" INTEGER,\n",
    "    \"10-14\" INTEGER,\n",
    "    \"15-19\" INTEGER\n",
    ");\"\"\"\n",
    ")\n",
    "\n",
    "# break and enter\n",
    "conn.execute(\"\"\"\n",
    "DROP TABLE IF EXISTS break_and_enter;\n",
    "CREATE TABLE break_and_enter (\n",
    "    \"OBJECTID\" INTEGER PRIMARY KEY,\n",
    "    \"Density\" VARCHAR(80),\n",
    "    \"ORIG_FID\" INTEGER,\n",
    "    \"Shape_Area\" NUMERIC,\n",
    "    \"geom\" GEOMETRY(MULTIPOLYGON,4326)\n",
    ");\"\"\"\n",
    ")\n",
    "\n",
    "# school_catchments_future\n",
    "conn.execute(\"\"\"\n",
    "DROP TABLE IF EXISTS school_catchments_future;\n",
    "CREATE TABLE school_catchments_future (\n",
    "    \"USE_ID\" INTEGER PRIMARY KEY, \n",
    "    \"CATCH_TYPE\" VARCHAR(80), \n",
    "    \"USE_DESC\" VARCHAR(80),\n",
    "    \"geom\" GEOMETRY(MULTIPOLYGON,4326)\n",
    "    \n",
    ");\"\"\"\n",
    ")\n",
    "\n",
    "# school_catchments_primary\n",
    "conn.execute(\"\"\"\n",
    "DROP TABLE IF EXISTS school_catchments_primary;\n",
    "CREATE TABLE school_catchments_primary (\n",
    "    \"USE_ID\" INTEGER PRIMARY KEY,\n",
    "    \"USE_DESC\" VARCHAR(80),\n",
    "    \"geom\" GEOMETRY(MULTIPOLYGON,4326)\n",
    "    \n",
    ");\"\"\"\n",
    ")\n",
    "\n",
    "# school_catchments_secondary\n",
    "conn.execute(\"\"\"\n",
    "DROP TABLE IF EXISTS school_catchments_secondary;\n",
    "CREATE TABLE school_catchments_secondary (\n",
    "    \"USE_ID\" INTEGER PRIMARY KEY,\n",
    "    \"USE_DESC\" VARCHAR(80),\n",
    "    \"geom\" GEOMETRY(MULTIPOLYGON,4326)\n",
    "    \n",
    ");\"\"\"\n",
    ")\n",
    "\n",
    "\n",
    "# BusinessStats\n",
    "conn.execute(\"\"\"\n",
    "DROP TABLE IF EXISTS businessstats;\n",
    "CREATE TABLE businessstats (\n",
    "    \"area_id\" INTEGER PRIMARY KEY,\n",
    "    \"number_of_businesses\" INTEGER,\n",
    "    \"accommodation_and_food_services\" INTEGER,\n",
    "    \"retail_trade\" INTEGER,\n",
    "    \"agriculture_forestry_and_fishing\" INTEGER,\n",
    "    \"health_care_and_social_assistance\" INTEGER,\n",
    "    \"public_administration_and_safety\" INTEGER,\n",
    "    \"transport_postal_and_warehousing\" INTEGER\n",
    ");\"\"\"\n",
    ")\n",
    "\n",
    "# Playgrounds\n",
    "conn.execute(\"\"\"\n",
    "DROP TABLE IF EXISTS playgrounds;\n",
    "CREATE TABLE playgrounds (\n",
    "   \"Name\" VARCHAR(200),\n",
    "   geom GEOMETRY(POINT, 4326)\n",
    ");\"\"\"\n",
    ")\n",
    "\n",
    "# Lights\n",
    "conn.execute(\"\"\"\n",
    "DROP TABLE IF EXISTS lights;\n",
    "CREATE TABLE lights (\n",
    "   \"Location\" VARCHAR(200),\n",
    "   geom GEOMETRY(POINT, 4326)\n",
    ");\"\"\"\n",
    ")\n"
   ]
  },
  {
   "cell_type": "markdown",
   "metadata": {},
   "source": [
    "In order to run sql queries we create tables by converting pandas dataframe to sql database tables"
   ]
  },
  {
   "cell_type": "code",
   "execution_count": null,
   "metadata": {},
   "outputs": [],
   "source": [
    "sa2_data.to_sql('sa2_data', conn, if_exists='append', index=False, dtype={'geom': Geometry('MULTIPOLYGON', srid)})"
   ]
  },
  {
   "cell_type": "code",
   "execution_count": null,
   "metadata": {},
   "outputs": [],
   "source": [
    "neighbourhoods.to_sql('neighbourhood', conn, if_exists='append', index=False)"
   ]
  },
  {
   "cell_type": "code",
   "execution_count": null,
   "metadata": {},
   "outputs": [],
   "source": [
    "break_and_enter.to_sql(\"break_and_enter\", conn, if_exists='append', index=False, dtype={'geom': Geometry('MULTIPOLYGON', srid)})"
   ]
  },
  {
   "cell_type": "code",
   "execution_count": null,
   "metadata": {},
   "outputs": [],
   "source": [
    "school_catchments_future.to_sql(\"school_catchments_future\", conn, if_exists='append', index=False, dtype={'geom': Geometry('MULTIPOLYGON', srid)})"
   ]
  },
  {
   "cell_type": "code",
   "execution_count": null,
   "metadata": {},
   "outputs": [],
   "source": [
    "school_catchments_primary.to_sql(\"school_catchments_primary\", conn, if_exists='append', index=False, dtype={'geom': Geometry('MULTIPOLYGON', srid)})"
   ]
  },
  {
   "cell_type": "code",
   "execution_count": null,
   "metadata": {},
   "outputs": [],
   "source": [
    "school_catchments_secondary.to_sql(\"school_catchments_secondary\", conn, if_exists='append', index=False, dtype={'geom': Geometry('MULTIPOLYGON', srid)})"
   ]
  },
  {
   "cell_type": "code",
   "execution_count": null,
   "metadata": {},
   "outputs": [],
   "source": [
    "BusinessStats.to_sql('businessstats', conn, if_exists='append', index=False)"
   ]
  },
  {
   "cell_type": "code",
   "execution_count": null,
   "metadata": {},
   "outputs": [],
   "source": [
    "Lights.to_sql('lights', conn, if_exists='append', index=False, dtype={'geom': Geometry('POINT', srid)})"
   ]
  },
  {
   "cell_type": "code",
   "execution_count": null,
   "metadata": {},
   "outputs": [],
   "source": [
    "Playgrounds.to_sql('playgrounds', conn, if_exists='append', index=False, dtype={'geom': Geometry('POINT', srid)})"
   ]
  },
  {
   "cell_type": "code",
   "execution_count": null,
   "metadata": {},
   "outputs": [],
   "source": [
    "# query(conn, \"\"\"select * from sa2_data where \"SA2_NAME16\" = 'Cobbitty - Leppington '\"\"\") # 312 Rows\n",
    "# query(conn, \"select * from neighbourhood\" where ) # 322 Rows\n",
    "# query(conn, \"select * from break_and_enter\") # 2594 Rows\n",
    "# query(conn, \"select * from school_catchments_future\") # 43 Rows\n",
    "# query(conn, \"select * from school_catchments_primary\") # 1666 Rows\n",
    "# query(conn, \"select * from school_catchments_secondary\") # 435 Rows\n",
    "# query(conn, \"select * from businessstats\") # 2301 Rows\n",
    "# query(conn, \"select * from lights\") # 8433 Rows\n",
    "# query(conn, \"select * from playgrounds\") # 151 Rows"
   ]
  },
  {
   "cell_type": "markdown",
   "metadata": {},
   "source": [
    "We combine the 3 school catchment data tables into a new table called school_catchments_combined."
   ]
  },
  {
   "cell_type": "code",
   "execution_count": null,
   "metadata": {},
   "outputs": [],
   "source": [
    "# Combining the 3 school catchment tables into one\n",
    "sql=\"\"\"\n",
    "DROP TABLE IF EXISTS school_catchments_combined;\n",
    "CREATE TABLE school_catchments_combined (\n",
    "    \"USE_ID\" INTEGER,\n",
    "    \"USE_DESC\" VARCHAR(80),\n",
    "    \"geom\" GEOMETRY(MULTIPOLYGON,4326)\n",
    ");\n",
    "\n",
    "INSERT INTO school_catchments_combined(\"USE_ID\",\"USE_DESC\",\"geom\")\n",
    "    SELECT * FROM school_catchments_primary\n",
    "    UNION ALL\n",
    "    SELECT * FROM school_catchments_secondary\n",
    "    UNION ALL\n",
    "    SELECT \"USE_ID\",\"USE_DESC\",\"geom\" FROM school_catchments_future\n",
    "    ;\n",
    "\"\"\"\n",
    "# SELECT * FROM school_catchments_combined\n",
    "# \"\"\"\n",
    "\n",
    "query(conn,sql)"
   ]
  },
  {
   "cell_type": "markdown",
   "metadata": {},
   "source": [
    "### Indexes"
   ]
  },
  {
   "cell_type": "markdown",
   "metadata": {},
   "source": [
    "We create indices on our database tables to improve the run time and reduce the cost of executing queries."
   ]
  },
  {
   "cell_type": "markdown",
   "metadata": {},
   "source": [
    "As primary keys of our tables are indexes by default we don't need explicit indexes on those. As our data analysis summarises results by suburbs it is meaningful to create an index on \"SA2_NAME16\" in our sa2_data table (Note that the primary key of this table is \"SA2_MAIN16\")."
   ]
  },
  {
   "cell_type": "code",
   "execution_count": null,
   "metadata": {},
   "outputs": [],
   "source": [
    "# creating an index on sa2_name in sa2_data set\n",
    "sql = \"\"\"\n",
    "CREATE INDEX sa2_name16_idx ON sa2_data(\"SA2_NAME16\");\n",
    "\"\"\"\n",
    "query(sql,conn)"
   ]
  },
  {
   "cell_type": "markdown",
   "metadata": {},
   "source": [
    "#### Spatial Indexes"
   ]
  },
  {
   "cell_type": "markdown",
   "metadata": {},
   "source": [
    "Spatial indices reduce the time and cost of running spatial joins in our tables. We created spatial indexes on the geometry column of our shape datasets, because 'geom' column is used when joining data from other tables."
   ]
  },
  {
   "cell_type": "code",
   "execution_count": null,
   "metadata": {},
   "outputs": [],
   "source": [
    "# school_catchments_combined\n",
    "sql = \"\"\"\n",
    "CREATE INDEX school_catchments_combined_geom_idx ON school_catchments_combined USING GIST (geom);\n",
    "\"\"\"\n",
    "query(sql,conn)"
   ]
  },
  {
   "cell_type": "code",
   "execution_count": null,
   "metadata": {},
   "outputs": [],
   "source": [
    "# break_and_enter\n",
    "sql = \"\"\"\n",
    "CREATE INDEX break_and_enter_geom_idx ON break_and_enter USING GIST (geom);\n",
    "\"\"\"\n",
    "query(sql, conn)"
   ]
  },
  {
   "cell_type": "markdown",
   "metadata": {
    "collapsed": true
   },
   "source": [
    "## Main Analysis for Task-2"
   ]
  },
  {
   "cell_type": "markdown",
   "metadata": {},
   "source": [
    "\n",
    "For this analysis we join our sa2_data, businessstats and neighbourhood datasets on the basis of the area_id(or \"SA2_MAIN16\").This gives an idea of the businesses and neighbourhood statistics per each suburb.\n",
    "Break_and_enter and school_catchment_combined datasets are combined together with sa2_data considering their geometric location(\"geom\"). We use the POSTGIS function [ST_Intersects](https://postgis.net/docs/ST_Intersects.html) to determine which areas of sa2 suburbs have the school catchment areas and break and enter hotspots.\n",
    "\n",
    "In order to compute the liveability score of Greater Sydney Area, following formula is used.\n",
    "\n",
    "            score = S(Zschool + Zaccomm + Zretail - Zcrime + Zhealth)\n",
    "\n",
    "where S = sigmoid function, Z = normal zscore\n",
    "\n",
    "To calculate the liveability of the Greater Sydney Area we first calculate the measures according to the given descriptions."
   ]
  },
  {
   "cell_type": "markdown",
   "metadata": {},
   "source": [
    "| Measure | Description |\n",
    "| -- | -- |\n",
    "| school | number of schools catchment areas per 1000 ’young people’ |\n",
    "| accom | number of accommodation and food services per 1000 people |\n",
    "| retail| number of retail services per 1000 people |\n",
    "| crime | sum of hotspot areas divided by total area |\n",
    "| health | number of health services per 1000 people |"
   ]
  },
  {
   "cell_type": "markdown",
   "metadata": {},
   "source": [
    "\n",
    "We use sub queries to compute the mean, standard deviation of each factor that affects our sigmoid score. They are referenced later inside the formulas that calculate zscores and sigmoid score in the main query.\n",
    "Finally we group the results by suburb name(\"SA2_NAME16\").\n"
   ]
  },
  {
   "cell_type": "code",
   "execution_count": null,
   "metadata": {},
   "outputs": [
    {
     "name": "stdout",
     "output_type": "stream",
     "text": [
      "Error encountered: \n",
      "This result object does not return rows. It has been closed automatically.\n"
     ]
    },
    {
     "data": {
      "text/plain": [
       "<AxesSubplot:title={'center':'Greater Sydney Liveability Analysis'}>"
      ]
     },
     "execution_count": 142,
     "metadata": {},
     "output_type": "execute_result"
    },
    {
     "data": {
      "image/png": "[encoded data removed]",
      "text/plain": [
       "<Figure size 720x432 with 2 Axes>"
      ]
     },
     "metadata": {
      "needs_background": "light"
     },
     "output_type": "display_data"
    }
   ],
   "source": [
    "# MAIN CODE FOR TASK-2\n",
    "\n",
    "sql=\"\"\"\n",
    "DROP TABLE IF EXISTS results;\n",
    "CREATE TABLE results\n",
    "AS\n",
    "\n",
    "with Health AS \n",
    "(SELECT avg(1000.0*bs.\"health_care_and_social_assistance\"/n.\"population\") AS mean,\n",
    "stddev(1000.0*bs.\"health_care_and_social_assistance\"/n.\"population\") AS sd\n",
    "FROM businessstats bs, neighbourhood n\n",
    "WHERE bs.\"area_id\" = n.\"area_id\"),\n",
    "\n",
    "Retail AS\n",
    "(SELECT avg(1000.0*bs.\"retail_trade\"/n.\"population\") AS mean,\n",
    "stddev(1000.0*bs.\"retail_trade\"/n.\"population\") AS sd\n",
    "FROM businessstats bs, neighbourhood n\n",
    "WHERE bs.\"area_id\" = n.\"area_id\"),\n",
    "\n",
    "Accom AS\n",
    "(SELECT avg(1000.0*bs.\"accommodation_and_food_services\"/n.\"population\") AS mean,\n",
    "stddev(1000.0*bs.\"accommodation_and_food_services\"/n.\"population\") AS sd\n",
    "FROM businessstats bs, neighbourhood n\n",
    "WHERE bs.\"area_id\" = n.\"area_id\"),\n",
    "\n",
    "Crime AS \n",
    "(SELECT AVG(q1) AS mean,\n",
    "stddev(q1) AS sd\n",
    "FROM ( SELECT AVG(be.\"ORIG_FID\"*be.\"Shape_Area\"/s.\"AREASQKM16\")as q1\n",
    "        FROM break_and_enter be join sa2_data s ON\n",
    "        ST_Intersects(s.geom,be.geom)\n",
    "        GROUP BY s.\"SA2_NAME16\") a ),\n",
    "        \n",
    "Schools AS \n",
    "(SELECT AVG(Schools) AS mean,\n",
    "stddev(Schools) as sd \n",
    "FROM (SELECT 1000.0*COUNT(*)/(AVG(n.\"0-4\")+AVG(n.\"5-9\")+AVG(n.\"10-14\")+AVG(n.\"15-19\")) AS Schools\n",
    "    FROM school_catchments_combined sc, sa2_data s, neighbourhood n\n",
    "    WHERE ST_Intersects(s.geom,sc.geom)\n",
    "    AND s.\"SA2_MAIN16\" = n.\"area_id\"\n",
    "    GROUP BY s.\"SA2_NAME16\" ) b)\n",
    "\n",
    "SELECT s.\"SA2_NAME16\",\n",
    "\n",
    "abs((1000.0*AVG(bs.\"health_care_and_social_assistance\")/AVG(n.\"population\"))-AVG(Health.mean))/AVG(Health.sd) AS HZ,\n",
    "\n",
    "abs((1000.0*AVG(bs.\"retail_trade\")/AVG(n.\"population\"))-AVG(Retail.mean))/AVG(Retail.sd) AS RZ,\n",
    "\n",
    "abs((1000.0*AVG(bs.\"accommodation_and_food_services\")/AVG(n.\"population\"))-AVG(Accom.mean))/AVG(Accom.sd) AS AZ,\n",
    "\n",
    "abs((AVG(be.\"ORIG_FID\"*be.\"Shape_Area\"/s.\"AREASQKM16\")-AVG(Crime.mean))/AVG(Crime.sd)) AS CZ,\n",
    "\n",
    "abs((1000.0*COUNT(*)/(AVG(n.\"0-4\")+AVG(n.\"5-9\")+AVG(n.\"10-14\")+AVG(n.\"15-19\"))-AVG(Schools.mean))/AVG(Schools.sd)) AS SZ,\n",
    "\n",
    "1/(1+(exp(-((abs((1000.0*AVG(bs.\"health_care_and_social_assistance\")/AVG(n.\"population\"))-AVG(Health.mean))/AVG(Health.sd))\n",
    "            +(abs((1000.0*AVG(bs.\"retail_trade\")/AVG(n.\"population\"))-AVG(Retail.mean))/AVG(Retail.sd))\n",
    "            +(abs((1000.0*AVG(bs.\"accommodation_and_food_services\")/AVG(n.\"population\"))-AVG(Accom.mean))/AVG(Accom.sd))\n",
    "            -(abs((AVG(be.\"ORIG_FID\"*be.\"Shape_Area\"/s.\"AREASQKM16\")-AVG(Crime.mean))/AVG(Crime.sd)))\n",
    "            +(abs((1000.0*COUNT(*)/(AVG(n.\"0-4\")+AVG(n.\"5-9\")+AVG(n.\"10-14\")+AVG(n.\"15-19\"))-AVG(Schools.mean))/AVG(Schools.sd))))))) AS Sigmoid\n",
    "\n",
    "FROM sa2_data s, businessstats bs, break_and_enter be, neighbourhood n,school_catchments_combined sc, Health, Retail, Accom, crime, Schools\n",
    "WHERE s.\"SA2_MAIN16\" = bs.\"area_id\"\n",
    "AND bs.\"area_id\" = n.\"area_id\"\n",
    "AND s.\"SA2_MAIN16\" = n.\"area_id\"\n",
    "AND ST_Intersects(s.geom,be.geom)\n",
    "AND ST_Intersects(s.geom,sc.geom)\n",
    "GROUP BY s.\"SA2_NAME16\"\n",
    "ORDER BY sigmoid desc\n",
    ";\n",
    "\"\"\"\n",
    "# Our Results\n",
    "# results_df = query(conn,sql)\n",
    "# results_df\n",
    "\n",
    "# The common data between our result and sa2_data\n",
    "# gdf = gpd.GeoDataFrame(results)\n",
    "# gdf2 = gpd.read_file(\"SA2_2016_AUST/SA2_2016_AUST.shp\")\n",
    "# mg = gdf.reset_index().merge(gdf2, left_on = 'SA2_NAME16', right_on = 'SA2_NAME16') # Good\n",
    "# mg \n",
    "\n",
    "# Greater Sydney Map\n",
    "# gdf3 = gdf2[gdf2['GCC_NAME16']=='Greater Sydney'] \n",
    "# gdf3.plot(figsize=(10,6))\n",
    "# gdf3\n",
    "\n",
    "# Missing Rows Area\n",
    "# df = pd.concat([mg.drop(columns=['index', 'hz','rz','az','cz','sz','sigmoid']), gdf3])\n",
    "# gdf4 = df.drop_duplicates(keep=False)\n",
    "# gdf4\n",
    "# gdf4.plot()\n",
    "\n",
    "\n",
    "\n",
    "# Correctly printing the Coloured Map\n",
    "query(conn,sql)\n",
    "results = query(conn,\"SELECT * FROM results\")\n",
    "gdf = gpd.GeoDataFrame(results)\n",
    "gdf2 = gpd.read_file(\"SA2_2016_AUST/SA2_2016_AUST.shp\")\n",
    "mg = gdf.reset_index().merge(gdf2, left_on = 'SA2_NAME16', right_on = 'SA2_NAME16') \n",
    "gdf3 = gdf2[gdf2['GCC_NAME16']=='Greater Sydney']\n",
    "df = pd.concat([mg.drop(columns=['index', 'hz','rz','az','cz','sz','sigmoid']), gdf3])\n",
    "gdf4 = df.drop_duplicates(keep=False)\n",
    "gdf = gpd.GeoDataFrame(results)\n",
    "sa2_areas = gpd.read_file('SA2_2016_AUST/SA2_2016_AUST.shp')\n",
    "merged = gdf.set_index('SA2_NAME16').join(sa2_areas.set_index('SA2_NAME16'))\n",
    "# merged\n",
    "gdf = gpd.GeoDataFrame(results)\n",
    "merged2 = pd.concat([merged, gdf4], axis=0)\n",
    "# # merged2['geometry'] = merged2['geometry'].apply(lambda x: create_wkt_element(geom=x,srid=srid))  # applying the function\n",
    "# # merged2\n",
    "fig, ax = plt.subplots(1, figsize=(10, 6))\n",
    "ax.axis('off')\n",
    "ax.set_title('Greater Sydney Liveability Analysis', fontdict={'fontsize': '15', 'fontweight' : '3'})\n",
    "# merged2.drop\n",
    "merged2.drop(merged2.index[0]).plot(column='sigmoid',\n",
    "            cmap='RdYlGn',\n",
    "            linewidth=0.9,\n",
    "            ax=ax,\n",
    "            edgecolor='1',\n",
    "            legend=True, \n",
    "            legend_kwds={\"label\": \"Sigmoid Score\"},\n",
    "            missing_kwds={\"color\": \"lightgrey\"})\n",
    "\n"
   ]
  },
  {
   "cell_type": "markdown",
   "metadata": {},
   "source": [
    "###         Investigate whether there is correlation between the liveability score and the median rent and median income of each neighbourhood"
   ]
  },
  {
   "cell_type": "markdown",
   "metadata": {},
   "source": [
    " We join our results table (table containing zscores and sigmoid score),neighbourhood and sa2 data tables. Then we apply the `corr` function function on `sigmoid` and `avg_monthly_rent` columns. Similarly, we perform this to the `sigmoid` and `median_annual_household_income` columns."
   ]
  },
  {
   "cell_type": "code",
   "execution_count": null,
   "metadata": {},
   "outputs": [
    {
     "name": "stdout",
     "output_type": "stream",
     "text": [
      "Error encountered: \n",
      "This result object does not return rows. It has been closed automatically.\n"
     ]
    },
    {
     "data": {
      "text/plain": [
       "-0.13519180568363054"
      ]
     },
     "execution_count": 143,
     "metadata": {},
     "output_type": "execute_result"
    }
   ],
   "source": [
    "# Should be getting 312\n",
    "# In total, getting 33 less rows\n",
    "# Neighbourhood dataset has 13 less rows than sa2_data\n",
    "# Break_and enter dataset has 28 less rows than sa2_data\n",
    "\n",
    "sql = \"\"\"\n",
    "DROP TABLE IF EXISTS task3_data;\n",
    "CREATE TABLE task3_data AS\n",
    "select \n",
    "\"hz\", \n",
    "\"rz\", \n",
    "\"az\", \n",
    "\"cz\", \n",
    "\"sz\", \n",
    "\"sigmoid\",\n",
    "\"area_id\",\n",
    "\"land_area\",\n",
    "\"population\",\n",
    "\"number_of_dwellings\",\n",
    "\"number_of_businesses\",\n",
    "\"median_annual_household_income\",\n",
    "\"avg_monthly_rent\",\n",
    "\"0-4\",\n",
    "\"5-9\",\n",
    "\"10-14\",\n",
    "\"15-19\",\n",
    "\"SA2_MAIN16\",\n",
    "s.\"SA2_NAME16\",\n",
    "\"SA3_NAME16\",\n",
    "\"AREASQKM16\",\n",
    "\"geom\"\n",
    "from results R, neighbourhood N, sa2_data s\n",
    "where s.\"SA2_MAIN16\" = N.\"area_id\"\n",
    "and r.\"SA2_NAME16\"=s.\"SA2_NAME16\"\n",
    "Order by sigmoid desc;\n",
    "\"\"\"\n",
    "query(conn,sql)\n",
    "# query(conn,\"SELECT * FROM task3_data\")\n",
    "results_table_combined=query(conn,\"SELECT * FROM task3_data\")\n",
    "# results_table_combined\n",
    "results_table_combined['sigmoid'].corr(results_table_combined['avg_monthly_rent']) # -0.14809587628537235\n",
    "results_table_combined['sigmoid'].corr(results_table_combined['median_annual_household_income']) # -0.1351918056836305"
   ]
  },
  {
   "cell_type": "markdown",
   "metadata": {},
   "source": [
    "Results of this analysis points out that there's no strong linear relationship between the liveability score and median rent/income of each neighbourhood."
   ]
  },
  {
   "cell_type": "markdown",
   "metadata": {},
   "source": [
    "## Main Analysis for Task-3"
   ]
  },
  {
   "cell_type": "markdown",
   "metadata": {},
   "source": [
    "\n",
    "In this task we divert our attention to the City of Sydney within the Greater Sydney Area. Here we focus to analyse the suitablity of each suburb within the city of Sydney for a family of three with a young child. In addition to health, retail , accommodation, school facilities and concerns about theft for this family we identified safety and recreational facilites are important when settling down in the city.\n",
    "\n",
    "Therefore we use the [Lights](https://data.cityofsydney.nsw.gov.au/datasets/cityofsydney::lights/about) dataset which gives information about the lights controlled by Sydney City Council and [Playgrounds](https://data.cityofsydney.nsw.gov.au/datasets/cityofsydney::playgrounds/about) dataset which gives data on the playgrounds in the city obtained from City of Sydney Open Data Hub.\n",
    "\n",
    "The modified formula to calculate the liveability for our stake holder is given below.\n",
    "\n",
    "                        score = S(Zschool + Zaccomm + Zretail - Zcrime + Zhealth + Zlights + Zplaygrounds)\n",
    "\n",
    "\n"
   ]
  },
  {
   "cell_type": "markdown",
   "metadata": {},
   "source": [
    "In addition to the zscores calculated in task 2 we compute zscores for lights and playgrounds. Higher the number of lights in a suburb higher the safety of the neighbourhood and reduced chances of crime. Also more number of playgrounds implies better recreational facilities. Therefore both these zscores are \"added\" to the liveability score.\n",
    "\n"
   ]
  },
  {
   "cell_type": "code",
   "execution_count": null,
   "metadata": {},
   "outputs": [
    {
     "name": "stdout",
     "output_type": "stream",
     "text": [
      "Error encountered: \n",
      "This result object does not return rows. It has been closed automatically.\n",
      "Error encountered: \n",
      "This result object does not return rows. It has been closed automatically.\n",
      "Error encountered: \n",
      "This result object does not return rows. It has been closed automatically.\n"
     ]
    },
    {
     "data": {
      "text/plain": [
       "<AxesSubplot:title={'center':'Greater Sydney Liveability Analysis'}>"
      ]
     },
     "execution_count": 144,
     "metadata": {},
     "output_type": "execute_result"
    },
    {
     "data": {
      "image/png": "[encoded data removed]",
      "text/plain": [
       "<Figure size 720x432 with 2 Axes>"
      ]
     },
     "metadata": {
      "needs_background": "light"
     },
     "output_type": "display_data"
    }
   ],
   "source": [
    "# TASK-3\n",
    "\n",
    "# task3_database = merged2[merged2['SA3_NAME16']=='Sydney Inner City']\n",
    "# task3_database\n",
    "\n",
    "sql=\"\"\"\n",
    "DROP TABLE IF EXISTS Lights_database;\n",
    "CREATE TABLE Lights_database AS\n",
    "\n",
    "WITH Lights_data AS \n",
    "(SELECT avg(q1) AS mean,\n",
    "stddev(q1) AS sd\n",
    "FROM (SELECT COUNT(*) as q1 FROM\n",
    "    task3_data t, lights l\n",
    "    where \"SA3_NAME16\"='Sydney Inner City'\n",
    "    AND ST_Contains(t.geom,l.geom)\n",
    "    GROUP BY \"SA2_NAME16\" ) a)\n",
    "\n",
    "SELECT t.\"SA2_NAME16\",(abs(COUNT(*)-AVG(ld.mean))/AVG(ld.sd)) AS lz\n",
    "FROM task3_data t, lights l, lights_data ld\n",
    "where \"SA3_NAME16\"='Sydney Inner City'\n",
    "AND ST_Contains(t.geom,l.geom)\n",
    "GROUP BY \"SA2_NAME16\"\n",
    ";\n",
    "\"\"\"\n",
    "query(conn,sql)\n",
    "sql=\"\"\"\n",
    "DROP TABLE IF EXISTS Playgrounds_database;\n",
    "CREATE TABLE Playgrounds_database AS\n",
    "\n",
    "WITH Playgrounds_data AS \n",
    "(SELECT avg(q2) AS mean,\n",
    "stddev(q2) AS sd\n",
    "FROM (SELECT COUNT(*) as q2 FROM\n",
    "    task3_data t, Playgrounds p\n",
    "    where \"SA3_NAME16\"='Sydney Inner City'\n",
    "    AND ST_Contains(t.geom,p.geom)\n",
    "    GROUP BY \"SA2_NAME16\" ) a)\n",
    "\n",
    "SELECT t.\"SA2_NAME16\",(abs(COUNT(*)-AVG(pd.mean))/AVG(pd.sd)) AS pz\n",
    "FROM task3_data t, playgrounds p, playgrounds_data pd\n",
    "where \"SA3_NAME16\"='Sydney Inner City'\n",
    "AND ST_Contains(t.geom,p.geom)\n",
    "GROUP BY \"SA2_NAME16\"\n",
    ";\n",
    "\"\"\"\n",
    "query(conn,sql)\n",
    "# query(conn,\"SELECT * FROM Playgrounds_database\")\n",
    "# query(conn,\"SELECT * FROM Lights_database\")\n",
    "\n",
    "sql=\"\"\"\n",
    "DROP TABLE IF EXISTS task3_results;\n",
    "CREATE TABLE task3_results AS\n",
    "\n",
    "SELECT \n",
    "t.\"SA2_NAME16\",\n",
    "1/(1+(exp(-((hz)+(rz)+(az)-(cz)+(sz)+(lz)+(pz))))) AS Sigmoid,\n",
    "t.geom\n",
    "\n",
    "FROM \n",
    "task3_data t, lights_database l, playgrounds_database p\n",
    "WHERE t.\"SA2_NAME16\"=l.\"SA2_NAME16\"\n",
    "AND p.\"SA2_NAME16\"=l.\"SA2_NAME16\"\n",
    "ORDER BY Sigmoid desc\n",
    "\"\"\"\n",
    "\n",
    "# Correctly printing the Coloured Map\n",
    "query(conn,sql)\n",
    "results_task3 = query(conn,\"SELECT * FROM task3_results\")\n",
    "gdf_task3 = gpd.GeoDataFrame(results_task3)\n",
    "# sa2_areas = gpd.read_file('SA2_2016_AUST/SA2_2016_AUST.shp')\n",
    "merged_task3 = gdf_task3.set_index('SA2_NAME16').join(sa2_data_og.set_index('SA2_NAME16'))\n",
    "merged_task3\n",
    "# merged2 = pd.concat([merged, gdf4], axis=0)\n",
    "# merged2\n",
    "fig, ax = plt.subplots(1, figsize=(10, 6))\n",
    "ax.axis('off')\n",
    "ax.set_title('Sydney Inner City Liveability Analysis', fontdict={'fontsize': '15', 'fontweight' : '3'})\n",
    "\n",
    "merged_task3.plot(column='sigmoid',\n",
    "            cmap='RdYlGn',\n",
    "            linewidth=0.9,\n",
    "            ax=ax,\n",
    "            edgecolor='1',\n",
    "            legend=True, \n",
    "            legend_kwds={\"label\": \"Sigmoid Score\"},\n",
    "            missing_kwds={\"color\": \"lightgrey\"})"
   ]
  },
  {
   "cell_type": "code",
   "execution_count": null,
   "metadata": {},
   "outputs": [
    {
     "name": "stderr",
     "output_type": "stream",
     "text": [
      "/Library/Frameworks/Python.framework/Versions/3.9/lib/python3.9/site-packages/sklearn/manifold/_t_sne.py:780: FutureWarning: The default initialization in TSNE will change from 'random' to 'pca' in 1.2.\n",
      "  warnings.warn(\n"
     ]
    },
    {
     "data": {
      "image/png": "[encoded data removed]",
      "text/plain": [
       "<Figure size 432x288 with 1 Axes>"
      ]
     },
     "metadata": {
      "needs_background": "light"
     },
     "output_type": "display_data"
    }
   ],
   "source": [
    "# Defining Model\n",
    "model = TSNE(learning_rate=100)\n",
    "\n",
    "# Fitting Model\n",
    "transformed = model.fit_transform(merged[['hz','cz','az','cz','sz']])\n",
    "\n",
    "# Plotting 2d t-Sne\n",
    "x_axis = transformed[:, 0]\n",
    "y_axis = transformed[:, 1]\n",
    "\n",
    "plt.scatter(x_axis, y_axis)\n",
    "plt.show()"
   ]
  },
  {
   "cell_type": "code",
   "execution_count": null,
   "metadata": {},
   "outputs": [
    {
     "data": {
      "text/plain": [
       "<AxesSubplot:title={'center':'Greater Sydney Liveability Analysis by ML'}>"
      ]
     },
     "execution_count": 146,
     "metadata": {},
     "output_type": "execute_result"
    },
    {
     "data": {
      "image/png": "[encoded data removed]",
      "text/plain": [
       "<Figure size 720x432 with 2 Axes>"
      ]
     },
     "metadata": {
      "needs_background": "light"
     },
     "output_type": "display_data"
    }
   ],
   "source": [
    "import math\n",
    "data=[]\n",
    "ML_merged=merged.copy()\n",
    "for i in range(len(x_axis)) :\n",
    "    new_row = math.sqrt(x_axis[i]**2 + y_axis[i]**2)\n",
    "    data.append([new_row])\n",
    "\n",
    "ML_df = pd.DataFrame(data,columns=['ML_Score'])\n",
    "# ML_df\n",
    "ML_merged = pd.concat([merged.reset_index(), ML_df], axis=1)\n",
    "ML_merged = pd.concat([ML_merged, gdf4], axis=0)\n",
    "# ML_merged\n",
    "\n",
    "fig, ax = plt.subplots(1, figsize=(10, 6))\n",
    "ax.axis('off')\n",
    "ax.set_title('Greater Sydney Liveability Analysis by ML', fontdict={'fontsize': '15', 'fontweight' : '3'})\n",
    "\n",
    "ML_merged.plot(column='ML_Score',\n",
    "            cmap='RdYlGn',\n",
    "            linewidth=0.9,\n",
    "            ax=ax,\n",
    "            edgecolor='1',\n",
    "            legend=True, \n",
    "            legend_kwds={\"label\": \"ML Score\"},\n",
    "            missing_kwds={\"color\": \"lightgrey\"})"
   ]
  },
  {
   "cell_type": "code",
   "execution_count": null,
   "metadata": {},
   "outputs": [],
   "source": [
    "conn.close()\n",
    "db.dispose()"
   ]
  },
  {
   "cell_type": "code",
   "execution_count": null,
   "metadata": {},
   "outputs": [
    {
     "data": {
      "text/html": [
       "<div>\n",
       "<style scoped>\n",
       "    .dataframe tbody tr th:only-of-type {\n",
       "        vertical-align: middle;\n",
       "    }\n",
       "\n",
       "    .dataframe tbody tr th {\n",
       "        vertical-align: top;\n",
       "    }\n",
       "\n",
       "    .dataframe thead th {\n",
       "        text-align: right;\n",
       "    }\n",
       "</style>\n",
       "<table border=\"1\" class=\"dataframe\">\n",
       "  <thead>\n",
       "    <tr style=\"text-align: right;\">\n",
       "      <th></th>\n",
       "      <th>SA2_NAME16</th>\n",
       "      <th>hz</th>\n",
       "      <th>rz</th>\n",
       "      <th>az</th>\n",
       "      <th>cz</th>\n",
       "      <th>sz</th>\n",
       "      <th>sigmoid</th>\n",
       "      <th>SA2_MAIN16</th>\n",
       "      <th>SA2_5DIG16</th>\n",
       "      <th>SA3_CODE16</th>\n",
       "      <th>SA3_NAME16</th>\n",
       "      <th>SA4_CODE16</th>\n",
       "      <th>SA4_NAME16</th>\n",
       "      <th>GCC_CODE16</th>\n",
       "      <th>GCC_NAME16</th>\n",
       "      <th>STE_CODE16</th>\n",
       "      <th>STE_NAME16</th>\n",
       "      <th>AREASQKM16</th>\n",
       "      <th>geometry</th>\n",
       "      <th>ML_Score</th>\n",
       "    </tr>\n",
       "  </thead>\n",
       "  <tbody>\n",
       "    <tr>\n",
       "      <th>0</th>\n",
       "      <td>Banksmeadow</td>\n",
       "      <td>0.425829</td>\n",
       "      <td>9.460319</td>\n",
       "      <td>9.200746</td>\n",
       "      <td>0.201544</td>\n",
       "      <td>3.983167</td>\n",
       "      <td>1.000000</td>\n",
       "      <td>117011320</td>\n",
       "      <td>11320</td>\n",
       "      <td>11701</td>\n",
       "      <td>Botany</td>\n",
       "      <td>117</td>\n",
       "      <td>Sydney - City and Inner South</td>\n",
       "      <td>1GSYD</td>\n",
       "      <td>Greater Sydney</td>\n",
       "      <td>1</td>\n",
       "      <td>New South Wales</td>\n",
       "      <td>3.3683</td>\n",
       "      <td>POLYGON ((151.20806 -33.95406, 151.20816 -33.9...</td>\n",
       "      <td>15.259347</td>\n",
       "    </tr>\n",
       "    <tr>\n",
       "      <th>1</th>\n",
       "      <td>Sydney - Haymarket - The Rocks</td>\n",
       "      <td>1.980091</td>\n",
       "      <td>0.290178</td>\n",
       "      <td>1.007219</td>\n",
       "      <td>1.830518</td>\n",
       "      <td>0.098221</td>\n",
       "      <td>0.824218</td>\n",
       "      <td>117031337</td>\n",
       "      <td>11337</td>\n",
       "      <td>11703</td>\n",
       "      <td>Sydney Inner City</td>\n",
       "      <td>117</td>\n",
       "      <td>Sydney - City and Inner South</td>\n",
       "      <td>1GSYD</td>\n",
       "      <td>Greater Sydney</td>\n",
       "      <td>1</td>\n",
       "      <td>New South Wales</td>\n",
       "      <td>4.2934</td>\n",
       "      <td>MULTIPOLYGON (((151.22538 -33.85527, 151.22524...</td>\n",
       "      <td>15.622871</td>\n",
       "    </tr>\n",
       "    <tr>\n",
       "      <th>2</th>\n",
       "      <td>Bondi Junction - Waverly</td>\n",
       "      <td>1.134065</td>\n",
       "      <td>0.048608</td>\n",
       "      <td>0.027957</td>\n",
       "      <td>0.117664</td>\n",
       "      <td>0.083633</td>\n",
       "      <td>0.764336</td>\n",
       "      <td>118011341</td>\n",
       "      <td>11341</td>\n",
       "      <td>11801</td>\n",
       "      <td>Eastern Suburbs - North</td>\n",
       "      <td>118</td>\n",
       "      <td>Sydney - Eastern Suburbs</td>\n",
       "      <td>1GSYD</td>\n",
       "      <td>Greater Sydney</td>\n",
       "      <td>1</td>\n",
       "      <td>New South Wales</td>\n",
       "      <td>2.5234</td>\n",
       "      <td>POLYGON ((151.24094 -33.89473, 151.24095 -33.8...</td>\n",
       "      <td>15.116989</td>\n",
       "    </tr>\n",
       "    <tr>\n",
       "      <th>3</th>\n",
       "      <td>North Sydney - Lavender Bay</td>\n",
       "      <td>0.927963</td>\n",
       "      <td>0.011003</td>\n",
       "      <td>0.228796</td>\n",
       "      <td>0.105394</td>\n",
       "      <td>0.106286</td>\n",
       "      <td>0.762902</td>\n",
       "      <td>121041417</td>\n",
       "      <td>11417</td>\n",
       "      <td>12104</td>\n",
       "      <td>North Sydney - Mosman</td>\n",
       "      <td>121</td>\n",
       "      <td>Sydney - North Sydney and Hornsby</td>\n",
       "      <td>1GSYD</td>\n",
       "      <td>Greater Sydney</td>\n",
       "      <td>1</td>\n",
       "      <td>New South Wales</td>\n",
       "      <td>1.9144</td>\n",
       "      <td>POLYGON ((151.20195 -33.83781, 151.20188 -33.8...</td>\n",
       "      <td>14.962299</td>\n",
       "    </tr>\n",
       "    <tr>\n",
       "      <th>4</th>\n",
       "      <td>Kogarah</td>\n",
       "      <td>0.892925</td>\n",
       "      <td>0.068376</td>\n",
       "      <td>0.069629</td>\n",
       "      <td>0.003605</td>\n",
       "      <td>0.085310</td>\n",
       "      <td>0.752620</td>\n",
       "      <td>119041378</td>\n",
       "      <td>11378</td>\n",
       "      <td>11904</td>\n",
       "      <td>Kogarah - Rockdale</td>\n",
       "      <td>119</td>\n",
       "      <td>Sydney - Inner South West</td>\n",
       "      <td>1GSYD</td>\n",
       "      <td>Greater Sydney</td>\n",
       "      <td>1</td>\n",
       "      <td>New South Wales</td>\n",
       "      <td>2.2197</td>\n",
       "      <td>POLYGON ((151.13299 -33.96108, 151.13305 -33.9...</td>\n",
       "      <td>14.672760</td>\n",
       "    </tr>\n",
       "    <tr>\n",
       "      <th>...</th>\n",
       "      <td>...</td>\n",
       "      <td>...</td>\n",
       "      <td>...</td>\n",
       "      <td>...</td>\n",
       "      <td>...</td>\n",
       "      <td>...</td>\n",
       "      <td>...</td>\n",
       "      <td>...</td>\n",
       "      <td>...</td>\n",
       "      <td>...</td>\n",
       "      <td>...</td>\n",
       "      <td>...</td>\n",
       "      <td>...</td>\n",
       "      <td>...</td>\n",
       "      <td>...</td>\n",
       "      <td>...</td>\n",
       "      <td>...</td>\n",
       "      <td>...</td>\n",
       "      <td>...</td>\n",
       "      <td>...</td>\n",
       "    </tr>\n",
       "    <tr>\n",
       "      <th>565</th>\n",
       "      <td>Lilli Pilli - Port Hacking - Dolans Bay</td>\n",
       "      <td>NaN</td>\n",
       "      <td>NaN</td>\n",
       "      <td>NaN</td>\n",
       "      <td>NaN</td>\n",
       "      <td>NaN</td>\n",
       "      <td>NaN</td>\n",
       "      <td>128011605</td>\n",
       "      <td>11605</td>\n",
       "      <td>12801</td>\n",
       "      <td>Cronulla - Miranda - Caringbah</td>\n",
       "      <td>128</td>\n",
       "      <td>Sydney - Sutherland</td>\n",
       "      <td>1GSYD</td>\n",
       "      <td>Greater Sydney</td>\n",
       "      <td>1</td>\n",
       "      <td>New South Wales</td>\n",
       "      <td>1.2706</td>\n",
       "      <td>POLYGON ((151.12554 -34.06244, 151.12552 -34.0...</td>\n",
       "      <td>NaN</td>\n",
       "    </tr>\n",
       "    <tr>\n",
       "      <th>567</th>\n",
       "      <td>Heathcote - Waterfall</td>\n",
       "      <td>NaN</td>\n",
       "      <td>NaN</td>\n",
       "      <td>NaN</td>\n",
       "      <td>NaN</td>\n",
       "      <td>NaN</td>\n",
       "      <td>NaN</td>\n",
       "      <td>128021533</td>\n",
       "      <td>11533</td>\n",
       "      <td>12802</td>\n",
       "      <td>Sutherland - Menai - Heathcote</td>\n",
       "      <td>128</td>\n",
       "      <td>Sydney - Sutherland</td>\n",
       "      <td>1GSYD</td>\n",
       "      <td>Greater Sydney</td>\n",
       "      <td>1</td>\n",
       "      <td>New South Wales</td>\n",
       "      <td>27.6162</td>\n",
       "      <td>POLYGON ((151.02005 -34.08024, 151.02007 -34.0...</td>\n",
       "      <td>NaN</td>\n",
       "    </tr>\n",
       "    <tr>\n",
       "      <th>571</th>\n",
       "      <td>Royal National Park</td>\n",
       "      <td>NaN</td>\n",
       "      <td>NaN</td>\n",
       "      <td>NaN</td>\n",
       "      <td>NaN</td>\n",
       "      <td>NaN</td>\n",
       "      <td>NaN</td>\n",
       "      <td>128021537</td>\n",
       "      <td>11537</td>\n",
       "      <td>12802</td>\n",
       "      <td>Sutherland - Menai - Heathcote</td>\n",
       "      <td>128</td>\n",
       "      <td>Sydney - Sutherland</td>\n",
       "      <td>1GSYD</td>\n",
       "      <td>Greater Sydney</td>\n",
       "      <td>1</td>\n",
       "      <td>New South Wales</td>\n",
       "      <td>139.3336</td>\n",
       "      <td>POLYGON ((151.07165 -34.05795, 151.07141 -34.0...</td>\n",
       "      <td>NaN</td>\n",
       "    </tr>\n",
       "    <tr>\n",
       "      <th>574</th>\n",
       "      <td>Loftus - Yarrawarrah</td>\n",
       "      <td>NaN</td>\n",
       "      <td>NaN</td>\n",
       "      <td>NaN</td>\n",
       "      <td>NaN</td>\n",
       "      <td>NaN</td>\n",
       "      <td>NaN</td>\n",
       "      <td>128021608</td>\n",
       "      <td>11608</td>\n",
       "      <td>12802</td>\n",
       "      <td>Sutherland - Menai - Heathcote</td>\n",
       "      <td>128</td>\n",
       "      <td>Sydney - Sutherland</td>\n",
       "      <td>1GSYD</td>\n",
       "      <td>Greater Sydney</td>\n",
       "      <td>1</td>\n",
       "      <td>New South Wales</td>\n",
       "      <td>3.8436</td>\n",
       "      <td>POLYGON ((151.03954 -34.04176, 151.03954 -34.0...</td>\n",
       "      <td>NaN</td>\n",
       "    </tr>\n",
       "    <tr>\n",
       "      <th>575</th>\n",
       "      <td>Woronora Heights</td>\n",
       "      <td>NaN</td>\n",
       "      <td>NaN</td>\n",
       "      <td>NaN</td>\n",
       "      <td>NaN</td>\n",
       "      <td>NaN</td>\n",
       "      <td>NaN</td>\n",
       "      <td>128021609</td>\n",
       "      <td>11609</td>\n",
       "      <td>12802</td>\n",
       "      <td>Sutherland - Menai - Heathcote</td>\n",
       "      <td>128</td>\n",
       "      <td>Sydney - Sutherland</td>\n",
       "      <td>1GSYD</td>\n",
       "      <td>Greater Sydney</td>\n",
       "      <td>1</td>\n",
       "      <td>New South Wales</td>\n",
       "      <td>3.1374</td>\n",
       "      <td>POLYGON ((151.01852 -34.03120, 151.01861 -34.0...</td>\n",
       "      <td>NaN</td>\n",
       "    </tr>\n",
       "  </tbody>\n",
       "</table>\n",
       "<p>312 rows × 20 columns</p>\n",
       "</div>"
      ],
      "text/plain": [
       "                                  SA2_NAME16        hz        rz        az  \\\n",
       "0                                Banksmeadow  0.425829  9.460319  9.200746   \n",
       "1             Sydney - Haymarket - The Rocks  1.980091  0.290178  1.007219   \n",
       "2                   Bondi Junction - Waverly  1.134065  0.048608  0.027957   \n",
       "3                North Sydney - Lavender Bay  0.927963  0.011003  0.228796   \n",
       "4                                    Kogarah  0.892925  0.068376  0.069629   \n",
       "..                                       ...       ...       ...       ...   \n",
       "565  Lilli Pilli - Port Hacking - Dolans Bay       NaN       NaN       NaN   \n",
       "567                    Heathcote - Waterfall       NaN       NaN       NaN   \n",
       "571                      Royal National Park       NaN       NaN       NaN   \n",
       "574                     Loftus - Yarrawarrah       NaN       NaN       NaN   \n",
       "575                         Woronora Heights       NaN       NaN       NaN   \n",
       "\n",
       "           cz        sz   sigmoid SA2_MAIN16 SA2_5DIG16 SA3_CODE16  \\\n",
       "0    0.201544  3.983167  1.000000  117011320      11320      11701   \n",
       "1    1.830518  0.098221  0.824218  117031337      11337      11703   \n",
       "2    0.117664  0.083633  0.764336  118011341      11341      11801   \n",
       "3    0.105394  0.106286  0.762902  121041417      11417      12104   \n",
       "4    0.003605  0.085310  0.752620  119041378      11378      11904   \n",
       "..        ...       ...       ...        ...        ...        ...   \n",
       "565       NaN       NaN       NaN  128011605      11605      12801   \n",
       "567       NaN       NaN       NaN  128021533      11533      12802   \n",
       "571       NaN       NaN       NaN  128021537      11537      12802   \n",
       "574       NaN       NaN       NaN  128021608      11608      12802   \n",
       "575       NaN       NaN       NaN  128021609      11609      12802   \n",
       "\n",
       "                         SA3_NAME16 SA4_CODE16  \\\n",
       "0                            Botany        117   \n",
       "1                 Sydney Inner City        117   \n",
       "2           Eastern Suburbs - North        118   \n",
       "3             North Sydney - Mosman        121   \n",
       "4                Kogarah - Rockdale        119   \n",
       "..                              ...        ...   \n",
       "565  Cronulla - Miranda - Caringbah        128   \n",
       "567  Sutherland - Menai - Heathcote        128   \n",
       "571  Sutherland - Menai - Heathcote        128   \n",
       "574  Sutherland - Menai - Heathcote        128   \n",
       "575  Sutherland - Menai - Heathcote        128   \n",
       "\n",
       "                            SA4_NAME16 GCC_CODE16      GCC_NAME16 STE_CODE16  \\\n",
       "0        Sydney - City and Inner South      1GSYD  Greater Sydney          1   \n",
       "1        Sydney - City and Inner South      1GSYD  Greater Sydney          1   \n",
       "2             Sydney - Eastern Suburbs      1GSYD  Greater Sydney          1   \n",
       "3    Sydney - North Sydney and Hornsby      1GSYD  Greater Sydney          1   \n",
       "4            Sydney - Inner South West      1GSYD  Greater Sydney          1   \n",
       "..                                 ...        ...             ...        ...   \n",
       "565                Sydney - Sutherland      1GSYD  Greater Sydney          1   \n",
       "567                Sydney - Sutherland      1GSYD  Greater Sydney          1   \n",
       "571                Sydney - Sutherland      1GSYD  Greater Sydney          1   \n",
       "574                Sydney - Sutherland      1GSYD  Greater Sydney          1   \n",
       "575                Sydney - Sutherland      1GSYD  Greater Sydney          1   \n",
       "\n",
       "          STE_NAME16  AREASQKM16  \\\n",
       "0    New South Wales      3.3683   \n",
       "1    New South Wales      4.2934   \n",
       "2    New South Wales      2.5234   \n",
       "3    New South Wales      1.9144   \n",
       "4    New South Wales      2.2197   \n",
       "..               ...         ...   \n",
       "565  New South Wales      1.2706   \n",
       "567  New South Wales     27.6162   \n",
       "571  New South Wales    139.3336   \n",
       "574  New South Wales      3.8436   \n",
       "575  New South Wales      3.1374   \n",
       "\n",
       "                                              geometry   ML_Score  \n",
       "0    POLYGON ((151.20806 -33.95406, 151.20816 -33.9...  15.259347  \n",
       "1    MULTIPOLYGON (((151.22538 -33.85527, 151.22524...  15.622871  \n",
       "2    POLYGON ((151.24094 -33.89473, 151.24095 -33.8...  15.116989  \n",
       "3    POLYGON ((151.20195 -33.83781, 151.20188 -33.8...  14.962299  \n",
       "4    POLYGON ((151.13299 -33.96108, 151.13305 -33.9...  14.672760  \n",
       "..                                                 ...        ...  \n",
       "565  POLYGON ((151.12554 -34.06244, 151.12552 -34.0...        NaN  \n",
       "567  POLYGON ((151.02005 -34.08024, 151.02007 -34.0...        NaN  \n",
       "571  POLYGON ((151.07165 -34.05795, 151.07141 -34.0...        NaN  \n",
       "574  POLYGON ((151.03954 -34.04176, 151.03954 -34.0...        NaN  \n",
       "575  POLYGON ((151.01852 -34.03120, 151.01861 -34.0...        NaN  \n",
       "\n",
       "[312 rows x 20 columns]"
      ]
     },
     "execution_count": 148,
     "metadata": {},
     "output_type": "execute_result"
    }
   ],
   "source": [
    "# neighbourhoods_test = pd.read_csv('Neighbourhoods.csv')\n",
    "# len(neighbourhoods_test)\n",
    "# merged.drop(merged.index[0])\n",
    "# neighbourhoods[neighbourhoods.isnull().T.any()]\n",
    "# len(neighbourhoods)\n",
    "# neighbourhoods_test = neighbourhoods_test.drop(neighbourhoods_test[neighbourhoods_test.isnull().T.any()].index)\n",
    "# neighbourhoods.loc[neighbourhoods['area_id'] == 117011324]\n",
    "# len(gdf4)\n",
    "# neighbourhoods_test[(neighbourhoods_test['population'].isnull()) | \n",
    "#                                       (neighbourhoods_test['0-4'].isnull()) | \n",
    "#                                       (neighbourhoods_test['5-9'].isnull()) | \n",
    "#                                       (neighbourhoods_test['10-14'].isnull() )| \n",
    "#                                       (neighbourhoods_test['15-19'].isnull()) |\n",
    "#                                     (neighbourhoods_test['population']<=0) | \n",
    "#                                       (neighbourhoods_test['0-4']<=0) | \n",
    "#                                       (neighbourhoods_test['5-9']<=0) | \n",
    "#                                       (neighbourhoods_test['10-14']<=0) | \n",
    "#                                       (neighbourhoods_test['15-19']<=0)]\n",
    "# neighbourhoods_test.loc([neighbourhoods_test[((neighbourhoods['0-4']+neighbourhoods['5-9']+neighbourhoods['10-14']+neighbourhoods['15-19'])<=0)]])\n",
    "\n",
    "# merged2.loc[(merged2['hz']>=3) | (merged2['rz']>=3) | (merged2['az']>=3) | (merged2['cz']>=3) | (merged2['sz']>=3)]\n",
    "ML_merged"
   ]
  }
 ],
 "metadata": {
  "interpreter": {
   "hash": "aee8b7b246df8f9039afb4144a1f6fd8d2ca17a180786b69acc140d282b71a49"
  },
  "kernelspec": {
   "display_name": "Python 3.9.1 64-bit",
   "language": "python",
   "name": "python3"
  },
  "language_info": {
   "codemirror_mode": {
    "name": "ipython",
    "version": 3
   },
   "file_extension": ".py",
   "mimetype": "text/x-python",
   "name": "python",
   "nbconvert_exporter": "python",
   "pygments_lexer": "ipython3",
   "version": "3.9.1"
  }
 },
 "nbformat": 4,
 "nbformat_minor": 4
}

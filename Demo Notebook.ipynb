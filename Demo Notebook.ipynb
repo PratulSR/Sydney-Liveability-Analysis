{
 "cells": [
  {
   "cell_type": "code",
   "execution_count": 2,
   "metadata": {},
   "outputs": [
    {
     "data": {
      "text/html": [
       "\n",
       "    <style> body {font-family: \"Roboto Condensed Light\", \"Roboto Condensed\";} \n",
       "    h2 {padding: 10px 12px; background-color: #E64626; position: static; color: #ffffff; font-size: 40px;} .text_cell_render p { font-size: 15px; } .text_cell_render \n",
       "    h1 { font-size: 30px; } h1 {padding: 10px 12px;font-style: bold; background-color: #E64626; color: #ffffff; font-size: 40px;} .text_cell_render \n",
       "    h3 { padding: 10px 12px; background-color: #16bedb; position: static; color: #ffffff; font-size: 20px;} \n",
       "    h4 {padding: 8px 20px; font-family: \"Roboto Condensed Light\"; position: static; font-style: italic; background-color: #57fa05; color: #ffffff; font-size: 18px;  border-radius: 5px;}input[type=submit] {background-color: #E64626; border: solid; border-color: #734036; color: white; padding: 8px 16px; text-decoration: none; margin: 4px 2px; cursor: pointer; border-radius: 20px;}</style>\n",
       "    <script> code_show=true; function code_toggle() {if (code_show){$('div.input').hide();} else {$('div.input').show();} code_show = !code_show} $( document ).ready(code_toggle);</script>\n",
       "    <form action=\"javascript:code_toggle()\"><input type=\"submit\" value=\"Hide/show all code.\"></form>\n"
      ],
      "text/plain": [
       "<IPython.core.display.HTML object>"
      ]
     },
     "execution_count": 2,
     "metadata": {},
     "output_type": "execute_result"
    }
   ],
   "source": [
    "from IPython.display import HTML\n",
    "HTML('''\n",
    "    <style> body {font-family: \"Roboto Condensed Light\", \"Roboto Condensed\";} \n",
    "    h2 {padding: 10px 12px; background-color: #E64626; position: static; color: #ffffff; font-size: 40px;} .text_cell_render p { font-size: 15px; } .text_cell_render \n",
    "    h1 { font-size: 30px; } h1 {padding: 10px 12px;font-style: bold; background-color: #E64626; color: #ffffff; font-size: 40px;} .text_cell_render \n",
    "    h3 { padding: 10px 12px; background-color: #16bedb; position: static; color: #ffffff; font-size: 20px;} \n",
    "    h4 {padding: 8px 20px; font-family: \"Roboto Condensed Light\"; position: static; font-style: italic; background-color: #57fa05; color: #ffffff; font-size: 18px;  border-radius: 5px;}input[type=submit] {background-color: #E64626; border: solid; border-color: #734036; color: white; padding: 8px 16px; text-decoration: none; margin: 4px 2px; cursor: pointer; border-radius: 20px;}</style>\n",
    "    <script> code_show=true; function code_toggle() {if (code_show){$('div.input').hide();} else {$('div.input').show();} code_show = !code_show} $( document ).ready(code_toggle);</script>\n",
    "    <form action=\"javascript:code_toggle()\"><input type=\"submit\" value=\"Hide/show all code.\"></form>\n",
    "''')"
   ]
  },
  {
   "cell_type": "markdown",
   "metadata": {},
   "source": [
    "# Sydney Liveability Analysis"
   ]
  },
  {
   "cell_type": "markdown",
   "metadata": {},
   "source": [
    "## Group - 5  F10Adv-01 : Pratul Singh Raghava & Amanda Walpitage"
   ]
  },
  {
   "cell_type": "markdown",
   "metadata": {},
   "source": [
    "This Jupyter Notebook contains the code and processes followed to calculate a **Liveability score** for each SA2 Area in Greater Sydney and further analysis of Inner Sydney suburbs through the integration of additional datasets. The results of this analysis have further been compared to parameters like Median Rent and Median Income of each neighbourhood in an attempt to figure out their correlation with the analysis results. This notebook also contains the analysis by an Unsupervised Machine Learning Algorithm and the comparison of its results with the tradional methods used before."
   ]
  },
  {
   "cell_type": "markdown",
   "metadata": {},
   "source": [
    "### Importing Modules"
   ]
  },
  {
   "cell_type": "markdown",
   "metadata": {},
   "source": [
    "Before we proceed with the analysis, we must first import all the necessary modules required to perform the analysis."
   ]
  },
  {
   "cell_type": "code",
   "execution_count": 3,
   "metadata": {},
   "outputs": [],
   "source": [
    "import pandas as pd\n",
    "import numpy as np\n",
    "import geopandas as gpd\n",
    "import json\n",
    "from shapely.geometry import Point, Polygon, MultiPolygon\n",
    "from geoalchemy2 import Geometry, WKTElement\n",
    "import matplotlib.pyplot as plt\n",
    "from math import sqrt\n",
    "from sklearn.manifold import TSNE"
   ]
  },
  {
   "cell_type": "markdown",
   "metadata": {},
   "source": [
    "# TASK - 1"
   ]
  },
  {
   "cell_type": "markdown",
   "metadata": {},
   "source": [
    "### Importing Datasets"
   ]
  },
  {
   "cell_type": "markdown",
   "metadata": {},
   "source": [
    "#### Importing Spatial Data"
   ]
  },
  {
   "cell_type": "markdown",
   "metadata": {},
   "source": [
    "We import the spatial data from .shp files and store them in GeoPandas DataFrames, which are just like Pandas DataFrames, but with support for Geo-Spatial data."
   ]
  },
  {
   "cell_type": "code",
   "execution_count": 4,
   "metadata": {},
   "outputs": [],
   "source": [
    "# Importing the ABS SA2 Shape Data\n",
    "sa2_data = gpd.read_file(\"SA2_2016_AUST/SA2_2016_AUST.shp\")\n",
    "\n",
    "# Importing the shape data of theft ’hotspots’ in NSW \n",
    "break_and_enter = gpd.read_file(\"break_and_enter/BreakEnterDwelling_JanToDec2021.shp\")\n",
    "\n",
    "# Importing the shape data for future Government schools catchments\n",
    "school_catchments_future = gpd.read_file(\"school_catchments/catchments_future.shp\")\n",
    "\n",
    "# Importing the shape data for primary Government schools catchments\n",
    "school_catchments_primary = gpd.read_file(\"school_catchments/catchments_primary.shp\")\n",
    "\n",
    "# Importing the shape data for secondary Government schools catchments\n",
    "school_catchments_secondary = gpd.read_file(\"school_catchments/catchments_secondary.shp\")"
   ]
  },
  {
   "cell_type": "markdown",
   "metadata": {},
   "source": [
    "#### Importing Non-Spatial CSV Data"
   ]
  },
  {
   "cell_type": "markdown",
   "metadata": {},
   "source": [
    "We import the non-spatial data from .csv files and store them in Pandas DataFrames."
   ]
  },
  {
   "cell_type": "code",
   "execution_count": 5,
   "metadata": {},
   "outputs": [],
   "source": [
    "# Importing the Census data on neighbourhoods(SA2-level areas)\n",
    "neighbourhoods = pd.read_csv('Neighbourhoods.csv')\n",
    "\n",
    "# Importing the Business statistics per SA2-area\n",
    "BusinessStats = pd.read_csv('BusinessStats.csv')"
   ]
  },
  {
   "cell_type": "markdown",
   "metadata": {},
   "source": [
    "#### Importing Spatial GeoJSON Data"
   ]
  },
  {
   "cell_type": "markdown",
   "metadata": {},
   "source": [
    "Now, we import the spatial data from the additional datasets\n",
    "[Playgrounds](https://data.cityofsydney.nsw.gov.au/datasets/cityofsydney::playgrounds/about)\n",
    "&\n",
    "[Lights](https://data.cityofsydney.nsw.gov.au/datasets/cityofsydney::lights/about)\n",
    "downloaded from the [\n",
    "City of Sydney Data hub](https://data.cityofsydney.nsw.gov.au/)."
   ]
  },
  {
   "cell_type": "code",
   "execution_count": 6,
   "metadata": {},
   "outputs": [],
   "source": [
    "Playgrounds_json = json.load(open('Playgrounds.geojson'))\n",
    "\n",
    "Playgrounds_DataFrame = pd.DataFrame(Playgrounds_json[\"features\"])\n",
    "Playgrounds_pandas_data=[]\n",
    "for index, row in Playgrounds_DataFrame.iterrows():\n",
    "    append_row = [row[\"geometry\"][\"coordinates\"][0],row[\"geometry\"][\"coordinates\"][1],row[\"properties\"][\"Name\"]]\n",
    "    Playgrounds_pandas_data.append(append_row)\n",
    "    \n",
    "Playgrounds = pd.DataFrame(Playgrounds_pandas_data, columns = ['X', 'Y','Name'])\n",
    "Playgrounds['geom'] = gpd.points_from_xy(Playgrounds.X, Playgrounds.Y)  # creating the geometry column\n",
    "Playgrounds = Playgrounds.drop(columns=['X', 'Y'])  # removing the old latitude/longitude fields"
   ]
  },
  {
   "cell_type": "code",
   "execution_count": 7,
   "metadata": {},
   "outputs": [],
   "source": [
    "Lights_json = json.load(open('Lights.geojson'))\n",
    "Lights_DataFrame = pd.DataFrame(Lights_json[\"features\"])\n",
    "Lights_pandas_data=[]\n",
    "for index, row in Lights_DataFrame.iterrows():\n",
    "    append_row = [row[\"geometry\"][\"coordinates\"][0],row[\"geometry\"][\"coordinates\"][1],row[\"properties\"][\"Location\"]]\n",
    "    Lights_pandas_data.append(append_row)\n",
    "    \n",
    "Lights = pd.DataFrame(Lights_pandas_data, columns = ['X', 'Y','Location'])\n",
    "Lights['geom'] = gpd.points_from_xy(Lights.X, Lights.Y)  # creating the geometry column\n",
    "Lights = Lights.drop(columns=['X', 'Y'])  # removing the old latitude/longitude fields"
   ]
  },
  {
   "cell_type": "markdown",
   "metadata": {},
   "source": [
    "### Cleaning the Datasets"
   ]
  },
  {
   "cell_type": "markdown",
   "metadata": {},
   "source": [
    "We clean the **sa2_data** dataset by dropping those rows where either the locations are :\n",
    "\n",
    "a) `No usual address` - people with no fixed place of abode, or \n",
    "\n",
    "b) `Migratory - Offshore - Shipping` - people who are in transit (Migratory) or on oil rigs and drilling platforms (Offshore) or on board vessels (Shipping)."
   ]
  },
  {
   "cell_type": "code",
   "execution_count": 8,
   "metadata": {},
   "outputs": [],
   "source": [
    "sa2_data = sa2_data.drop(sa2_data[(sa2_data['SA4_NAME16'].str.contains(\"No usual address\", case=False)) |\n",
    "                                  (sa2_data['SA4_NAME16'].str.contains(\"Migratory - Offshore - Shipping\", case=False)) |\n",
    "                         sa2_data['SA3_NAME16'].str.contains(\"No usual address\", case=False) |\n",
    "                         sa2_data['SA3_NAME16'].str.contains(\"Migratory - Offshore - Shipping\", case=False) |\n",
    "                         sa2_data['SA2_NAME16'].str.contains(\"No usual address\", case=False) | \n",
    "                         sa2_data['SA2_NAME16'].str.contains(\"Migratory - Offshore - Shipping\", case=False) | \n",
    "                         sa2_data['GCC_NAME16'].str.contains(\"No usual address\", case=False) | \n",
    "                         sa2_data['GCC_NAME16'].str.contains(\"Migratory - Offshore - Shipping\", case=False) |\n",
    "                         sa2_data['GCC_NAME16'].str.contains(\"Rest of\", case=False)].index\n",
    "                        )"
   ]
  },
  {
   "cell_type": "markdown",
   "metadata": {},
   "source": [
    "For our Task-2 analysis, we filter our data to only contain rows with their region as **'Greater Sydney'**."
   ]
  },
  {
   "cell_type": "code",
   "execution_count": null,
   "metadata": {},
   "outputs": [],
   "source": [
    "sa2_data = sa2_data[sa2_data['GCC_NAME16']=='Greater Sydney'] "
   ]
  },
  {
   "cell_type": "markdown",
   "metadata": {},
   "source": [
    "Now, we clean the **neighbourhoods** dataset and get rid of the rows where the young population value is zero or null, to avoid ZeroDivisionError and other potential errors later on."
   ]
  },
  {
   "cell_type": "code",
   "execution_count": 9,
   "metadata": {},
   "outputs": [],
   "source": [
    "neighbourhoods = neighbourhoods.drop(neighbourhoods[(neighbourhoods['population'].isnull()) | \n",
    "                                      (neighbourhoods['0-4'].isnull()) | \n",
    "                                      (neighbourhoods['5-9'].isnull()) | \n",
    "                                      (neighbourhoods['10-14'].isnull() )| \n",
    "                                      (neighbourhoods['15-19'].isnull())].index)\n",
    "neighbourhoods = neighbourhoods.drop(neighbourhoods[(neighbourhoods['0-4']+neighbourhoods['5-9']+neighbourhoods['10-14']+neighbourhoods['15-19'])<=0].index)\n",
    "\n",
    "# neighbourhoods = neighbourhoods.drop(neighbourhoods[neighbourhoods['population']<=0].index)"
   ]
  },
  {
   "cell_type": "markdown",
   "metadata": {},
   "source": [
    "We find that the `population` column in the **neighbourhoods** dataset contains values stored as String datatypes. Since we require the population values to be of integer datatypes for our analysis, we iterate through these values and explicitly convert them from Strings to Integers."
   ]
  },
  {
   "cell_type": "code",
   "execution_count": 10,
   "metadata": {},
   "outputs": [],
   "source": [
    "for index, row in neighbourhoods.iterrows():\n",
    "    old_value = row['population']\n",
    "    old_value_split = str(row['population']).split(\",\")\n",
    "    new_value = \"\"\n",
    "    for i in old_value_split :\n",
    "        new_value = new_value+i\n",
    "    neighbourhoods['population'] = neighbourhoods['population'].replace([old_value],int(new_value))"
   ]
  },
  {
   "cell_type": "markdown",
   "metadata": {},
   "source": [
    "### Connecting to PostgreSQL"
   ]
  },
  {
   "cell_type": "markdown",
   "metadata": {},
   "source": [
    " Now, we create a helper function to establish a connection to the servers."
   ]
  },
  {
   "cell_type": "code",
   "execution_count": 11,
   "metadata": {},
   "outputs": [],
   "source": [
    "from sqlalchemy import create_engine\n",
    "import psycopg2\n",
    "import psycopg2.extras\n",
    "import json\n",
    "\n",
    "credentials = \"Credentials.json\"\n",
    "\n",
    "def pgconnect(credential_filepath, db_schema=\"public\"):\n",
    "    with open(credential_filepath) as f:\n",
    "        db_conn_dict = json.load(f)\n",
    "        host       = db_conn_dict['host']\n",
    "        db_user    = db_conn_dict['user']\n",
    "        db_pw      = db_conn_dict['password']\n",
    "        default_db = db_conn_dict['user']\n",
    "        try:\n",
    "            db = create_engine('postgresql+psycopg2://'+db_user+':'+db_pw+'@'+host+'/'+default_db, echo=False)\n",
    "            conn = db.connect()\n",
    "            print('Connected successfully.')\n",
    "        except Exception as e:\n",
    "            print(\"Unable to connect to the database.\")\n",
    "            print(e)\n",
    "            db, conn = None, None\n",
    "        return db,conn\n",
    "\n",
    "def query(conn, sqlcmd, args=None, df=True):\n",
    "    result = pd.DataFrame() if df else None\n",
    "    try:\n",
    "        if df:\n",
    "            result = pd.read_sql_query(sqlcmd, conn, params=args)\n",
    "        else:\n",
    "            result = conn.execute(sqlcmd, args).fetchall()\n",
    "            result = result[0] if len(result) == 1 else result\n",
    "    except Exception as e:\n",
    "        print(\"Error encountered: \", e, sep='\\n')\n",
    "    return result"
   ]
  },
  {
   "cell_type": "markdown",
   "metadata": {},
   "source": [
    "Running this successfully connects to the PostgreSQL database."
   ]
  },
  {
   "cell_type": "code",
   "execution_count": 12,
   "metadata": {},
   "outputs": [
    {
     "name": "stdout",
     "output_type": "stream",
     "text": [
      "Connected successfully.\n"
     ]
    }
   ],
   "source": [
    "db, conn = pgconnect(credentials)"
   ]
  },
  {
   "cell_type": "markdown",
   "metadata": {},
   "source": [
    "### SRID Transformations"
   ]
  },
  {
   "cell_type": "markdown",
   "metadata": {},
   "source": [
    "Ensuring the spatial data types from GeoPandas are the same as those expected by PostGIS requires conversion to the **Well-Known Text (WKT)** format, as an intermediate step. This can be done using the `geoalchemy2` library, to convert from the `shapely` types in GeoPandas to the WKT format in PostGIS.\n",
    "\n",
    "We'll also be sure to specify the **Spatial Reference Identifier (SRID)** - in this case 4326, to represent the [WGS84 world geodetic coordinate system](https://en.wikipedia.org/wiki/World_Geodetic_System) used by our datasets. The following code simply converts the 'geom' column of the **Lights** & **Playgrounds** dataframe accordingly."
   ]
  },
  {
   "cell_type": "code",
   "execution_count": 14,
   "metadata": {},
   "outputs": [],
   "source": [
    "srid = 4326\n",
    "Playgrounds['geom'] = Playgrounds['geom'].apply(lambda x: WKTElement(x.wkt, srid=srid))\n",
    "Lights['geom'] = Lights['geom'].apply(lambda x: WKTElement(x.wkt, srid=srid))"
   ]
  },
  {
   "cell_type": "markdown",
   "metadata": {},
   "source": [
    "Converting the polygons in our **sa2_data**, **break_and_enter**, **school_catchments_primary** , **school_catchments_secondary** & **school_catchments_future** dataframes requires more work. We'll first ensure they're all represented as multipolygons (of which polygons are a subset), and then conduct the same WKT conversion, all using a simple helper function.Then we converts the 'geom' column of the  dataframe accordingly."
   ]
  },
  {
   "cell_type": "code",
   "execution_count": 15,
   "metadata": {},
   "outputs": [],
   "source": [
    "def create_wkt_element(geom, srid):\n",
    "    if geom!=None :\n",
    "        if geom.geom_type == 'Polygon':\n",
    "            geom = MultiPolygon([geom])\n",
    "        return WKTElement(geom.wkt, srid)\n",
    "\n",
    "sa2_data_og = sa2_data.copy()  # creating a copy of the original for later\n",
    "sa2_data['geom'] = sa2_data['geometry'].apply(lambda x: create_wkt_element(geom=x,srid=srid))  # applying the function\n",
    "sa2_data = sa2_data.drop(columns=\"geometry\")  # deleting the old copy\n",
    "\n",
    "break_and_enter['geom'] = break_and_enter['geometry'].apply(lambda x: create_wkt_element(geom=x,srid=srid))  # applying the function\n",
    "break_and_enter = break_and_enter.drop(columns=\"geometry\")  # deleting the old copy\n",
    "\n",
    "school_catchments_future['geom'] = school_catchments_future['geometry'].apply(lambda x: create_wkt_element(geom=x,srid=srid))  # applying the function\n",
    "school_catchments_future = school_catchments_future.drop(columns=\"geometry\")  # deleting the old copy\n",
    "\n",
    "school_catchments_primary['geom'] = school_catchments_primary['geometry'].apply(lambda x: create_wkt_element(geom=x,srid=srid))  # applying the function\n",
    "school_catchments_primary = school_catchments_primary.drop(columns=\"geometry\")  # deleting the old copy\n",
    "\n",
    "school_catchments_secondary['geom'] = school_catchments_secondary['geometry'].apply(lambda x: create_wkt_element(geom=x,srid=srid))  # applying the function\n",
    "school_catchments_secondary = school_catchments_secondary.drop(columns=\"geometry\")  # deleting the old copy"
   ]
  },
  {
   "cell_type": "code",
   "execution_count": 16,
   "metadata": {},
   "outputs": [],
   "source": [
    "sa2_data = sa2_data[['SA2_MAIN16', 'SA2_NAME16','SA3_NAME16','AREASQKM16','geom']].copy()\n",
    "break_and_enter = break_and_enter[['OBJECTID', 'Density','ORIG_FID','Shape_Area','geom']].copy()\n",
    "school_catchments_future = school_catchments_future[['USE_ID','CATCH_TYPE', 'USE_DESC','geom']].copy()\n",
    "school_catchments_primary = school_catchments_primary[['USE_ID', 'USE_DESC','geom']].copy()\n",
    "school_catchments_secondary = school_catchments_secondary[['USE_ID', 'USE_DESC','geom']].copy()\n",
    "neighbourhoods = neighbourhoods[['area_id','land_area','population', 'number_of_dwellings','number_of_businesses','median_annual_household_income','avg_monthly_rent','0-4','5-9','10-14','15-19']].copy()\n",
    "BusinessStats = BusinessStats[['area_id','number_of_businesses','accommodation_and_food_services','retail_trade','agriculture_forestry_and_fishing','health_care_and_social_assistance','public_administration_and_safety','transport_postal_and_warehousing']].copy()\n",
    "Lights = Lights[['Location', 'geom']].copy()\n",
    "Playgrounds = Playgrounds[['Name', 'geom']].copy()"
   ]
  },
  {
   "cell_type": "markdown",
   "metadata": {},
   "source": [
    "### Creating SQL Tables"
   ]
  },
  {
   "cell_type": "markdown",
   "metadata": {},
   "source": [
    "We create new tables in our schema so we can insert data into them to conduct our analysis."
   ]
  },
  {
   "cell_type": "code",
   "execution_count": 17,
   "metadata": {},
   "outputs": [
    {
     "data": {
      "text/plain": [
       "<sqlalchemy.engine.result.ResultProxy at 0x7fbeb4d3be10>"
      ]
     },
     "execution_count": 17,
     "metadata": {},
     "output_type": "execute_result"
    }
   ],
   "source": [
    "# SQL Table for sa2_data\n",
    "conn.execute(\"\"\"\n",
    "DROP TABLE IF EXISTS sa2_data;\n",
    "CREATE TABLE sa2_data (\n",
    "    \"SA2_MAIN16\" INTEGER,\n",
    "    \"SA2_NAME16\" VARCHAR(80),\n",
    "    \"SA3_NAME16\" VARCHAR(80),\n",
    "    \"AREASQKM16\" NUMERIC,\n",
    "    \"geom\" GEOMETRY(MULTIPOLYGON,4326)\n",
    ");\"\"\"\n",
    ")\n",
    "\n",
    "# SQL Table for neighbourhood Data\n",
    "conn.execute(\"\"\"\n",
    "DROP TABLE IF EXISTS neighbourhood;\n",
    "CREATE TABLE neighbourhood (\n",
    "    \"area_id\" INTEGER,\n",
    "    \"land_area\" NUMERIC,\n",
    "    \"population\" INTEGER,\n",
    "    \"number_of_dwellings\" VARCHAR(80),\n",
    "    \"number_of_businesses\" INTEGER,\n",
    "    \"median_annual_household_income\" NUMERIC,\n",
    "    \"avg_monthly_rent\" INTEGER,\n",
    "    \"0-4\" INTEGER,\n",
    "    \"5-9\" INTEGER,\n",
    "    \"10-14\" INTEGER,\n",
    "    \"15-19\" INTEGER\n",
    ");\"\"\"\n",
    ")\n",
    "\n",
    "# SQL Table for break and enter Data\n",
    "conn.execute(\"\"\"\n",
    "DROP TABLE IF EXISTS break_and_enter;\n",
    "CREATE TABLE break_and_enter (\n",
    "    \"OBJECTID\" INTEGER,\n",
    "    \"Density\" VARCHAR(80),\n",
    "    \"ORIG_FID\" INTEGER,\n",
    "    \"Shape_Area\" NUMERIC,\n",
    "    \"geom\" GEOMETRY(MULTIPOLYGON,4326)\n",
    ");\"\"\"\n",
    ")\n",
    "\n",
    "# SQL Table for school_catchments_future Data\n",
    "conn.execute(\"\"\"\n",
    "DROP TABLE IF EXISTS school_catchments_future;\n",
    "CREATE TABLE school_catchments_future (\n",
    "    \"USE_ID\" INTEGER, \n",
    "    \"CATCH_TYPE\" VARCHAR(80), \n",
    "    \"USE_DESC\" VARCHAR(80),\n",
    "    \"geom\" GEOMETRY(MULTIPOLYGON,4326)\n",
    "    \n",
    ");\"\"\"\n",
    ")\n",
    "\n",
    "# SQL Table for school_catchments_primary Data\n",
    "conn.execute(\"\"\"\n",
    "DROP TABLE IF EXISTS school_catchments_primary;\n",
    "CREATE TABLE school_catchments_primary (\n",
    "    \"USE_ID\" INTEGER,\n",
    "    \"USE_DESC\" VARCHAR(80),\n",
    "    \"geom\" GEOMETRY(MULTIPOLYGON,4326)\n",
    "    \n",
    ");\"\"\"\n",
    ")\n",
    "\n",
    "# SQL Table for school_catchments_secondary Data\n",
    "conn.execute(\"\"\"\n",
    "DROP TABLE IF EXISTS school_catchments_secondary;\n",
    "CREATE TABLE school_catchments_secondary (\n",
    "    \"USE_ID\" INTEGER,\n",
    "    \"USE_DESC\" VARCHAR(80),\n",
    "    \"geom\" GEOMETRY(MULTIPOLYGON,4326)\n",
    "    \n",
    ");\"\"\"\n",
    ")\n",
    "\n",
    "\n",
    "# SQL Table for BusinessStats Data\n",
    "conn.execute(\"\"\"\n",
    "DROP TABLE IF EXISTS businessstats;\n",
    "CREATE TABLE businessstats (\n",
    "    \"area_id\" INTEGER,\n",
    "    \"number_of_businesses\" INTEGER,\n",
    "    \"accommodation_and_food_services\" INTEGER,\n",
    "    \"retail_trade\" INTEGER,\n",
    "    \"agriculture_forestry_and_fishing\" INTEGER,\n",
    "    \"health_care_and_social_assistance\" INTEGER,\n",
    "    \"public_administration_and_safety\" INTEGER,\n",
    "    \"transport_postal_and_warehousing\" INTEGER\n",
    ");\"\"\"\n",
    ")\n",
    "\n",
    "# SQL Table for Playgrounds Data\n",
    "conn.execute(\"\"\"\n",
    "DROP TABLE IF EXISTS playgrounds;\n",
    "CREATE TABLE playgrounds (\n",
    "   \"Name\" VARCHAR(200),\n",
    "   geom GEOMETRY(POINT, 4326)\n",
    ");\"\"\"\n",
    ")\n",
    "\n",
    "# SQL Table for Lights Data\n",
    "conn.execute(\"\"\"\n",
    "DROP TABLE IF EXISTS lights;\n",
    "CREATE TABLE lights (\n",
    "   \"Location\" VARCHAR(200),\n",
    "   geom GEOMETRY(POINT, 4326)\n",
    ");\"\"\"\n",
    ")"
   ]
  },
  {
   "cell_type": "markdown",
   "metadata": {},
   "source": [
    "We can run the below code to confirm that our SQL tables have been successfully created in the public schema of our PostgreSQL server."
   ]
  },
  {
   "cell_type": "code",
   "execution_count": 44,
   "metadata": {
    "collapsed": true
   },
   "outputs": [
    {
     "name": "stdout",
     "output_type": "stream",
     "text": [
      "spatial_ref_sys\n",
      "public.BusinessStats\n",
      "BusinessStats\n",
      "Lights\n",
      "Playgrounds\n",
      "cities\n",
      "world\n",
      "task3_results\n",
      "task3_data\n",
      "lights_database\n",
      "playgrounds_database\n",
      "sa2_data\n",
      "neighbourhood\n",
      "break_and_enter\n",
      "school_catchments_future\n",
      "school_catchments_primary\n",
      "school_catchments_secondary\n",
      "businessstats\n",
      "playgrounds\n",
      "lights\n",
      "school_catchments_combined\n",
      "results\n"
     ]
    }
   ],
   "source": [
    "from sqlalchemy import inspect\n",
    "for table in inspect(db).get_table_names(schema='public') :\n",
    "    print(table)"
   ]
  },
  {
   "cell_type": "markdown",
   "metadata": {},
   "source": [
    "### Data Ingestion"
   ]
  },
  {
   "cell_type": "markdown",
   "metadata": {},
   "source": [
    "Now, we load the data from the pandas DataFrames into their respective SQL tables. We specifically define the new datatype of our `geom` columns that is `Multipolygon`."
   ]
  },
  {
   "cell_type": "code",
   "execution_count": 18,
   "metadata": {},
   "outputs": [],
   "source": [
    "# Inserting the school datasets into SQL tables\n",
    "school_catchments_future.to_sql(\"school_catchments_future\", conn, if_exists='append', index=False, dtype={'geom': Geometry('MULTIPOLYGON', srid)})\n",
    "school_catchments_primary.to_sql(\"school_catchments_primary\", conn, if_exists='append', index=False, dtype={'geom': Geometry('MULTIPOLYGON', srid)})\n",
    "school_catchments_secondary.to_sql(\"school_catchments_secondary\", conn, if_exists='append', index=False, dtype={'geom': Geometry('MULTIPOLYGON', srid)})\n",
    "\n",
    "# Inserting the additional datasets into SQL tables\n",
    "Lights.to_sql('lights', conn, if_exists='append', index=False, dtype={'geom': Geometry('POINT', srid)})\n",
    "Playgrounds.to_sql('playgrounds', conn, if_exists='append', index=False, dtype={'geom': Geometry('POINT', srid)})\n",
    "\n",
    "# Inserting the other datasets into SQL tables\n",
    "sa2_data.to_sql('sa2_data', conn, if_exists='append', index=False, dtype={'geom': Geometry('MULTIPOLYGON', srid)})\n",
    "neighbourhoods.to_sql('neighbourhood', conn, if_exists='append', index=False)\n",
    "BusinessStats.to_sql('businessstats', conn, if_exists='append', index=False)\n",
    "break_and_enter.to_sql(\"break_and_enter\", conn, if_exists='append', index=False, dtype={'geom': Geometry('MULTIPOLYGON', srid)})"
   ]
  },
  {
   "cell_type": "markdown",
   "metadata": {},
   "source": [
    "### Reorganising SQL Tables"
   ]
  },
  {
   "cell_type": "markdown",
   "metadata": {},
   "source": [
    "We combine the 3 different school catchment tables into a new table for the purpose of practicality. We can now get rid of the earlier tables since they are not of any further use."
   ]
  },
  {
   "cell_type": "code",
   "execution_count": 27,
   "metadata": {},
   "outputs": [
    {
     "name": "stdout",
     "output_type": "stream",
     "text": [
      "Error encountered: \n",
      "This result object does not return rows. It has been closed automatically.\n"
     ]
    },
    {
     "data": {
      "text/html": [
       "<div>\n",
       "<style scoped>\n",
       "    .dataframe tbody tr th:only-of-type {\n",
       "        vertical-align: middle;\n",
       "    }\n",
       "\n",
       "    .dataframe tbody tr th {\n",
       "        vertical-align: top;\n",
       "    }\n",
       "\n",
       "    .dataframe thead th {\n",
       "        text-align: right;\n",
       "    }\n",
       "</style>\n",
       "<table border=\"1\" class=\"dataframe\">\n",
       "  <thead>\n",
       "    <tr style=\"text-align: right;\">\n",
       "      <th></th>\n",
       "    </tr>\n",
       "  </thead>\n",
       "  <tbody>\n",
       "  </tbody>\n",
       "</table>\n",
       "</div>"
      ],
      "text/plain": [
       "Empty DataFrame\n",
       "Columns: []\n",
       "Index: []"
      ]
     },
     "execution_count": 27,
     "metadata": {},
     "output_type": "execute_result"
    }
   ],
   "source": [
    "sql=\"\"\"\n",
    "DROP TABLE IF EXISTS school_catchments_combined;\n",
    "CREATE TABLE school_catchments_combined (\n",
    "    \"USE_ID\" INTEGER,\n",
    "    \"USE_DESC\" VARCHAR(80),\n",
    "    \"geom\" GEOMETRY(MULTIPOLYGON,4326)\n",
    ");\n",
    "\n",
    "INSERT INTO school_catchments_combined(\"USE_ID\",\"USE_DESC\",\"geom\")\n",
    "    SELECT * FROM school_catchments_primary\n",
    "    UNION ALL\n",
    "    SELECT * FROM school_catchments_secondary\n",
    "    UNION ALL\n",
    "    SELECT \"USE_ID\",\"USE_DESC\",\"geom\" FROM school_catchments_future\n",
    "    ;\n",
    "\n",
    "DROP TABLE IF EXISTS school_catchments_primary;\n",
    "DROP TABLE IF EXISTS school_catchments_secondary;\n",
    "DROP TABLE IF EXISTS school_catchments_future;\n",
    "\"\"\"\n",
    "\n",
    "query(conn,sql)"
   ]
  },
  {
   "cell_type": "markdown",
   "metadata": {},
   "source": [
    "# TASK - 2"
   ]
  },
  {
   "cell_type": "markdown",
   "metadata": {
    "collapsed": true
   },
   "source": [
    "## Main Analysis for Task-2"
   ]
  },
  {
   "cell_type": "code",
   "execution_count": 28,
   "metadata": {},
   "outputs": [
    {
     "name": "stdout",
     "output_type": "stream",
     "text": [
      "Error encountered: \n",
      "This result object does not return rows. It has been closed automatically.\n"
     ]
    },
    {
     "data": {
      "text/plain": [
       "<matplotlib.axes._subplots.AxesSubplot at 0x7fbeb508cdd0>"
      ]
     },
     "execution_count": 28,
     "metadata": {},
     "output_type": "execute_result"
    },
    {
     "data": {
      "image/png": "[encoded data removed]",
      "text/plain": [
       "<Figure size 720x432 with 2 Axes>"
      ]
     },
     "metadata": {
      "needs_background": "light"
     },
     "output_type": "display_data"
    }
   ],
   "source": [
    "sql=\"\"\"\n",
    "DROP TABLE IF EXISTS results;\n",
    "CREATE TABLE results\n",
    "AS\n",
    "\n",
    "with Health AS \n",
    "(SELECT avg(1000.0*bs.\"health_care_and_social_assistance\"/n.\"population\") AS mean,\n",
    "stddev(1000.0*bs.\"health_care_and_social_assistance\"/n.\"population\") AS sd\n",
    "FROM businessstats bs, neighbourhood n\n",
    "WHERE bs.\"area_id\" = n.\"area_id\"),\n",
    "\n",
    "Retail AS\n",
    "(SELECT avg(1000.0*bs.\"retail_trade\"/n.\"population\") AS mean,\n",
    "stddev(1000.0*bs.\"retail_trade\"/n.\"population\") AS sd\n",
    "FROM businessstats bs, neighbourhood n\n",
    "WHERE bs.\"area_id\" = n.\"area_id\"),\n",
    "\n",
    "Accom AS\n",
    "(SELECT avg(1000.0*bs.\"accommodation_and_food_services\"/n.\"population\") AS mean,\n",
    "stddev(1000.0*bs.\"accommodation_and_food_services\"/n.\"population\") AS sd\n",
    "FROM businessstats bs, neighbourhood n\n",
    "WHERE bs.\"area_id\" = n.\"area_id\"),\n",
    "\n",
    "Crime AS \n",
    "(SELECT AVG(q1) AS mean,\n",
    "stddev(q1) AS sd\n",
    "FROM ( SELECT AVG(be.\"ORIG_FID\"*be.\"Shape_Area\"/s.\"AREASQKM16\")as q1\n",
    "        FROM break_and_enter be join sa2_data s ON\n",
    "        ST_Intersects(s.geom,be.geom)\n",
    "        GROUP BY s.\"SA2_NAME16\") a ),\n",
    "        \n",
    "Schools AS \n",
    "(SELECT AVG(Schools) AS mean,\n",
    "stddev(Schools) as sd \n",
    "FROM (SELECT 1000.0*COUNT(*)/(AVG(n.\"0-4\")+AVG(n.\"5-9\")+AVG(n.\"10-14\")+AVG(n.\"15-19\")) AS Schools\n",
    "    FROM school_catchments_combined sc, sa2_data s, neighbourhood n\n",
    "    WHERE ST_Intersects(s.geom,sc.geom)\n",
    "    AND s.\"SA2_MAIN16\" = n.\"area_id\"\n",
    "    GROUP BY s.\"SA2_NAME16\" ) b)\n",
    "\n",
    "SELECT s.\"SA2_NAME16\",\n",
    "\n",
    "abs((1000.0*AVG(bs.\"health_care_and_social_assistance\")/AVG(n.\"population\"))-AVG(Health.mean))/AVG(Health.sd) AS HZ,\n",
    "\n",
    "abs((1000.0*AVG(bs.\"retail_trade\")/AVG(n.\"population\"))-AVG(Retail.mean))/AVG(Retail.sd) AS RZ,\n",
    "\n",
    "abs((1000.0*AVG(bs.\"accommodation_and_food_services\")/AVG(n.\"population\"))-AVG(Accom.mean))/AVG(Accom.sd) AS AZ,\n",
    "\n",
    "abs((AVG(be.\"ORIG_FID\"*be.\"Shape_Area\"/s.\"AREASQKM16\")-AVG(Crime.mean))/AVG(Crime.sd)) AS CZ,\n",
    "\n",
    "abs((1000.0*COUNT(*)/(AVG(n.\"0-4\")+AVG(n.\"5-9\")+AVG(n.\"10-14\")+AVG(n.\"15-19\"))-AVG(Schools.mean))/AVG(Schools.sd)) AS SZ,\n",
    "\n",
    "1/(1+(exp(-((abs((1000.0*AVG(bs.\"health_care_and_social_assistance\")/AVG(n.\"population\"))-AVG(Health.mean))/AVG(Health.sd))\n",
    "            +(abs((1000.0*AVG(bs.\"retail_trade\")/AVG(n.\"population\"))-AVG(Retail.mean))/AVG(Retail.sd))\n",
    "            +(abs((1000.0*AVG(bs.\"accommodation_and_food_services\")/AVG(n.\"population\"))-AVG(Accom.mean))/AVG(Accom.sd))\n",
    "            -(abs((AVG(be.\"ORIG_FID\"*be.\"Shape_Area\"/s.\"AREASQKM16\")-AVG(Crime.mean))/AVG(Crime.sd)))\n",
    "            +(abs((1000.0*COUNT(*)/(AVG(n.\"0-4\")+AVG(n.\"5-9\")+AVG(n.\"10-14\")+AVG(n.\"15-19\"))-AVG(Schools.mean))/AVG(Schools.sd))))))) AS Sigmoid\n",
    "\n",
    "FROM sa2_data s, businessstats bs, break_and_enter be, neighbourhood n,school_catchments_combined sc, Health, Retail, Accom, crime, Schools\n",
    "WHERE s.\"SA2_MAIN16\" = bs.\"area_id\"\n",
    "AND bs.\"area_id\" = n.\"area_id\"\n",
    "AND s.\"SA2_MAIN16\" = n.\"area_id\"\n",
    "AND ST_Intersects(s.geom,be.geom)\n",
    "AND ST_Intersects(s.geom,sc.geom)\n",
    "GROUP BY s.\"SA2_NAME16\"\n",
    "ORDER BY sigmoid desc\n",
    ";\n",
    "\"\"\"\n",
    "# Our Results\n",
    "# results_df = query(conn,sql)\n",
    "# results_df\n",
    "\n",
    "# The common data between our result and sa2_data\n",
    "# gdf = gpd.GeoDataFrame(results)\n",
    "# gdf2 = gpd.read_file(\"SA2_2016_AUST/SA2_2016_AUST.shp\")\n",
    "# mg = gdf.reset_index().merge(gdf2, left_on = 'SA2_NAME16', right_on = 'SA2_NAME16') # Good\n",
    "# mg \n",
    "\n",
    "# Greater Sydney Map\n",
    "# gdf3 = gdf2[gdf2['GCC_NAME16']=='Greater Sydney'] \n",
    "# gdf3.plot(figsize=(10,6))\n",
    "# gdf3\n",
    "\n",
    "# Missing Rows Area\n",
    "# df = pd.concat([mg.drop(columns=['index', 'hz','rz','az','cz','sz','sigmoid']), gdf3])\n",
    "# gdf4 = df.drop_duplicates(keep=False)\n",
    "# gdf4\n",
    "# gdf4.plot()\n",
    "\n",
    "\n",
    "\n",
    "# Correctly printing the Coloured Map\n",
    "query(conn,sql)\n",
    "results = query(conn,\"SELECT * FROM results\")\n",
    "gdf = gpd.GeoDataFrame(results)\n",
    "gdf2 = gpd.read_file(\"SA2_2016_AUST/SA2_2016_AUST.shp\")\n",
    "mg = gdf.reset_index().merge(gdf2, left_on = 'SA2_NAME16', right_on = 'SA2_NAME16') \n",
    "gdf3 = gdf2[gdf2['GCC_NAME16']=='Greater Sydney']\n",
    "df = pd.concat([mg.drop(columns=['index', 'hz','rz','az','cz','sz','sigmoid']), gdf3])\n",
    "gdf4 = df.drop_duplicates(keep=False)\n",
    "gdf = gpd.GeoDataFrame(results)\n",
    "sa2_areas = gpd.read_file('SA2_2016_AUST/SA2_2016_AUST.shp')\n",
    "merged = gdf.set_index('SA2_NAME16').join(sa2_areas.set_index('SA2_NAME16'))\n",
    "# merged\n",
    "gdf = gpd.GeoDataFrame(results)\n",
    "merged2 = pd.concat([merged, gdf4], axis=0)\n",
    "# # merged2['geometry'] = merged2['geometry'].apply(lambda x: create_wkt_element(geom=x,srid=srid))  # applying the function\n",
    "# # merged2\n",
    "fig, ax = plt.subplots(1, figsize=(10, 6))\n",
    "ax.axis('off')\n",
    "ax.set_title('Greater Sydney Liveability Analysis', fontdict={'fontsize': '15', 'fontweight' : '3'})\n",
    "# merged2.drop\n",
    "merged2.drop(merged2.index[0]).plot(column='sigmoid',\n",
    "            cmap='RdYlGn',\n",
    "            linewidth=0.9,\n",
    "            ax=ax,\n",
    "            edgecolor='1',\n",
    "            legend=True, \n",
    "            legend_kwds={\"label\": \"Sigmoid Score\"},\n",
    "            missing_kwds={\"color\": \"lightgrey\"})\n",
    "\n"
   ]
  },
  {
   "cell_type": "code",
   "execution_count": 35,
   "metadata": {},
   "outputs": [
    {
     "data": {
      "text/html": [
       "<div>\n",
       "<style scoped>\n",
       "    .dataframe tbody tr th:only-of-type {\n",
       "        vertical-align: middle;\n",
       "    }\n",
       "\n",
       "    .dataframe tbody tr th {\n",
       "        vertical-align: top;\n",
       "    }\n",
       "\n",
       "    .dataframe thead th {\n",
       "        text-align: right;\n",
       "    }\n",
       "</style>\n",
       "<table border=\"1\" class=\"dataframe\">\n",
       "  <thead>\n",
       "    <tr style=\"text-align: right;\">\n",
       "      <th></th>\n",
       "      <th>Rent Correlation</th>\n",
       "      <th>Income Correlation</th>\n",
       "    </tr>\n",
       "  </thead>\n",
       "  <tbody>\n",
       "    <tr>\n",
       "      <th>0</th>\n",
       "      <td>-0.148096</td>\n",
       "      <td>-0.135192</td>\n",
       "    </tr>\n",
       "  </tbody>\n",
       "</table>\n",
       "</div>"
      ],
      "text/plain": [
       "   Rent Correlation  Income Correlation\n",
       "0         -0.148096           -0.135192"
      ]
     },
     "execution_count": 35,
     "metadata": {},
     "output_type": "execute_result"
    }
   ],
   "source": [
    "# Should be getting 312\n",
    "# In total, getting 33 less rows\n",
    "# Neighbourhood dataset has 13 less rows than sa2_data\n",
    "# Break_and enter dataset has 28 less rows than sa2_data\n",
    "\n",
    "SQL_Query_to_create_task3_data = \"\"\"\n",
    "DROP TABLE IF EXISTS task3_data;\n",
    "CREATE TABLE task3_data AS\n",
    "select \n",
    "\"hz\", \n",
    "\"rz\", \n",
    "\"az\", \n",
    "\"cz\", \n",
    "\"sz\", \n",
    "\"sigmoid\",\n",
    "\"area_id\",\n",
    "\"land_area\",\n",
    "\"population\",\n",
    "\"number_of_dwellings\",\n",
    "\"number_of_businesses\",\n",
    "\"median_annual_household_income\",\n",
    "\"avg_monthly_rent\",\n",
    "\"0-4\",\n",
    "\"5-9\",\n",
    "\"10-14\",\n",
    "\"15-19\",\n",
    "\"SA2_MAIN16\",\n",
    "s.\"SA2_NAME16\",\n",
    "\"SA3_NAME16\",\n",
    "\"AREASQKM16\",\n",
    "\"geom\"\n",
    "from results R, neighbourhood N, sa2_data s\n",
    "where s.\"SA2_MAIN16\" = N.\"area_id\"\n",
    "and r.\"SA2_NAME16\"=s.\"SA2_NAME16\"\n",
    "Order by sigmoid desc;\n",
    "\"\"\"\n",
    "query(conn,SQL_Query_to_create_task3_data)\n",
    "# results_table_combined=query(conn,\"SELECT * FROM task3_data\")\n",
    "# results_table_combined['sigmoid'].corr(results_table_combined['avg_monthly_rent']) # -0.14809587628537235\n",
    "# results_table_combined['sigmoid'].corr(results_table_combined['median_annual_household_income']) # -0.1351918056836305\n",
    "\n",
    "SQL_Query_to_find_Correlation = \"\"\" SELECT corr(\"sigmoid\",\"avg_monthly_rent\") AS \"Rent Correlation\",\n",
    "corr(\"sigmoid\",\"median_annual_household_income\") AS \"Income Correlation\" FROM task3_data; \"\"\"\n",
    "query(conn,SQL_Query_to_find_Correlation)"
   ]
  },
  {
   "cell_type": "markdown",
   "metadata": {},
   "source": [
    "# TASK - 3"
   ]
  },
  {
   "cell_type": "code",
   "execution_count": null,
   "metadata": {},
   "outputs": [],
   "source": [
    "# TASK-3\n",
    "\n",
    "sql=\"\"\"\n",
    "DROP TABLE IF EXISTS Lights_database;\n",
    "CREATE TABLE Lights_database AS\n",
    "\n",
    "WITH Lights_data AS \n",
    "(SELECT avg(q1) AS mean,\n",
    "stddev(q1) AS sd\n",
    "FROM (SELECT COUNT(*) as q1 FROM\n",
    "    task3_data t, lights l\n",
    "    where \"SA3_NAME16\"='Sydney Inner City'\n",
    "    AND ST_Contains(t.geom,l.geom)\n",
    "    GROUP BY \"SA2_NAME16\" ) a)\n",
    "\n",
    "SELECT t.\"SA2_NAME16\",(abs(COUNT(*)-AVG(ld.mean))/AVG(ld.sd)) AS lz\n",
    "FROM task3_data t, lights l, lights_data ld\n",
    "where \"SA3_NAME16\"='Sydney Inner City'\n",
    "AND ST_Contains(t.geom,l.geom)\n",
    "GROUP BY \"SA2_NAME16\"\n",
    ";\n",
    "\"\"\"\n",
    "query(conn,sql)\n",
    "\n",
    "sql=\"\"\"\n",
    "DROP TABLE IF EXISTS Playgrounds_database;\n",
    "CREATE TABLE Playgrounds_database AS\n",
    "\n",
    "WITH Playgrounds_data AS \n",
    "(SELECT avg(q2) AS mean,\n",
    "stddev(q2) AS sd\n",
    "FROM (SELECT COUNT(*) as q2 FROM\n",
    "    task3_data t, Playgrounds p\n",
    "    where \"SA3_NAME16\"='Sydney Inner City'\n",
    "    AND ST_Contains(t.geom,p.geom)\n",
    "    GROUP BY \"SA2_NAME16\" ) a)\n",
    "\n",
    "SELECT t.\"SA2_NAME16\",(abs(COUNT(*)-AVG(pd.mean))/AVG(pd.sd)) AS pz\n",
    "FROM task3_data t, playgrounds p, playgrounds_data pd\n",
    "where \"SA3_NAME16\"='Sydney Inner City'\n",
    "AND ST_Contains(t.geom,p.geom)\n",
    "GROUP BY \"SA2_NAME16\"\n",
    ";\n",
    "\"\"\"\n",
    "query(conn,sql)\n",
    "# query(conn,\"SELECT * FROM Playgrounds_database\")\n",
    "# query(conn,\"SELECT * FROM Lights_database\")\n",
    "\n",
    "sql=\"\"\"\n",
    "DROP TABLE IF EXISTS task3_results;\n",
    "CREATE TABLE task3_results AS\n",
    "\n",
    "SELECT \n",
    "t.\"SA2_NAME16\",\n",
    "1/(1+(exp(-((hz)+(rz)+(az)-(cz)+(sz)+(lz)+(pz))))) AS Sigmoid,\n",
    "t.geom\n",
    "\n",
    "FROM \n",
    "task3_data t, lights_database l, playgrounds_database p\n",
    "WHERE t.\"SA2_NAME16\"=l.\"SA2_NAME16\"\n",
    "AND p.\"SA2_NAME16\"=l.\"SA2_NAME16\"\n",
    "ORDER BY Sigmoid desc\n",
    "\"\"\"\n",
    "\n",
    "# Correctly printing the Coloured Map\n",
    "query(conn,sql)\n",
    "results_task3 = query(conn,\"SELECT * FROM task3_results\")\n",
    "gdf_task3 = gpd.GeoDataFrame(results_task3)\n",
    "# sa2_areas = gpd.read_file('SA2_2016_AUST/SA2_2016_AUST.shp')\n",
    "merged_task3 = gdf_task3.set_index('SA2_NAME16').join(sa2_data_og.set_index('SA2_NAME16'))\n",
    "merged_task3\n",
    "# merged2 = pd.concat([merged, gdf4], axis=0)\n",
    "# merged2\n",
    "fig, ax = plt.subplots(1, figsize=(10, 6))\n",
    "ax.axis('off')\n",
    "ax.set_title('Greater Sydney Liveability Analysis', fontdict={'fontsize': '15', 'fontweight' : '3'})\n",
    "\n",
    "merged_task3.plot(column='sigmoid',\n",
    "            cmap='RdYlGn',\n",
    "            linewidth=0.9,\n",
    "            ax=ax,\n",
    "            edgecolor='1',\n",
    "            legend=True, \n",
    "            legend_kwds={\"label\": \"Sigmoid Score\"},\n",
    "            missing_kwds={\"color\": \"lightgrey\"})"
   ]
  },
  {
   "cell_type": "markdown",
   "metadata": {},
   "source": [
    "# TASK - 4"
   ]
  },
  {
   "cell_type": "code",
   "execution_count": 29,
   "metadata": {},
   "outputs": [
    {
     "data": {
      "image/png": "[encoded data removed]",
      "text/plain": [
       "<Figure size 432x288 with 1 Axes>"
      ]
     },
     "metadata": {
      "needs_background": "light"
     },
     "output_type": "display_data"
    }
   ],
   "source": [
    "# Defining Model\n",
    "model = TSNE(learning_rate=100)\n",
    "\n",
    "# Fitting Model\n",
    "transformed = model.fit_transform(merged[['hz','cz','az','cz','sz']])\n",
    "\n",
    "# Plotting 2d t-Sne\n",
    "x_axis = transformed[:, 0]\n",
    "y_axis = transformed[:, 1]\n",
    "\n",
    "plt.scatter(x_axis, y_axis)\n",
    "plt.show()"
   ]
  },
  {
   "cell_type": "code",
   "execution_count": 30,
   "metadata": {},
   "outputs": [
    {
     "data": {
      "text/plain": [
       "<matplotlib.axes._subplots.AxesSubplot at 0x7fbeaf5c5f90>"
      ]
     },
     "execution_count": 30,
     "metadata": {},
     "output_type": "execute_result"
    },
    {
     "data": {
      "image/png": "[encoded data removed]",
      "text/plain": [
       "<Figure size 720x432 with 2 Axes>"
      ]
     },
     "metadata": {
      "needs_background": "light"
     },
     "output_type": "display_data"
    }
   ],
   "source": [
    "import math\n",
    "data=[]\n",
    "ML_merged=merged.copy()\n",
    "for i in range(len(x_axis)) :\n",
    "    new_row = math.sqrt(x_axis[i]**2 + y_axis[i]**2)\n",
    "    data.append([new_row])\n",
    "\n",
    "ML_df = pd.DataFrame(data,columns=['ML_Score'])\n",
    "# ML_df\n",
    "ML_merged = pd.concat([merged.reset_index(), ML_df], axis=1)\n",
    "ML_merged = pd.concat([ML_merged, gdf4], axis=0)\n",
    "# ML_merged\n",
    "\n",
    "fig, ax = plt.subplots(1, figsize=(10, 6))\n",
    "ax.axis('off')\n",
    "ax.set_title('Greater Sydney Liveability Analysis by ML', fontdict={'fontsize': '15', 'fontweight' : '3'})\n",
    "\n",
    "ML_merged.plot(column='ML_Score',\n",
    "            cmap='RdYlGn',\n",
    "            linewidth=0.9,\n",
    "            ax=ax,\n",
    "            edgecolor='1',\n",
    "            legend=True, \n",
    "            legend_kwds={\"label\": \"ML Score\"},\n",
    "            missing_kwds={\"color\": \"lightgrey\"})"
   ]
  },
  {
   "cell_type": "markdown",
   "metadata": {},
   "source": [
    "## Closing Connections"
   ]
  },
  {
   "cell_type": "markdown",
   "metadata": {},
   "source": [
    "Now, having completed our analysis, we will close our connection to the PostgreSQL server."
   ]
  },
  {
   "cell_type": "code",
   "execution_count": 101,
   "metadata": {
    "collapsed": true
   },
   "outputs": [
    {
     "ename": "AttributeError",
     "evalue": "'NoneType' object has no attribute 'close'",
     "output_type": "error",
     "traceback": [
      "\u001b[0;31m---------------------------------------------------------------------------\u001b[0m",
      "\u001b[0;31mAttributeError\u001b[0m                            Traceback (most recent call last)",
      "\u001b[0;32m<ipython-input-101-ade7356e990b>\u001b[0m in \u001b[0;36m<module>\u001b[0;34m\u001b[0m\n\u001b[0;32m----> 1\u001b[0;31m \u001b[0mconn\u001b[0m\u001b[0;34m.\u001b[0m\u001b[0mclose\u001b[0m\u001b[0;34m(\u001b[0m\u001b[0;34m)\u001b[0m\u001b[0;34m\u001b[0m\u001b[0;34m\u001b[0m\u001b[0m\n\u001b[0m\u001b[1;32m      2\u001b[0m \u001b[0mdb\u001b[0m\u001b[0;34m.\u001b[0m\u001b[0mdispose\u001b[0m\u001b[0;34m(\u001b[0m\u001b[0;34m)\u001b[0m\u001b[0;34m\u001b[0m\u001b[0;34m\u001b[0m\u001b[0m\n",
      "\u001b[0;31mAttributeError\u001b[0m: 'NoneType' object has no attribute 'close'"
     ]
    }
   ],
   "source": [
    "conn.close()\n",
    "db.dispose()"
   ]
  },
  {
   "cell_type": "code",
   "execution_count": 32,
   "metadata": {},
   "outputs": [
    {
     "data": {
      "text/plain": [
       "array([[ -3.0126717 ,   1.4138361 ],\n",
       "       [-14.922591  ,  -1.4692509 ],\n",
       "       [  3.4631443 ,  15.364733  ],\n",
       "       [  3.8920355 ,  15.008865  ],\n",
       "       [  4.201543  ,  14.648781  ],\n",
       "       [  3.3921313 ,  14.897474  ],\n",
       "       [  4.289369  ,  14.17383   ],\n",
       "       [  3.7267313 ,  13.802332  ],\n",
       "       [ 15.797209  ,   7.762052  ],\n",
       "       [  1.7691486 ,  14.925979  ],\n",
       "       [ 14.137272  ,   7.4799247 ],\n",
       "       [ 15.069598  ,   7.138757  ],\n",
       "       [ 14.227368  ,   9.228926  ],\n",
       "       [ 12.944432  ,   8.744152  ],\n",
       "       [ 15.654291  ,   6.6532893 ],\n",
       "       [ 11.485465  ,   8.278411  ],\n",
       "       [  0.10752857,  14.124947  ],\n",
       "       [ 14.704326  ,   6.2976074 ],\n",
       "       [ 14.316941  ,   6.7516975 ],\n",
       "       [ 10.045492  ,   8.25456   ],\n",
       "       [  1.1191828 ,  15.227491  ],\n",
       "       [ 10.914588  ,   9.265715  ],\n",
       "       [ 16.220562  ,   5.652579  ],\n",
       "       [ -0.44418275,  14.002003  ],\n",
       "       [ 11.430504  ,   9.325307  ],\n",
       "       [  0.6670682 ,  13.982732  ],\n",
       "       [ 12.57633   ,   5.734623  ],\n",
       "       [ 16.147306  ,   6.6440234 ],\n",
       "       [  9.81347   ,   7.3762035 ],\n",
       "       [ 12.435329  ,   9.426335  ],\n",
       "       [ 16.858364  ,   7.029599  ],\n",
       "       [ -1.416898  ,  13.761514  ],\n",
       "       [ 15.371077  ,   5.1091743 ],\n",
       "       [ 13.233424  ,   4.957151  ],\n",
       "       [ 11.657421  ,   6.616916  ],\n",
       "       [ -1.0790156 ,  13.41422   ],\n",
       "       [ -0.66759366,  12.51286   ],\n",
       "       [ 10.50215   ,   5.716885  ],\n",
       "       [ 14.940608  ,   3.4137132 ],\n",
       "       [ -5.503651  ,  10.598804  ],\n",
       "       [ 14.21742   ,   5.623037  ],\n",
       "       [ 11.423711  ,   4.5025854 ],\n",
       "       [ 14.947635  ,   3.8303878 ],\n",
       "       [ 17.199862  ,   1.372328  ],\n",
       "       [ -1.8585453 ,  12.81538   ],\n",
       "       [ -6.072167  ,   9.708669  ],\n",
       "       [  8.560936  ,   5.850622  ],\n",
       "       [ -5.116437  ,  10.361755  ],\n",
       "       [  8.0777235 ,   4.9137254 ],\n",
       "       [ -5.477303  ,   9.639378  ],\n",
       "       [  8.922238  ,   6.8823347 ],\n",
       "       [  8.6681385 ,   7.7316513 ],\n",
       "       [ 11.038231  ,   3.8822913 ],\n",
       "       [ 12.0538025 ,   3.7144191 ],\n",
       "       [ 14.232919  ,   4.088727  ],\n",
       "       [ -1.202719  ,  12.538778  ],\n",
       "       [ -1.1260265 ,  10.33005   ],\n",
       "       [  7.5555563 ,   5.865635  ],\n",
       "       [  9.245153  ,   5.6937685 ],\n",
       "       [ -6.5951877 ,   8.777776  ],\n",
       "       [ 17.473606  ,   0.38675737],\n",
       "       [ -6.117064  ,   6.714483  ],\n",
       "       [ -6.3948245 ,  10.849646  ],\n",
       "       [  7.4375825 ,   5.1459737 ],\n",
       "       [ 15.98763   ,   1.0449494 ],\n",
       "       [ -6.966325  ,   7.1664133 ],\n",
       "       [ -8.062822  ,   6.03976   ],\n",
       "       [ -4.377248  ,   7.089356  ],\n",
       "       [ -5.894596  ,   7.8989167 ],\n",
       "       [ 14.547607  ,   2.1475804 ],\n",
       "       [  9.308165  ,   4.898194  ],\n",
       "       [  9.579687  ,   4.0863953 ],\n",
       "       [  8.193172  ,   6.316998  ],\n",
       "       [ 14.888825  ,   1.7283627 ],\n",
       "       [ 13.432893  ,   3.7972927 ],\n",
       "       [ -7.0200686 ,  10.201659  ],\n",
       "       [ -1.8190598 ,  12.216101  ],\n",
       "       [  6.756833  ,   4.515206  ],\n",
       "       [ -3.8216403 ,  10.885768  ],\n",
       "       [ 16.050306  ,   3.183146  ],\n",
       "       [ -7.698184  ,   7.3238215 ],\n",
       "       [ -6.0270953 ,   5.688273  ],\n",
       "       [ -7.4438877 ,   6.4299064 ],\n",
       "       [ -5.337897  ,   8.216668  ],\n",
       "       [ -6.9720707 ,   5.4328685 ],\n",
       "       [  7.0236673 ,   4.0307693 ],\n",
       "       [  9.309772  ,   3.7157533 ],\n",
       "       [ -7.131142  ,   6.178191  ],\n",
       "       [ 11.585085  ,   2.5760336 ],\n",
       "       [ -5.584034  ,   6.9626403 ],\n",
       "       [ -3.4988728 ,  11.178537  ],\n",
       "       [ -4.9079037 ,   5.3540087 ],\n",
       "       [ 15.5677185 ,   1.7943345 ],\n",
       "       [ 14.497953  ,   0.8773299 ],\n",
       "       [ -7.2370133 ,   5.124165  ],\n",
       "       [ -6.5605764 ,   4.7247453 ],\n",
       "       [  2.038958  ,   0.30808115],\n",
       "       [ -5.3682737 ,   5.498703  ],\n",
       "       [ -5.393006  ,   6.1846204 ],\n",
       "       [ -5.456194  ,   4.702596  ],\n",
       "       [ -7.0434465 ,   9.149554  ],\n",
       "       [  8.770784  ,   3.9990263 ],\n",
       "       [ -8.281134  ,   4.41888   ],\n",
       "       [ -1.822647  ,  10.631132  ],\n",
       "       [ -4.2731605 ,   6.200522  ],\n",
       "       [ -7.3675623 ,   4.172539  ],\n",
       "       [ 14.186962  ,   1.1511784 ],\n",
       "       [ -6.1573596 ,   3.9996305 ],\n",
       "       [  5.7362947 ,   4.9116154 ],\n",
       "       [ -3.9270935 ,   5.852928  ],\n",
       "       [ -7.2674165 ,   3.3290806 ],\n",
       "       [ 14.997915  ,   0.22158916],\n",
       "       [ -4.3426666 ,   4.325393  ],\n",
       "       [ 10.323992  ,   2.9635596 ],\n",
       "       [ 13.310788  ,  -2.2889752 ],\n",
       "       [ -6.0841703 ,   0.83935726],\n",
       "       [ -1.8185878 ,   9.985973  ],\n",
       "       [ -6.446097  ,   1.8845756 ],\n",
       "       [ -6.3950367 ,   0.41861406],\n",
       "       [ -6.8562827 ,   3.616876  ],\n",
       "       [ 13.106376  ,   1.5219473 ],\n",
       "       [ -2.3923693 ,   9.572939  ],\n",
       "       [ 16.674734  ,  -0.6700341 ],\n",
       "       [  2.3872595 ,  -1.2725738 ],\n",
       "       [ -3.5397677 ,   3.1632738 ],\n",
       "       [  9.432164  ,   2.6535845 ],\n",
       "       [ -5.4553175 ,  -1.7639647 ],\n",
       "       [ 10.766295  ,   2.2816439 ],\n",
       "       [ -5.9448586 ,  -1.3727903 ],\n",
       "       [ -3.116938  ,  10.63405   ],\n",
       "       [ 14.341055  ,  -0.6550603 ],\n",
       "       [ 16.466415  ,   0.09917016],\n",
       "       [ -5.6550865 ,  -2.6892128 ],\n",
       "       [ -2.2810738 ,  10.939137  ],\n",
       "       [ -3.9553783 ,  -1.0838562 ],\n",
       "       [ -5.442381  ,   0.14883177],\n",
       "       [  2.046316  ,  -2.5411825 ],\n",
       "       [ -5.563045  ,  -0.5568736 ],\n",
       "       [ -2.2206793 ,   7.4297256 ],\n",
       "       [ -5.518738  ,  -3.3232887 ],\n",
       "       [ 11.071599  ,  -2.0939357 ],\n",
       "       [ -2.9068017 ,   6.721363  ],\n",
       "       [  5.2387934 ,  -2.6217322 ],\n",
       "       [  3.670955  ,  -4.0708003 ],\n",
       "       [ -4.5487776 ,  -2.2165506 ],\n",
       "       [  1.3304204 ,  -1.7264959 ],\n",
       "       [ -4.8301587 ,  -4.4455705 ],\n",
       "       [ -4.8117523 ,  -3.383726  ],\n",
       "       [ -4.986956  ,  -0.8555093 ],\n",
       "       [  6.0535088 ,  -2.8589122 ],\n",
       "       [ 17.260988  ,  -1.152414  ],\n",
       "       [ -2.2983012 ,   6.3065906 ],\n",
       "       [ 10.313391  ,  -2.389417  ],\n",
       "       [ 12.513982  ,  -1.4536265 ],\n",
       "       [ -3.7487423 ,  -2.2319257 ],\n",
       "       [  5.6049347 ,  -3.2480345 ],\n",
       "       [ -4.0475426 ,  -4.3356085 ],\n",
       "       [  4.7322025 ,  -0.51655334],\n",
       "       [  1.0636541 ,  -2.3918843 ],\n",
       "       [  2.712042  ,  -3.9004567 ],\n",
       "       [ -4.1616755 ,  -3.065695  ],\n",
       "       [ -4.1448736 ,  -5.011685  ],\n",
       "       [  0.3556903 ,  -2.1648014 ],\n",
       "       [ 16.38989   ,  -1.0883471 ],\n",
       "       [  8.45412   ,   2.9250195 ],\n",
       "       [ -3.5893612 ,  -3.6703799 ],\n",
       "       [  2.1861439 ,  -3.2339888 ],\n",
       "       [ -3.7500124 ,  -6.9656396 ],\n",
       "       [  3.4303014 ,  -2.9830768 ],\n",
       "       [ -3.0664673 ,  -7.6468725 ],\n",
       "       [ -0.28476351,   3.6361098 ],\n",
       "       [ -3.719203  ,  -5.726476  ],\n",
       "       [ -3.2207844 ,  -8.106894  ],\n",
       "       [  6.9876957 ,  -2.8522546 ],\n",
       "       [ -2.7704291 ,  -6.9884753 ],\n",
       "       [ 13.426595  ,  -2.8192601 ],\n",
       "       [ -3.0539594 ,  -8.846986  ],\n",
       "       [ 14.324809  ,  -3.0696454 ],\n",
       "       [ -3.8961382 ,  -8.118947  ],\n",
       "       [ 15.890285  ,  -1.7329584 ],\n",
       "       [  5.0523157 ,   5.077588  ],\n",
       "       [ -3.0740535 ,  -3.0425112 ],\n",
       "       [  2.101695  ,  -9.979305  ],\n",
       "       [ -3.1101441 ,  -4.9466896 ],\n",
       "       [ -1.229165  ,  -5.012908  ],\n",
       "       [-11.830969  ,  -2.6677837 ],\n",
       "       [ -0.08652854,   2.5270147 ],\n",
       "       [ -2.4773364 ,  -8.147385  ],\n",
       "       [  4.548251  ,  -2.9897497 ],\n",
       "       [ -0.07360107,   2.212868  ],\n",
       "       [ -2.9104137 ,  -3.492551  ],\n",
       "       [  0.23411664,  -4.212242  ],\n",
       "       [ 10.59012   ,  -2.8630621 ],\n",
       "       [-11.643929  ,  -2.6207347 ],\n",
       "       [ -8.998445  ,  -1.602628  ],\n",
       "       [ -0.8911034 ,  -3.9047012 ],\n",
       "       [ -1.0763097 ,  -5.029026  ],\n",
       "       [ 16.420073  ,  -1.9815692 ],\n",
       "       [  7.525878  ,  -2.8398628 ],\n",
       "       [  1.1231443 , -10.179465  ],\n",
       "       [ -8.699275  ,   0.9424673 ],\n",
       "       [ -1.8731347 ,  -3.6699362 ],\n",
       "       [ 13.788663  ,  -1.1494166 ],\n",
       "       [ -2.483961  ,  -4.886517  ],\n",
       "       [ 13.354591  ,  -1.0732013 ],\n",
       "       [ -1.5979958 ,  -8.860847  ],\n",
       "       [  0.3364939 ,  -9.653558  ],\n",
       "       [ -0.10718225,   1.928648  ],\n",
       "       [ -0.5209009 ,  -4.686041  ],\n",
       "       [ 14.853352  ,  -2.399288  ],\n",
       "       [ -2.120844  ,  -9.185716  ],\n",
       "       [  2.581992  , -14.184266  ],\n",
       "       [ -5.996059  ,  -7.5381203 ],\n",
       "       [ -5.748586  ,  -7.566385  ],\n",
       "       [ -0.7115819 , -10.977302  ],\n",
       "       [ -1.8804096 , -10.642153  ],\n",
       "       [  0.7645157 , -12.6200485 ],\n",
       "       [ -1.05285   , -10.101255  ],\n",
       "       [ -0.14149497, -10.823331  ],\n",
       "       [  3.3295689 , -14.036456  ],\n",
       "       [ 13.381923  ,  -3.7940583 ],\n",
       "       [  2.9627607 , -13.329106  ],\n",
       "       [  0.22549006, -12.783166  ],\n",
       "       [  9.270704  ,  -2.5481648 ],\n",
       "       [  1.0052363 , -14.067875  ],\n",
       "       [ -0.39885852, -13.072835  ],\n",
       "       [ -0.5061705 , -12.079113  ],\n",
       "       [ -0.2911528 ,  -7.67151   ],\n",
       "       [ -0.25435007, -11.7212715 ],\n",
       "       [ -1.5541271 , -12.801885  ],\n",
       "       [  4.185533  , -14.477674  ],\n",
       "       [  3.3052785 , -14.850719  ],\n",
       "       [  0.06705541,  -6.4525304 ],\n",
       "       [ -1.6298352 , -11.261301  ],\n",
       "       [  1.2045535 , -15.174858  ],\n",
       "       [ -9.49595   ,  -2.1106966 ],\n",
       "       [ -2.2753406 , -12.442226  ],\n",
       "       [  0.876643  , -14.5135765 ],\n",
       "       [  1.5926348 , -15.590484  ],\n",
       "       [  2.6991143 , -15.067472  ],\n",
       "       [ -2.6869364 , -13.223626  ],\n",
       "       [  3.684485  , -15.208101  ],\n",
       "       [  2.0323384 , -16.188322  ],\n",
       "       [  0.5760173 , -15.626947  ],\n",
       "       [  3.0262003 , -16.018803  ],\n",
       "       [  1.2147964 , -16.152908  ],\n",
       "       [ -0.93931985, -14.129772  ],\n",
       "       [  3.065037  , -11.058979  ],\n",
       "       [ -0.18997888, -15.319702  ],\n",
       "       [ -0.1380527 , -14.262872  ],\n",
       "       [  1.0407885 , -16.703188  ],\n",
       "       [ 12.660769  ,  -4.756041  ],\n",
       "       [ -2.795666  , -13.98624   ],\n",
       "       [  0.40937528, -16.257229  ],\n",
       "       [-10.030043  ,  -2.6782665 ],\n",
       "       [-12.063038  ,  -3.2458427 ],\n",
       "       [-11.258432  ,  -2.6338415 ],\n",
       "       [ -1.2072896 , -14.6722355 ],\n",
       "       [ -1.1246582 , -16.2594    ],\n",
       "       [-11.69698   ,  -4.5300736 ],\n",
       "       [  5.500349  , -13.2736635 ],\n",
       "       [ -2.5674639 , -15.72861   ],\n",
       "       [ -2.6860201 , -15.133697  ],\n",
       "       [-14.746729  ,  -2.7393563 ],\n",
       "       [-11.624685  ,  -5.328137  ],\n",
       "       [-11.693452  ,  -5.190691  ],\n",
       "       [-14.0216675 ,  -4.255668  ],\n",
       "       [-14.213206  ,  -4.579376  ],\n",
       "       [-14.309249  ,  -4.5027657 ],\n",
       "       [-14.844931  ,  -4.1393642 ],\n",
       "       [-15.530724  ,  -3.5064201 ],\n",
       "       [-15.55898   ,  -3.3648884 ],\n",
       "       [-15.768439  ,  -2.62351   ],\n",
       "       [-15.939122  ,  -2.1626797 ],\n",
       "       [-17.104612  ,  -1.0963714 ],\n",
       "       [-17.270983  ,  -0.7941509 ],\n",
       "       [-17.380524  ,  -0.4721569 ],\n",
       "       [-17.57115   ,   0.29992   ],\n",
       "       [-17.594854  ,   0.49337313],\n",
       "       [-17.61257   ,   1.0816118 ]], dtype=float32)"
      ]
     },
     "execution_count": 32,
     "metadata": {},
     "output_type": "execute_result"
    }
   ],
   "source": [
    "# neighbourhoods_test = pd.read_csv('Neighbourhoods.csv')\n",
    "# len(neighbourhoods_test)\n",
    "# merged.drop(merged.index[0])\n",
    "# neighbourhoods[neighbourhoods.isnull().T.any()]\n",
    "# len(neighbourhoods)\n",
    "# neighbourhoods_test = neighbourhoods_test.drop(neighbourhoods_test[neighbourhoods_test.isnull().T.any()].index)\n",
    "# neighbourhoods.loc[neighbourhoods['area_id'] == 117011324]\n",
    "# len(gdf4)\n",
    "# merged2.loc[(merged2['hz']>=3) | (merged2['rz']>=3) | (merged2['az']>=3) | (merged2['cz']>=3) | (merged2['sz']>=3)]\n",
    "# ML_merged.sort_values('ML_Score', ascending=False)\n",
    "# merged2\n",
    "transformed"
   ]
  }
 ],
 "metadata": {
  "kernelspec": {
   "display_name": "Python 3",
   "language": "python",
   "name": "python3"
  },
  "language_info": {
   "codemirror_mode": {
    "name": "ipython",
    "version": 3
   },
   "file_extension": ".py",
   "mimetype": "text/x-python",
   "name": "python",
   "nbconvert_exporter": "python",
   "pygments_lexer": "ipython3",
   "version": "3.7.4"
  }
 },
 "nbformat": 4,
 "nbformat_minor": 4
}
